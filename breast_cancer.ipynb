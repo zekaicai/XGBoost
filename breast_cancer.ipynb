{
 "cells": [
  {
   "cell_type": "code",
   "execution_count": 7,
   "id": "d6f32bad-0039-42f4-87d0-dfe7bb38cd10",
   "metadata": {},
   "outputs": [
    {
     "name": "stdout",
     "output_type": "stream",
     "text": [
      "total: 569\n",
      "correct: 561\n",
      "accuracy: 0.9859402460456942\n",
      "auc: 0.9949593044765075\n"
     ]
    }
   ],
   "source": [
    "import sklearn.datasets\n",
    "from sklearn import metrics\n",
    "from XGBoostClassifier import XGBoostClassifier, accuracy, to_type\n",
    "\n",
    "dataset = sklearn.datasets.load_breast_cancer()\n",
    "data, target = dataset['data'], dataset['target']\n",
    "model = XGBoostClassifier(num_iters=3, num_bins=10, lr=0.01, alpha=0.01, gamma=0.01, max_depth=5)\n",
    "model.fit(data, target)\n",
    "result = model.transform(data)\n",
    "print('accuracy: ' + str(accuracy(to_type(result), target)))\n",
    "print('auc: ' + str(metrics.roc_auc_score(target,result)))"
   ]
  },
  {
   "cell_type": "code",
   "execution_count": null,
   "id": "36a4465a-caed-47f7-bf14-bc2dff476a8c",
   "metadata": {},
   "outputs": [],
   "source": []
  }
 ],
 "metadata": {
  "kernelspec": {
   "display_name": "Python 3",
   "language": "python",
   "name": "python3"
  },
  "language_info": {
   "codemirror_mode": {
    "name": "ipython",
    "version": 3
   },
   "file_extension": ".py",
   "mimetype": "text/x-python",
   "name": "python",
   "nbconvert_exporter": "python",
   "pygments_lexer": "ipython3",
   "version": "3.7.10"
  }
 },
 "nbformat": 4,
 "nbformat_minor": 5
}
