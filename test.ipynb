{
 "cells": [
  {
   "cell_type": "markdown",
   "metadata": {
    "collapsed": false
   },
   "source": [
    "## Test\n"
   ]
  },
  {
   "cell_type": "code",
   "execution_count": 1,
   "metadata": {
    "collapsed": false,
    "pycharm": {
     "name": "#%%\n"
    }
   },
   "outputs": [
    {
     "data": {
      "text/plain": "'hello'"
     },
     "execution_count": 1,
     "metadata": {},
     "output_type": "execute_result"
    }
   ],
   "source": [
    "import numpy as np\n",
    "\n",
    "'hello'"
   ]
  },
  {
   "cell_type": "code",
   "execution_count": 13,
   "metadata": {
    "collapsed": false,
    "pycharm": {
     "name": "#%%\n"
    }
   },
   "outputs": [],
   "source": [
    "from XGBoostRegressor import XGBoostRegressor"
   ]
  },
  {
   "cell_type": "code",
   "execution_count": 14,
   "metadata": {
    "collapsed": false,
    "pycharm": {
     "name": "#%%\n"
    }
   },
   "outputs": [
    {
     "name": "stdout",
     "output_type": "stream",
     "text": [
      "number of leaves: 1\n"
     ]
    },
    {
     "ename": "KeyboardInterrupt",
     "evalue": "",
     "output_type": "error",
     "traceback": [
      "\u001B[0;31m---------------------------------------------------------------------------\u001B[0m",
      "\u001B[0;31mKeyboardInterrupt\u001B[0m                         Traceback (most recent call last)",
      "\u001B[0;32m<ipython-input-14-bbdd7d7307d3>\u001B[0m in \u001B[0;36m<module>\u001B[0;34m\u001B[0m\n\u001B[1;32m      5\u001B[0m                          \u001B[0malpha\u001B[0m\u001B[0;34m=\u001B[0m\u001B[0;36m1\u001B[0m\u001B[0;34m,\u001B[0m \u001B[0mgamma\u001B[0m\u001B[0;34m=\u001B[0m\u001B[0;36m1\u001B[0m\u001B[0;34m,\u001B[0m\u001B[0;34m\u001B[0m\u001B[0;34m\u001B[0m\u001B[0m\n\u001B[1;32m      6\u001B[0m                         max_depth=10, anim=True)\n\u001B[0;32m----> 7\u001B[0;31m \u001B[0mmodel\u001B[0m\u001B[0;34m.\u001B[0m\u001B[0mfit\u001B[0m\u001B[0;34m(\u001B[0m\u001B[0mdata\u001B[0m\u001B[0;34m,\u001B[0m \u001B[0mtarget\u001B[0m\u001B[0;34m)\u001B[0m\u001B[0;34m\u001B[0m\u001B[0;34m\u001B[0m\u001B[0m\n\u001B[0m\u001B[1;32m      8\u001B[0m \u001B[0mresult\u001B[0m \u001B[0;34m=\u001B[0m \u001B[0mmodel\u001B[0m\u001B[0;34m.\u001B[0m\u001B[0mtransform\u001B[0m\u001B[0;34m(\u001B[0m\u001B[0mdata\u001B[0m\u001B[0;34m)\u001B[0m\u001B[0;34m\u001B[0m\u001B[0;34m\u001B[0m\u001B[0m\n\u001B[1;32m      9\u001B[0m \u001B[0;31m# print(amse(result, target))\u001B[0m\u001B[0;34m\u001B[0m\u001B[0;34m\u001B[0m\u001B[0;34m\u001B[0m\u001B[0m\n",
      "\u001B[0;32m~/PycharmProjects/XGBoost/XGBoostRegressor.py\u001B[0m in \u001B[0;36mfit\u001B[0;34m(self, x, y)\u001B[0m\n\u001B[1;32m     44\u001B[0m                 \u001B[0my_hat\u001B[0m \u001B[0;34m+=\u001B[0m \u001B[0mself\u001B[0m\u001B[0;34m.\u001B[0m\u001B[0mlr\u001B[0m \u001B[0;34m*\u001B[0m \u001B[0mcurr_predict\u001B[0m\u001B[0;34m\u001B[0m\u001B[0;34m\u001B[0m\u001B[0m\n\u001B[1;32m     45\u001B[0m             \u001B[0;32mif\u001B[0m \u001B[0mself\u001B[0m\u001B[0;34m.\u001B[0m\u001B[0manim\u001B[0m\u001B[0;34m:\u001B[0m\u001B[0;34m\u001B[0m\u001B[0;34m\u001B[0m\u001B[0m\n\u001B[0;32m---> 46\u001B[0;31m                 \u001B[0manimator\u001B[0m\u001B[0;34m.\u001B[0m\u001B[0madd\u001B[0m\u001B[0;34m(\u001B[0m\u001B[0mi\u001B[0m\u001B[0;34m,\u001B[0m \u001B[0mamse\u001B[0m\u001B[0;34m(\u001B[0m\u001B[0my\u001B[0m\u001B[0;34m,\u001B[0m \u001B[0my_hat\u001B[0m\u001B[0;34m)\u001B[0m \u001B[0;34m+\u001B[0m \u001B[0mcurr_tree\u001B[0m\u001B[0;34m.\u001B[0m\u001B[0mpenalty\u001B[0m\u001B[0;34m(\u001B[0m\u001B[0;34m)\u001B[0m\u001B[0;34m)\u001B[0m\u001B[0;34m\u001B[0m\u001B[0;34m\u001B[0m\u001B[0m\n\u001B[0m\u001B[1;32m     47\u001B[0m             \u001B[0mg\u001B[0m \u001B[0;34m=\u001B[0m \u001B[0my_hat\u001B[0m \u001B[0;34m-\u001B[0m \u001B[0my\u001B[0m\u001B[0;34m\u001B[0m\u001B[0;34m\u001B[0m\u001B[0m\n\u001B[1;32m     48\u001B[0m \u001B[0;34m\u001B[0m\u001B[0m\n",
      "\u001B[0;32m~/PycharmProjects/XGBoost/Animator.py\u001B[0m in \u001B[0;36madd\u001B[0;34m(self, x, y)\u001B[0m\n\u001B[1;32m     40\u001B[0m             \u001B[0mself\u001B[0m\u001B[0;34m.\u001B[0m\u001B[0maxes\u001B[0m\u001B[0;34m[\u001B[0m\u001B[0;36m0\u001B[0m\u001B[0;34m]\u001B[0m\u001B[0;34m.\u001B[0m\u001B[0mplot\u001B[0m\u001B[0;34m(\u001B[0m\u001B[0mx\u001B[0m\u001B[0;34m,\u001B[0m \u001B[0my\u001B[0m\u001B[0;34m,\u001B[0m \u001B[0mfmt\u001B[0m\u001B[0;34m)\u001B[0m\u001B[0;34m\u001B[0m\u001B[0;34m\u001B[0m\u001B[0m\n\u001B[1;32m     41\u001B[0m         \u001B[0mself\u001B[0m\u001B[0;34m.\u001B[0m\u001B[0mconfig_axes\u001B[0m\u001B[0;34m(\u001B[0m\u001B[0;34m)\u001B[0m\u001B[0;34m\u001B[0m\u001B[0;34m\u001B[0m\u001B[0m\n\u001B[0;32m---> 42\u001B[0;31m         \u001B[0mdisplay\u001B[0m\u001B[0;34m.\u001B[0m\u001B[0mdisplay\u001B[0m\u001B[0;34m(\u001B[0m\u001B[0mself\u001B[0m\u001B[0;34m.\u001B[0m\u001B[0mfig\u001B[0m\u001B[0;34m)\u001B[0m\u001B[0;34m\u001B[0m\u001B[0;34m\u001B[0m\u001B[0m\n\u001B[0m\u001B[1;32m     43\u001B[0m         \u001B[0mdisplay\u001B[0m\u001B[0;34m.\u001B[0m\u001B[0mclear_output\u001B[0m\u001B[0;34m(\u001B[0m\u001B[0mwait\u001B[0m\u001B[0;34m=\u001B[0m\u001B[0;32mTrue\u001B[0m\u001B[0;34m)\u001B[0m\u001B[0;34m\u001B[0m\u001B[0;34m\u001B[0m\u001B[0m\n",
      "\u001B[0;32m~/opt/anaconda3/envs/py37/lib/python3.7/site-packages/IPython/core/display.py\u001B[0m in \u001B[0;36mdisplay\u001B[0;34m(include, exclude, metadata, transient, display_id, *objs, **kwargs)\u001B[0m\n\u001B[1;32m    311\u001B[0m             \u001B[0mpublish_display_data\u001B[0m\u001B[0;34m(\u001B[0m\u001B[0mdata\u001B[0m\u001B[0;34m=\u001B[0m\u001B[0mobj\u001B[0m\u001B[0;34m,\u001B[0m \u001B[0mmetadata\u001B[0m\u001B[0;34m=\u001B[0m\u001B[0mmetadata\u001B[0m\u001B[0;34m,\u001B[0m \u001B[0;34m**\u001B[0m\u001B[0mkwargs\u001B[0m\u001B[0;34m)\u001B[0m\u001B[0;34m\u001B[0m\u001B[0;34m\u001B[0m\u001B[0m\n\u001B[1;32m    312\u001B[0m         \u001B[0;32melse\u001B[0m\u001B[0;34m:\u001B[0m\u001B[0;34m\u001B[0m\u001B[0;34m\u001B[0m\u001B[0m\n\u001B[0;32m--> 313\u001B[0;31m             \u001B[0mformat_dict\u001B[0m\u001B[0;34m,\u001B[0m \u001B[0mmd_dict\u001B[0m \u001B[0;34m=\u001B[0m \u001B[0mformat\u001B[0m\u001B[0;34m(\u001B[0m\u001B[0mobj\u001B[0m\u001B[0;34m,\u001B[0m \u001B[0minclude\u001B[0m\u001B[0;34m=\u001B[0m\u001B[0minclude\u001B[0m\u001B[0;34m,\u001B[0m \u001B[0mexclude\u001B[0m\u001B[0;34m=\u001B[0m\u001B[0mexclude\u001B[0m\u001B[0;34m)\u001B[0m\u001B[0;34m\u001B[0m\u001B[0;34m\u001B[0m\u001B[0m\n\u001B[0m\u001B[1;32m    314\u001B[0m             \u001B[0;32mif\u001B[0m \u001B[0;32mnot\u001B[0m \u001B[0mformat_dict\u001B[0m\u001B[0;34m:\u001B[0m\u001B[0;34m\u001B[0m\u001B[0;34m\u001B[0m\u001B[0m\n\u001B[1;32m    315\u001B[0m                 \u001B[0;31m# nothing to display (e.g. _ipython_display_ took over)\u001B[0m\u001B[0;34m\u001B[0m\u001B[0;34m\u001B[0m\u001B[0;34m\u001B[0m\u001B[0m\n",
      "\u001B[0;32m~/opt/anaconda3/envs/py37/lib/python3.7/site-packages/IPython/core/formatters.py\u001B[0m in \u001B[0;36mformat\u001B[0;34m(self, obj, include, exclude)\u001B[0m\n\u001B[1;32m    178\u001B[0m             \u001B[0mmd\u001B[0m \u001B[0;34m=\u001B[0m \u001B[0;32mNone\u001B[0m\u001B[0;34m\u001B[0m\u001B[0;34m\u001B[0m\u001B[0m\n\u001B[1;32m    179\u001B[0m             \u001B[0;32mtry\u001B[0m\u001B[0;34m:\u001B[0m\u001B[0;34m\u001B[0m\u001B[0;34m\u001B[0m\u001B[0m\n\u001B[0;32m--> 180\u001B[0;31m                 \u001B[0mdata\u001B[0m \u001B[0;34m=\u001B[0m \u001B[0mformatter\u001B[0m\u001B[0;34m(\u001B[0m\u001B[0mobj\u001B[0m\u001B[0;34m)\u001B[0m\u001B[0;34m\u001B[0m\u001B[0;34m\u001B[0m\u001B[0m\n\u001B[0m\u001B[1;32m    181\u001B[0m             \u001B[0;32mexcept\u001B[0m\u001B[0;34m:\u001B[0m\u001B[0;34m\u001B[0m\u001B[0;34m\u001B[0m\u001B[0m\n\u001B[1;32m    182\u001B[0m                 \u001B[0;31m# FIXME: log the exception\u001B[0m\u001B[0;34m\u001B[0m\u001B[0;34m\u001B[0m\u001B[0;34m\u001B[0m\u001B[0m\n",
      "\u001B[0;32m~/opt/anaconda3/envs/py37/lib/python3.7/site-packages/decorator.py\u001B[0m in \u001B[0;36mfun\u001B[0;34m(*args, **kw)\u001B[0m\n\u001B[1;32m    230\u001B[0m             \u001B[0;32mif\u001B[0m \u001B[0;32mnot\u001B[0m \u001B[0mkwsyntax\u001B[0m\u001B[0;34m:\u001B[0m\u001B[0;34m\u001B[0m\u001B[0;34m\u001B[0m\u001B[0m\n\u001B[1;32m    231\u001B[0m                 \u001B[0margs\u001B[0m\u001B[0;34m,\u001B[0m \u001B[0mkw\u001B[0m \u001B[0;34m=\u001B[0m \u001B[0mfix\u001B[0m\u001B[0;34m(\u001B[0m\u001B[0margs\u001B[0m\u001B[0;34m,\u001B[0m \u001B[0mkw\u001B[0m\u001B[0;34m,\u001B[0m \u001B[0msig\u001B[0m\u001B[0;34m)\u001B[0m\u001B[0;34m\u001B[0m\u001B[0;34m\u001B[0m\u001B[0m\n\u001B[0;32m--> 232\u001B[0;31m             \u001B[0;32mreturn\u001B[0m \u001B[0mcaller\u001B[0m\u001B[0;34m(\u001B[0m\u001B[0mfunc\u001B[0m\u001B[0;34m,\u001B[0m \u001B[0;34m*\u001B[0m\u001B[0;34m(\u001B[0m\u001B[0mextras\u001B[0m \u001B[0;34m+\u001B[0m \u001B[0margs\u001B[0m\u001B[0;34m)\u001B[0m\u001B[0;34m,\u001B[0m \u001B[0;34m**\u001B[0m\u001B[0mkw\u001B[0m\u001B[0;34m)\u001B[0m\u001B[0;34m\u001B[0m\u001B[0;34m\u001B[0m\u001B[0m\n\u001B[0m\u001B[1;32m    233\u001B[0m     \u001B[0mfun\u001B[0m\u001B[0;34m.\u001B[0m\u001B[0m__name__\u001B[0m \u001B[0;34m=\u001B[0m \u001B[0mfunc\u001B[0m\u001B[0;34m.\u001B[0m\u001B[0m__name__\u001B[0m\u001B[0;34m\u001B[0m\u001B[0;34m\u001B[0m\u001B[0m\n\u001B[1;32m    234\u001B[0m     \u001B[0mfun\u001B[0m\u001B[0;34m.\u001B[0m\u001B[0m__doc__\u001B[0m \u001B[0;34m=\u001B[0m \u001B[0mfunc\u001B[0m\u001B[0;34m.\u001B[0m\u001B[0m__doc__\u001B[0m\u001B[0;34m\u001B[0m\u001B[0;34m\u001B[0m\u001B[0m\n",
      "\u001B[0;32m~/opt/anaconda3/envs/py37/lib/python3.7/site-packages/IPython/core/formatters.py\u001B[0m in \u001B[0;36mcatch_format_error\u001B[0;34m(method, self, *args, **kwargs)\u001B[0m\n\u001B[1;32m    222\u001B[0m     \u001B[0;34m\"\"\"show traceback on failed format call\"\"\"\u001B[0m\u001B[0;34m\u001B[0m\u001B[0;34m\u001B[0m\u001B[0m\n\u001B[1;32m    223\u001B[0m     \u001B[0;32mtry\u001B[0m\u001B[0;34m:\u001B[0m\u001B[0;34m\u001B[0m\u001B[0;34m\u001B[0m\u001B[0m\n\u001B[0;32m--> 224\u001B[0;31m         \u001B[0mr\u001B[0m \u001B[0;34m=\u001B[0m \u001B[0mmethod\u001B[0m\u001B[0;34m(\u001B[0m\u001B[0mself\u001B[0m\u001B[0;34m,\u001B[0m \u001B[0;34m*\u001B[0m\u001B[0margs\u001B[0m\u001B[0;34m,\u001B[0m \u001B[0;34m**\u001B[0m\u001B[0mkwargs\u001B[0m\u001B[0;34m)\u001B[0m\u001B[0;34m\u001B[0m\u001B[0;34m\u001B[0m\u001B[0m\n\u001B[0m\u001B[1;32m    225\u001B[0m     \u001B[0;32mexcept\u001B[0m \u001B[0mNotImplementedError\u001B[0m\u001B[0;34m:\u001B[0m\u001B[0;34m\u001B[0m\u001B[0;34m\u001B[0m\u001B[0m\n\u001B[1;32m    226\u001B[0m         \u001B[0;31m# don't warn on NotImplementedErrors\u001B[0m\u001B[0;34m\u001B[0m\u001B[0;34m\u001B[0m\u001B[0;34m\u001B[0m\u001B[0m\n",
      "\u001B[0;32m~/opt/anaconda3/envs/py37/lib/python3.7/site-packages/IPython/core/formatters.py\u001B[0m in \u001B[0;36m__call__\u001B[0;34m(self, obj)\u001B[0m\n\u001B[1;32m    339\u001B[0m                 \u001B[0;32mpass\u001B[0m\u001B[0;34m\u001B[0m\u001B[0;34m\u001B[0m\u001B[0m\n\u001B[1;32m    340\u001B[0m             \u001B[0;32melse\u001B[0m\u001B[0;34m:\u001B[0m\u001B[0;34m\u001B[0m\u001B[0;34m\u001B[0m\u001B[0m\n\u001B[0;32m--> 341\u001B[0;31m                 \u001B[0;32mreturn\u001B[0m \u001B[0mprinter\u001B[0m\u001B[0;34m(\u001B[0m\u001B[0mobj\u001B[0m\u001B[0;34m)\u001B[0m\u001B[0;34m\u001B[0m\u001B[0;34m\u001B[0m\u001B[0m\n\u001B[0m\u001B[1;32m    342\u001B[0m             \u001B[0;31m# Finally look for special method names\u001B[0m\u001B[0;34m\u001B[0m\u001B[0;34m\u001B[0m\u001B[0;34m\u001B[0m\u001B[0m\n\u001B[1;32m    343\u001B[0m             \u001B[0mmethod\u001B[0m \u001B[0;34m=\u001B[0m \u001B[0mget_real_method\u001B[0m\u001B[0;34m(\u001B[0m\u001B[0mobj\u001B[0m\u001B[0;34m,\u001B[0m \u001B[0mself\u001B[0m\u001B[0;34m.\u001B[0m\u001B[0mprint_method\u001B[0m\u001B[0;34m)\u001B[0m\u001B[0;34m\u001B[0m\u001B[0;34m\u001B[0m\u001B[0m\n",
      "\u001B[0;32m~/opt/anaconda3/envs/py37/lib/python3.7/site-packages/IPython/core/pylabtools.py\u001B[0m in \u001B[0;36m<lambda>\u001B[0;34m(fig)\u001B[0m\n\u001B[1;32m    252\u001B[0m         \u001B[0mjpg_formatter\u001B[0m\u001B[0;34m.\u001B[0m\u001B[0mfor_type\u001B[0m\u001B[0;34m(\u001B[0m\u001B[0mFigure\u001B[0m\u001B[0;34m,\u001B[0m \u001B[0;32mlambda\u001B[0m \u001B[0mfig\u001B[0m\u001B[0;34m:\u001B[0m \u001B[0mprint_figure\u001B[0m\u001B[0;34m(\u001B[0m\u001B[0mfig\u001B[0m\u001B[0;34m,\u001B[0m \u001B[0;34m'jpg'\u001B[0m\u001B[0;34m,\u001B[0m \u001B[0;34m**\u001B[0m\u001B[0mkwargs\u001B[0m\u001B[0;34m)\u001B[0m\u001B[0;34m)\u001B[0m\u001B[0;34m\u001B[0m\u001B[0;34m\u001B[0m\u001B[0m\n\u001B[1;32m    253\u001B[0m     \u001B[0;32mif\u001B[0m \u001B[0;34m'svg'\u001B[0m \u001B[0;32min\u001B[0m \u001B[0mformats\u001B[0m\u001B[0;34m:\u001B[0m\u001B[0;34m\u001B[0m\u001B[0;34m\u001B[0m\u001B[0m\n\u001B[0;32m--> 254\u001B[0;31m         \u001B[0msvg_formatter\u001B[0m\u001B[0;34m.\u001B[0m\u001B[0mfor_type\u001B[0m\u001B[0;34m(\u001B[0m\u001B[0mFigure\u001B[0m\u001B[0;34m,\u001B[0m \u001B[0;32mlambda\u001B[0m \u001B[0mfig\u001B[0m\u001B[0;34m:\u001B[0m \u001B[0mprint_figure\u001B[0m\u001B[0;34m(\u001B[0m\u001B[0mfig\u001B[0m\u001B[0;34m,\u001B[0m \u001B[0;34m'svg'\u001B[0m\u001B[0;34m,\u001B[0m \u001B[0;34m**\u001B[0m\u001B[0mkwargs\u001B[0m\u001B[0;34m)\u001B[0m\u001B[0;34m)\u001B[0m\u001B[0;34m\u001B[0m\u001B[0;34m\u001B[0m\u001B[0m\n\u001B[0m\u001B[1;32m    255\u001B[0m     \u001B[0;32mif\u001B[0m \u001B[0;34m'pdf'\u001B[0m \u001B[0;32min\u001B[0m \u001B[0mformats\u001B[0m\u001B[0;34m:\u001B[0m\u001B[0;34m\u001B[0m\u001B[0;34m\u001B[0m\u001B[0m\n\u001B[1;32m    256\u001B[0m         \u001B[0mpdf_formatter\u001B[0m\u001B[0;34m.\u001B[0m\u001B[0mfor_type\u001B[0m\u001B[0;34m(\u001B[0m\u001B[0mFigure\u001B[0m\u001B[0;34m,\u001B[0m \u001B[0;32mlambda\u001B[0m \u001B[0mfig\u001B[0m\u001B[0;34m:\u001B[0m \u001B[0mprint_figure\u001B[0m\u001B[0;34m(\u001B[0m\u001B[0mfig\u001B[0m\u001B[0;34m,\u001B[0m \u001B[0;34m'pdf'\u001B[0m\u001B[0;34m,\u001B[0m \u001B[0;34m**\u001B[0m\u001B[0mkwargs\u001B[0m\u001B[0;34m)\u001B[0m\u001B[0;34m)\u001B[0m\u001B[0;34m\u001B[0m\u001B[0;34m\u001B[0m\u001B[0m\n",
      "\u001B[0;32m~/opt/anaconda3/envs/py37/lib/python3.7/site-packages/IPython/core/pylabtools.py\u001B[0m in \u001B[0;36mprint_figure\u001B[0;34m(fig, fmt, bbox_inches, **kwargs)\u001B[0m\n\u001B[1;32m    130\u001B[0m         \u001B[0mFigureCanvasBase\u001B[0m\u001B[0;34m(\u001B[0m\u001B[0mfig\u001B[0m\u001B[0;34m)\u001B[0m\u001B[0;34m\u001B[0m\u001B[0;34m\u001B[0m\u001B[0m\n\u001B[1;32m    131\u001B[0m \u001B[0;34m\u001B[0m\u001B[0m\n\u001B[0;32m--> 132\u001B[0;31m     \u001B[0mfig\u001B[0m\u001B[0;34m.\u001B[0m\u001B[0mcanvas\u001B[0m\u001B[0;34m.\u001B[0m\u001B[0mprint_figure\u001B[0m\u001B[0;34m(\u001B[0m\u001B[0mbytes_io\u001B[0m\u001B[0;34m,\u001B[0m \u001B[0;34m**\u001B[0m\u001B[0mkw\u001B[0m\u001B[0;34m)\u001B[0m\u001B[0;34m\u001B[0m\u001B[0;34m\u001B[0m\u001B[0m\n\u001B[0m\u001B[1;32m    133\u001B[0m     \u001B[0mdata\u001B[0m \u001B[0;34m=\u001B[0m \u001B[0mbytes_io\u001B[0m\u001B[0;34m.\u001B[0m\u001B[0mgetvalue\u001B[0m\u001B[0;34m(\u001B[0m\u001B[0;34m)\u001B[0m\u001B[0;34m\u001B[0m\u001B[0;34m\u001B[0m\u001B[0m\n\u001B[1;32m    134\u001B[0m     \u001B[0;32mif\u001B[0m \u001B[0mfmt\u001B[0m \u001B[0;34m==\u001B[0m \u001B[0;34m'svg'\u001B[0m\u001B[0;34m:\u001B[0m\u001B[0;34m\u001B[0m\u001B[0;34m\u001B[0m\u001B[0m\n",
      "\u001B[0;32m~/opt/anaconda3/envs/py37/lib/python3.7/site-packages/matplotlib/backend_bases.py\u001B[0m in \u001B[0;36mprint_figure\u001B[0;34m(self, filename, dpi, facecolor, edgecolor, orientation, format, bbox_inches, pad_inches, bbox_extra_artists, backend, **kwargs)\u001B[0m\n\u001B[1;32m   2233\u001B[0m                 \u001B[0;32mif\u001B[0m \u001B[0mbbox_inches\u001B[0m \u001B[0;34m==\u001B[0m \u001B[0;34m\"tight\"\u001B[0m\u001B[0;34m:\u001B[0m\u001B[0;34m\u001B[0m\u001B[0;34m\u001B[0m\u001B[0m\n\u001B[1;32m   2234\u001B[0m                     bbox_inches = self.figure.get_tightbbox(\n\u001B[0;32m-> 2235\u001B[0;31m                         renderer, bbox_extra_artists=bbox_extra_artists)\n\u001B[0m\u001B[1;32m   2236\u001B[0m                     \u001B[0;32mif\u001B[0m \u001B[0mpad_inches\u001B[0m \u001B[0;32mis\u001B[0m \u001B[0;32mNone\u001B[0m\u001B[0;34m:\u001B[0m\u001B[0;34m\u001B[0m\u001B[0;34m\u001B[0m\u001B[0m\n\u001B[1;32m   2237\u001B[0m                         \u001B[0mpad_inches\u001B[0m \u001B[0;34m=\u001B[0m \u001B[0mrcParams\u001B[0m\u001B[0;34m[\u001B[0m\u001B[0;34m'savefig.pad_inches'\u001B[0m\u001B[0;34m]\u001B[0m\u001B[0;34m\u001B[0m\u001B[0;34m\u001B[0m\u001B[0m\n",
      "\u001B[0;32m~/opt/anaconda3/envs/py37/lib/python3.7/site-packages/matplotlib/figure.py\u001B[0m in \u001B[0;36mget_tightbbox\u001B[0;34m(self, renderer, bbox_extra_artists)\u001B[0m\n\u001B[1;32m   1634\u001B[0m \u001B[0;34m\u001B[0m\u001B[0m\n\u001B[1;32m   1635\u001B[0m         \u001B[0;32mfor\u001B[0m \u001B[0ma\u001B[0m \u001B[0;32min\u001B[0m \u001B[0martists\u001B[0m\u001B[0;34m:\u001B[0m\u001B[0;34m\u001B[0m\u001B[0;34m\u001B[0m\u001B[0m\n\u001B[0;32m-> 1636\u001B[0;31m             \u001B[0mbbox\u001B[0m \u001B[0;34m=\u001B[0m \u001B[0ma\u001B[0m\u001B[0;34m.\u001B[0m\u001B[0mget_tightbbox\u001B[0m\u001B[0;34m(\u001B[0m\u001B[0mrenderer\u001B[0m\u001B[0;34m)\u001B[0m\u001B[0;34m\u001B[0m\u001B[0;34m\u001B[0m\u001B[0m\n\u001B[0m\u001B[1;32m   1637\u001B[0m             \u001B[0;32mif\u001B[0m \u001B[0mbbox\u001B[0m \u001B[0;32mis\u001B[0m \u001B[0;32mnot\u001B[0m \u001B[0;32mNone\u001B[0m \u001B[0;32mand\u001B[0m \u001B[0;34m(\u001B[0m\u001B[0mbbox\u001B[0m\u001B[0;34m.\u001B[0m\u001B[0mwidth\u001B[0m \u001B[0;34m!=\u001B[0m \u001B[0;36m0\u001B[0m \u001B[0;32mor\u001B[0m \u001B[0mbbox\u001B[0m\u001B[0;34m.\u001B[0m\u001B[0mheight\u001B[0m \u001B[0;34m!=\u001B[0m \u001B[0;36m0\u001B[0m\u001B[0;34m)\u001B[0m\u001B[0;34m:\u001B[0m\u001B[0;34m\u001B[0m\u001B[0;34m\u001B[0m\u001B[0m\n\u001B[1;32m   1638\u001B[0m                 \u001B[0mbb\u001B[0m\u001B[0;34m.\u001B[0m\u001B[0mappend\u001B[0m\u001B[0;34m(\u001B[0m\u001B[0mbbox\u001B[0m\u001B[0;34m)\u001B[0m\u001B[0;34m\u001B[0m\u001B[0;34m\u001B[0m\u001B[0m\n",
      "\u001B[0;32m~/opt/anaconda3/envs/py37/lib/python3.7/site-packages/matplotlib/axes/_base.py\u001B[0m in \u001B[0;36mget_tightbbox\u001B[0;34m(self, renderer, call_axes_locator, bbox_extra_artists, for_layout_only)\u001B[0m\n\u001B[1;32m   4436\u001B[0m                 \u001B[0;32mtry\u001B[0m\u001B[0;34m:\u001B[0m\u001B[0;34m\u001B[0m\u001B[0;34m\u001B[0m\u001B[0m\n\u001B[1;32m   4437\u001B[0m                     bb_xaxis = self.xaxis.get_tightbbox(\n\u001B[0;32m-> 4438\u001B[0;31m                         renderer, for_layout_only=for_layout_only)\n\u001B[0m\u001B[1;32m   4439\u001B[0m                 \u001B[0;32mexcept\u001B[0m \u001B[0mTypeError\u001B[0m\u001B[0;34m:\u001B[0m\u001B[0;34m\u001B[0m\u001B[0;34m\u001B[0m\u001B[0m\n\u001B[1;32m   4440\u001B[0m                     \u001B[0;31m# in case downstream library has redefined axis:\u001B[0m\u001B[0;34m\u001B[0m\u001B[0;34m\u001B[0m\u001B[0;34m\u001B[0m\u001B[0m\n",
      "\u001B[0;32m~/opt/anaconda3/envs/py37/lib/python3.7/site-packages/matplotlib/axis.py\u001B[0m in \u001B[0;36mget_tightbbox\u001B[0;34m(self, renderer, for_layout_only)\u001B[0m\n\u001B[1;32m   1081\u001B[0m         \u001B[0mticks_to_draw\u001B[0m \u001B[0;34m=\u001B[0m \u001B[0mself\u001B[0m\u001B[0;34m.\u001B[0m\u001B[0m_update_ticks\u001B[0m\u001B[0;34m(\u001B[0m\u001B[0;34m)\u001B[0m\u001B[0;34m\u001B[0m\u001B[0;34m\u001B[0m\u001B[0m\n\u001B[1;32m   1082\u001B[0m \u001B[0;34m\u001B[0m\u001B[0m\n\u001B[0;32m-> 1083\u001B[0;31m         \u001B[0mself\u001B[0m\u001B[0;34m.\u001B[0m\u001B[0m_update_label_position\u001B[0m\u001B[0;34m(\u001B[0m\u001B[0mrenderer\u001B[0m\u001B[0;34m)\u001B[0m\u001B[0;34m\u001B[0m\u001B[0;34m\u001B[0m\u001B[0m\n\u001B[0m\u001B[1;32m   1084\u001B[0m \u001B[0;34m\u001B[0m\u001B[0m\n\u001B[1;32m   1085\u001B[0m         \u001B[0;31m# go back to just this axis's tick labels\u001B[0m\u001B[0;34m\u001B[0m\u001B[0;34m\u001B[0m\u001B[0;34m\u001B[0m\u001B[0m\n",
      "\u001B[0;32m~/opt/anaconda3/envs/py37/lib/python3.7/site-packages/matplotlib/axis.py\u001B[0m in \u001B[0;36m_update_label_position\u001B[0;34m(self, renderer)\u001B[0m\n\u001B[1;32m   2078\u001B[0m         \u001B[0;31m# get bounding boxes for this axis and any siblings\u001B[0m\u001B[0;34m\u001B[0m\u001B[0;34m\u001B[0m\u001B[0;34m\u001B[0m\u001B[0m\n\u001B[1;32m   2079\u001B[0m         \u001B[0;31m# that have been set by `fig.align_xlabels()`\u001B[0m\u001B[0;34m\u001B[0m\u001B[0;34m\u001B[0m\u001B[0;34m\u001B[0m\u001B[0m\n\u001B[0;32m-> 2080\u001B[0;31m         \u001B[0mbboxes\u001B[0m\u001B[0;34m,\u001B[0m \u001B[0mbboxes2\u001B[0m \u001B[0;34m=\u001B[0m \u001B[0mself\u001B[0m\u001B[0;34m.\u001B[0m\u001B[0m_get_tick_boxes_siblings\u001B[0m\u001B[0;34m(\u001B[0m\u001B[0mrenderer\u001B[0m\u001B[0;34m=\u001B[0m\u001B[0mrenderer\u001B[0m\u001B[0;34m)\u001B[0m\u001B[0;34m\u001B[0m\u001B[0;34m\u001B[0m\u001B[0m\n\u001B[0m\u001B[1;32m   2081\u001B[0m \u001B[0;34m\u001B[0m\u001B[0m\n\u001B[1;32m   2082\u001B[0m         \u001B[0mx\u001B[0m\u001B[0;34m,\u001B[0m \u001B[0my\u001B[0m \u001B[0;34m=\u001B[0m \u001B[0mself\u001B[0m\u001B[0;34m.\u001B[0m\u001B[0mlabel\u001B[0m\u001B[0;34m.\u001B[0m\u001B[0mget_position\u001B[0m\u001B[0;34m(\u001B[0m\u001B[0;34m)\u001B[0m\u001B[0;34m\u001B[0m\u001B[0;34m\u001B[0m\u001B[0m\n",
      "\u001B[0;32m~/opt/anaconda3/envs/py37/lib/python3.7/site-packages/matplotlib/axis.py\u001B[0m in \u001B[0;36m_get_tick_boxes_siblings\u001B[0;34m(self, renderer)\u001B[0m\n\u001B[1;32m   1866\u001B[0m             \u001B[0maxis\u001B[0m \u001B[0;34m=\u001B[0m \u001B[0max\u001B[0m\u001B[0;34m.\u001B[0m\u001B[0m_get_axis_map\u001B[0m\u001B[0;34m(\u001B[0m\u001B[0;34m)\u001B[0m\u001B[0;34m[\u001B[0m\u001B[0maxis_name\u001B[0m\u001B[0;34m]\u001B[0m\u001B[0;34m\u001B[0m\u001B[0;34m\u001B[0m\u001B[0m\n\u001B[1;32m   1867\u001B[0m             \u001B[0mticks_to_draw\u001B[0m \u001B[0;34m=\u001B[0m \u001B[0maxis\u001B[0m\u001B[0;34m.\u001B[0m\u001B[0m_update_ticks\u001B[0m\u001B[0;34m(\u001B[0m\u001B[0;34m)\u001B[0m\u001B[0;34m\u001B[0m\u001B[0;34m\u001B[0m\u001B[0m\n\u001B[0;32m-> 1868\u001B[0;31m             \u001B[0mtlb\u001B[0m\u001B[0;34m,\u001B[0m \u001B[0mtlb2\u001B[0m \u001B[0;34m=\u001B[0m \u001B[0maxis\u001B[0m\u001B[0;34m.\u001B[0m\u001B[0m_get_tick_bboxes\u001B[0m\u001B[0;34m(\u001B[0m\u001B[0mticks_to_draw\u001B[0m\u001B[0;34m,\u001B[0m \u001B[0mrenderer\u001B[0m\u001B[0;34m)\u001B[0m\u001B[0;34m\u001B[0m\u001B[0;34m\u001B[0m\u001B[0m\n\u001B[0m\u001B[1;32m   1869\u001B[0m             \u001B[0mbboxes\u001B[0m\u001B[0;34m.\u001B[0m\u001B[0mextend\u001B[0m\u001B[0;34m(\u001B[0m\u001B[0mtlb\u001B[0m\u001B[0;34m)\u001B[0m\u001B[0;34m\u001B[0m\u001B[0;34m\u001B[0m\u001B[0m\n\u001B[1;32m   1870\u001B[0m             \u001B[0mbboxes2\u001B[0m\u001B[0;34m.\u001B[0m\u001B[0mextend\u001B[0m\u001B[0;34m(\u001B[0m\u001B[0mtlb2\u001B[0m\u001B[0;34m)\u001B[0m\u001B[0;34m\u001B[0m\u001B[0;34m\u001B[0m\u001B[0m\n",
      "\u001B[0;32m~/opt/anaconda3/envs/py37/lib/python3.7/site-packages/matplotlib/axis.py\u001B[0m in \u001B[0;36m_get_tick_bboxes\u001B[0;34m(self, ticks, renderer)\u001B[0m\n\u001B[1;32m   1062\u001B[0m         \u001B[0;34m\"\"\"Return lists of bboxes for ticks' label1's and label2's.\"\"\"\u001B[0m\u001B[0;34m\u001B[0m\u001B[0;34m\u001B[0m\u001B[0m\n\u001B[1;32m   1063\u001B[0m         return ([tick.label1.get_window_extent(renderer)\n\u001B[0;32m-> 1064\u001B[0;31m                  for tick in ticks if tick.label1.get_visible()],\n\u001B[0m\u001B[1;32m   1065\u001B[0m                 [tick.label2.get_window_extent(renderer)\n\u001B[1;32m   1066\u001B[0m                  for tick in ticks if tick.label2.get_visible()])\n",
      "\u001B[0;32m~/opt/anaconda3/envs/py37/lib/python3.7/site-packages/matplotlib/axis.py\u001B[0m in \u001B[0;36m<listcomp>\u001B[0;34m(.0)\u001B[0m\n\u001B[1;32m   1061\u001B[0m     \u001B[0;32mdef\u001B[0m \u001B[0m_get_tick_bboxes\u001B[0m\u001B[0;34m(\u001B[0m\u001B[0mself\u001B[0m\u001B[0;34m,\u001B[0m \u001B[0mticks\u001B[0m\u001B[0;34m,\u001B[0m \u001B[0mrenderer\u001B[0m\u001B[0;34m)\u001B[0m\u001B[0;34m:\u001B[0m\u001B[0;34m\u001B[0m\u001B[0;34m\u001B[0m\u001B[0m\n\u001B[1;32m   1062\u001B[0m         \u001B[0;34m\"\"\"Return lists of bboxes for ticks' label1's and label2's.\"\"\"\u001B[0m\u001B[0;34m\u001B[0m\u001B[0;34m\u001B[0m\u001B[0m\n\u001B[0;32m-> 1063\u001B[0;31m         return ([tick.label1.get_window_extent(renderer)\n\u001B[0m\u001B[1;32m   1064\u001B[0m                  for tick in ticks if tick.label1.get_visible()],\n\u001B[1;32m   1065\u001B[0m                 [tick.label2.get_window_extent(renderer)\n",
      "\u001B[0;31mKeyboardInterrupt\u001B[0m: "
     ]
    },
    {
     "data": {
      "text/plain": "<Figure size 252x180 with 1 Axes>",
      "image/svg+xml": "<?xml version=\"1.0\" encoding=\"utf-8\" standalone=\"no\"?>\n<!DOCTYPE svg PUBLIC \"-//W3C//DTD SVG 1.1//EN\"\n  \"http://www.w3.org/Graphics/SVG/1.1/DTD/svg11.dtd\">\n<svg height=\"184.455469pt\" version=\"1.1\" viewBox=\"0 0 245.328125 184.455469\" width=\"245.328125pt\" xmlns=\"http://www.w3.org/2000/svg\" xmlns:xlink=\"http://www.w3.org/1999/xlink\">\n <metadata>\n  <rdf:RDF xmlns:cc=\"http://creativecommons.org/ns#\" xmlns:dc=\"http://purl.org/dc/elements/1.1/\" xmlns:rdf=\"http://www.w3.org/1999/02/22-rdf-syntax-ns#\">\n   <cc:Work>\n    <dc:type rdf:resource=\"http://purl.org/dc/dcmitype/StillImage\"/>\n    <dc:date>2021-10-26T13:11:12.188067</dc:date>\n    <dc:format>image/svg+xml</dc:format>\n    <dc:creator>\n     <cc:Agent>\n      <dc:title>Matplotlib v3.4.2, https://matplotlib.org/</dc:title>\n     </cc:Agent>\n    </dc:creator>\n   </cc:Work>\n  </rdf:RDF>\n </metadata>\n <defs>\n  <style type=\"text/css\">*{stroke-linecap:butt;stroke-linejoin:round;}</style>\n </defs>\n <g id=\"figure_1\">\n  <g id=\"patch_1\">\n   <path d=\"M 0 184.455469 \nL 245.328125 184.455469 \nL 245.328125 -0 \nL 0 -0 \nz\n\" style=\"fill:none;\"/>\n  </g>\n  <g id=\"axes_1\">\n   <g id=\"patch_2\">\n    <path d=\"M 30.103125 146.899219 \nL 225.403125 146.899219 \nL 225.403125 10.999219 \nL 30.103125 10.999219 \nz\n\" style=\"fill:#ffffff;\"/>\n   </g>\n   <g id=\"matplotlib.axis_1\">\n    <g id=\"xtick_1\">\n     <g id=\"line2d_1\">\n      <path clip-path=\"url(#pae9198df3d)\" d=\"M 30.103125 146.899219 \nL 30.103125 10.999219 \n\" style=\"fill:none;stroke:#b0b0b0;stroke-linecap:square;stroke-width:0.8;\"/>\n     </g>\n     <g id=\"line2d_2\">\n      <defs>\n       <path d=\"M 0 0 \nL 0 3.5 \n\" id=\"m0988eb523e\" style=\"stroke:#000000;stroke-width:0.8;\"/>\n      </defs>\n      <g>\n       <use style=\"stroke:#000000;stroke-width:0.8;\" x=\"30.103125\" xlink:href=\"#m0988eb523e\" y=\"146.899219\"/>\n      </g>\n     </g>\n     <g id=\"line2d_3\">\n      <defs>\n       <path d=\"M 0 0 \nL 0 -3.5 \n\" id=\"ma4bcee0535\" style=\"stroke:#000000;stroke-width:0.8;\"/>\n      </defs>\n      <g>\n       <use style=\"stroke:#000000;stroke-width:0.8;\" x=\"30.103125\" xlink:href=\"#ma4bcee0535\" y=\"10.999219\"/>\n      </g>\n     </g>\n     <g id=\"text_1\">\n      <!-- 0 -->\n      <g transform=\"translate(26.921875 161.497656)scale(0.1 -0.1)\">\n       <defs>\n        <path d=\"M 2034 4250 \nQ 1547 4250 1301 3770 \nQ 1056 3291 1056 2328 \nQ 1056 1369 1301 889 \nQ 1547 409 2034 409 \nQ 2525 409 2770 889 \nQ 3016 1369 3016 2328 \nQ 3016 3291 2770 3770 \nQ 2525 4250 2034 4250 \nz\nM 2034 4750 \nQ 2819 4750 3233 4129 \nQ 3647 3509 3647 2328 \nQ 3647 1150 3233 529 \nQ 2819 -91 2034 -91 \nQ 1250 -91 836 529 \nQ 422 1150 422 2328 \nQ 422 3509 836 4129 \nQ 1250 4750 2034 4750 \nz\n\" id=\"DejaVuSans-30\" transform=\"scale(0.015625)\"/>\n       </defs>\n       <use xlink:href=\"#DejaVuSans-30\"/>\n      </g>\n     </g>\n    </g>\n    <g id=\"xtick_2\">\n     <g id=\"line2d_4\">\n      <path clip-path=\"url(#pae9198df3d)\" d=\"M 69.163125 146.899219 \nL 69.163125 10.999219 \n\" style=\"fill:none;stroke:#b0b0b0;stroke-linecap:square;stroke-width:0.8;\"/>\n     </g>\n     <g id=\"line2d_5\">\n      <g>\n       <use style=\"stroke:#000000;stroke-width:0.8;\" x=\"69.163125\" xlink:href=\"#m0988eb523e\" y=\"146.899219\"/>\n      </g>\n     </g>\n     <g id=\"line2d_6\">\n      <g>\n       <use style=\"stroke:#000000;stroke-width:0.8;\" x=\"69.163125\" xlink:href=\"#ma4bcee0535\" y=\"10.999219\"/>\n      </g>\n     </g>\n     <g id=\"text_2\">\n      <!-- 200 -->\n      <g transform=\"translate(59.619375 161.497656)scale(0.1 -0.1)\">\n       <defs>\n        <path d=\"M 1228 531 \nL 3431 531 \nL 3431 0 \nL 469 0 \nL 469 531 \nQ 828 903 1448 1529 \nQ 2069 2156 2228 2338 \nQ 2531 2678 2651 2914 \nQ 2772 3150 2772 3378 \nQ 2772 3750 2511 3984 \nQ 2250 4219 1831 4219 \nQ 1534 4219 1204 4116 \nQ 875 4013 500 3803 \nL 500 4441 \nQ 881 4594 1212 4672 \nQ 1544 4750 1819 4750 \nQ 2544 4750 2975 4387 \nQ 3406 4025 3406 3419 \nQ 3406 3131 3298 2873 \nQ 3191 2616 2906 2266 \nQ 2828 2175 2409 1742 \nQ 1991 1309 1228 531 \nz\n\" id=\"DejaVuSans-32\" transform=\"scale(0.015625)\"/>\n       </defs>\n       <use xlink:href=\"#DejaVuSans-32\"/>\n       <use x=\"63.623047\" xlink:href=\"#DejaVuSans-30\"/>\n       <use x=\"127.246094\" xlink:href=\"#DejaVuSans-30\"/>\n      </g>\n     </g>\n    </g>\n    <g id=\"xtick_3\">\n     <g id=\"line2d_7\">\n      <path clip-path=\"url(#pae9198df3d)\" d=\"M 108.223125 146.899219 \nL 108.223125 10.999219 \n\" style=\"fill:none;stroke:#b0b0b0;stroke-linecap:square;stroke-width:0.8;\"/>\n     </g>\n     <g id=\"line2d_8\">\n      <g>\n       <use style=\"stroke:#000000;stroke-width:0.8;\" x=\"108.223125\" xlink:href=\"#m0988eb523e\" y=\"146.899219\"/>\n      </g>\n     </g>\n     <g id=\"line2d_9\">\n      <g>\n       <use style=\"stroke:#000000;stroke-width:0.8;\" x=\"108.223125\" xlink:href=\"#ma4bcee0535\" y=\"10.999219\"/>\n      </g>\n     </g>\n     <g id=\"text_3\">\n      <!-- 400 -->\n      <g transform=\"translate(98.679375 161.497656)scale(0.1 -0.1)\">\n       <defs>\n        <path d=\"M 2419 4116 \nL 825 1625 \nL 2419 1625 \nL 2419 4116 \nz\nM 2253 4666 \nL 3047 4666 \nL 3047 1625 \nL 3713 1625 \nL 3713 1100 \nL 3047 1100 \nL 3047 0 \nL 2419 0 \nL 2419 1100 \nL 313 1100 \nL 313 1709 \nL 2253 4666 \nz\n\" id=\"DejaVuSans-34\" transform=\"scale(0.015625)\"/>\n       </defs>\n       <use xlink:href=\"#DejaVuSans-34\"/>\n       <use x=\"63.623047\" xlink:href=\"#DejaVuSans-30\"/>\n       <use x=\"127.246094\" xlink:href=\"#DejaVuSans-30\"/>\n      </g>\n     </g>\n    </g>\n    <g id=\"xtick_4\">\n     <g id=\"line2d_10\">\n      <path clip-path=\"url(#pae9198df3d)\" d=\"M 147.283125 146.899219 \nL 147.283125 10.999219 \n\" style=\"fill:none;stroke:#b0b0b0;stroke-linecap:square;stroke-width:0.8;\"/>\n     </g>\n     <g id=\"line2d_11\">\n      <g>\n       <use style=\"stroke:#000000;stroke-width:0.8;\" x=\"147.283125\" xlink:href=\"#m0988eb523e\" y=\"146.899219\"/>\n      </g>\n     </g>\n     <g id=\"line2d_12\">\n      <g>\n       <use style=\"stroke:#000000;stroke-width:0.8;\" x=\"147.283125\" xlink:href=\"#ma4bcee0535\" y=\"10.999219\"/>\n      </g>\n     </g>\n     <g id=\"text_4\">\n      <!-- 600 -->\n      <g transform=\"translate(137.739375 161.497656)scale(0.1 -0.1)\">\n       <defs>\n        <path d=\"M 2113 2584 \nQ 1688 2584 1439 2293 \nQ 1191 2003 1191 1497 \nQ 1191 994 1439 701 \nQ 1688 409 2113 409 \nQ 2538 409 2786 701 \nQ 3034 994 3034 1497 \nQ 3034 2003 2786 2293 \nQ 2538 2584 2113 2584 \nz\nM 3366 4563 \nL 3366 3988 \nQ 3128 4100 2886 4159 \nQ 2644 4219 2406 4219 \nQ 1781 4219 1451 3797 \nQ 1122 3375 1075 2522 \nQ 1259 2794 1537 2939 \nQ 1816 3084 2150 3084 \nQ 2853 3084 3261 2657 \nQ 3669 2231 3669 1497 \nQ 3669 778 3244 343 \nQ 2819 -91 2113 -91 \nQ 1303 -91 875 529 \nQ 447 1150 447 2328 \nQ 447 3434 972 4092 \nQ 1497 4750 2381 4750 \nQ 2619 4750 2861 4703 \nQ 3103 4656 3366 4563 \nz\n\" id=\"DejaVuSans-36\" transform=\"scale(0.015625)\"/>\n       </defs>\n       <use xlink:href=\"#DejaVuSans-36\"/>\n       <use x=\"63.623047\" xlink:href=\"#DejaVuSans-30\"/>\n       <use x=\"127.246094\" xlink:href=\"#DejaVuSans-30\"/>\n      </g>\n     </g>\n    </g>\n    <g id=\"xtick_5\">\n     <g id=\"line2d_13\">\n      <path clip-path=\"url(#pae9198df3d)\" d=\"M 186.343125 146.899219 \nL 186.343125 10.999219 \n\" style=\"fill:none;stroke:#b0b0b0;stroke-linecap:square;stroke-width:0.8;\"/>\n     </g>\n     <g id=\"line2d_14\">\n      <g>\n       <use style=\"stroke:#000000;stroke-width:0.8;\" x=\"186.343125\" xlink:href=\"#m0988eb523e\" y=\"146.899219\"/>\n      </g>\n     </g>\n     <g id=\"line2d_15\">\n      <g>\n       <use style=\"stroke:#000000;stroke-width:0.8;\" x=\"186.343125\" xlink:href=\"#ma4bcee0535\" y=\"10.999219\"/>\n      </g>\n     </g>\n     <g id=\"text_5\">\n      <!-- 800 -->\n      <g transform=\"translate(176.799375 161.497656)scale(0.1 -0.1)\">\n       <defs>\n        <path d=\"M 2034 2216 \nQ 1584 2216 1326 1975 \nQ 1069 1734 1069 1313 \nQ 1069 891 1326 650 \nQ 1584 409 2034 409 \nQ 2484 409 2743 651 \nQ 3003 894 3003 1313 \nQ 3003 1734 2745 1975 \nQ 2488 2216 2034 2216 \nz\nM 1403 2484 \nQ 997 2584 770 2862 \nQ 544 3141 544 3541 \nQ 544 4100 942 4425 \nQ 1341 4750 2034 4750 \nQ 2731 4750 3128 4425 \nQ 3525 4100 3525 3541 \nQ 3525 3141 3298 2862 \nQ 3072 2584 2669 2484 \nQ 3125 2378 3379 2068 \nQ 3634 1759 3634 1313 \nQ 3634 634 3220 271 \nQ 2806 -91 2034 -91 \nQ 1263 -91 848 271 \nQ 434 634 434 1313 \nQ 434 1759 690 2068 \nQ 947 2378 1403 2484 \nz\nM 1172 3481 \nQ 1172 3119 1398 2916 \nQ 1625 2713 2034 2713 \nQ 2441 2713 2670 2916 \nQ 2900 3119 2900 3481 \nQ 2900 3844 2670 4047 \nQ 2441 4250 2034 4250 \nQ 1625 4250 1398 4047 \nQ 1172 3844 1172 3481 \nz\n\" id=\"DejaVuSans-38\" transform=\"scale(0.015625)\"/>\n       </defs>\n       <use xlink:href=\"#DejaVuSans-38\"/>\n       <use x=\"63.623047\" xlink:href=\"#DejaVuSans-30\"/>\n       <use x=\"127.246094\" xlink:href=\"#DejaVuSans-30\"/>\n      </g>\n     </g>\n    </g>\n    <g id=\"xtick_6\">\n     <g id=\"line2d_16\">\n      <path clip-path=\"url(#pae9198df3d)\" d=\"M 225.403125 146.899219 \nL 225.403125 10.999219 \n\" style=\"fill:none;stroke:#b0b0b0;stroke-linecap:square;stroke-width:0.8;\"/>\n     </g>\n     <g id=\"line2d_17\">\n      <g>\n       <use style=\"stroke:#000000;stroke-width:0.8;\" x=\"225.403125\" xlink:href=\"#m0988eb523e\" y=\"146.899219\"/>\n      </g>\n     </g>\n     <g id=\"line2d_18\">\n      <g>\n       <use style=\"stroke:#000000;stroke-width:0.8;\" x=\"225.403125\" xlink:href=\"#ma4bcee0535\" y=\"10.999219\"/>\n      </g>\n     </g>\n     <g id=\"text_6\">\n      <!-- 1000 -->\n      <g transform=\"translate(212.678125 161.497656)scale(0.1 -0.1)\">\n       <defs>\n        <path d=\"M 794 531 \nL 1825 531 \nL 1825 4091 \nL 703 3866 \nL 703 4441 \nL 1819 4666 \nL 2450 4666 \nL 2450 531 \nL 3481 531 \nL 3481 0 \nL 794 0 \nL 794 531 \nz\n\" id=\"DejaVuSans-31\" transform=\"scale(0.015625)\"/>\n       </defs>\n       <use xlink:href=\"#DejaVuSans-31\"/>\n       <use x=\"63.623047\" xlink:href=\"#DejaVuSans-30\"/>\n       <use x=\"127.246094\" xlink:href=\"#DejaVuSans-30\"/>\n       <use x=\"190.869141\" xlink:href=\"#DejaVuSans-30\"/>\n      </g>\n     </g>\n    </g>\n    <g id=\"text_7\">\n     <!-- tree number -->\n     <g transform=\"translate(96.59375 175.175781)scale(0.1 -0.1)\">\n      <defs>\n       <path d=\"M 1172 4494 \nL 1172 3500 \nL 2356 3500 \nL 2356 3053 \nL 1172 3053 \nL 1172 1153 \nQ 1172 725 1289 603 \nQ 1406 481 1766 481 \nL 2356 481 \nL 2356 0 \nL 1766 0 \nQ 1100 0 847 248 \nQ 594 497 594 1153 \nL 594 3053 \nL 172 3053 \nL 172 3500 \nL 594 3500 \nL 594 4494 \nL 1172 4494 \nz\n\" id=\"DejaVuSans-74\" transform=\"scale(0.015625)\"/>\n       <path d=\"M 2631 2963 \nQ 2534 3019 2420 3045 \nQ 2306 3072 2169 3072 \nQ 1681 3072 1420 2755 \nQ 1159 2438 1159 1844 \nL 1159 0 \nL 581 0 \nL 581 3500 \nL 1159 3500 \nL 1159 2956 \nQ 1341 3275 1631 3429 \nQ 1922 3584 2338 3584 \nQ 2397 3584 2469 3576 \nQ 2541 3569 2628 3553 \nL 2631 2963 \nz\n\" id=\"DejaVuSans-72\" transform=\"scale(0.015625)\"/>\n       <path d=\"M 3597 1894 \nL 3597 1613 \nL 953 1613 \nQ 991 1019 1311 708 \nQ 1631 397 2203 397 \nQ 2534 397 2845 478 \nQ 3156 559 3463 722 \nL 3463 178 \nQ 3153 47 2828 -22 \nQ 2503 -91 2169 -91 \nQ 1331 -91 842 396 \nQ 353 884 353 1716 \nQ 353 2575 817 3079 \nQ 1281 3584 2069 3584 \nQ 2775 3584 3186 3129 \nQ 3597 2675 3597 1894 \nz\nM 3022 2063 \nQ 3016 2534 2758 2815 \nQ 2500 3097 2075 3097 \nQ 1594 3097 1305 2825 \nQ 1016 2553 972 2059 \nL 3022 2063 \nz\n\" id=\"DejaVuSans-65\" transform=\"scale(0.015625)\"/>\n       <path id=\"DejaVuSans-20\" transform=\"scale(0.015625)\"/>\n       <path d=\"M 3513 2113 \nL 3513 0 \nL 2938 0 \nL 2938 2094 \nQ 2938 2591 2744 2837 \nQ 2550 3084 2163 3084 \nQ 1697 3084 1428 2787 \nQ 1159 2491 1159 1978 \nL 1159 0 \nL 581 0 \nL 581 3500 \nL 1159 3500 \nL 1159 2956 \nQ 1366 3272 1645 3428 \nQ 1925 3584 2291 3584 \nQ 2894 3584 3203 3211 \nQ 3513 2838 3513 2113 \nz\n\" id=\"DejaVuSans-6e\" transform=\"scale(0.015625)\"/>\n       <path d=\"M 544 1381 \nL 544 3500 \nL 1119 3500 \nL 1119 1403 \nQ 1119 906 1312 657 \nQ 1506 409 1894 409 \nQ 2359 409 2629 706 \nQ 2900 1003 2900 1516 \nL 2900 3500 \nL 3475 3500 \nL 3475 0 \nL 2900 0 \nL 2900 538 \nQ 2691 219 2414 64 \nQ 2138 -91 1772 -91 \nQ 1169 -91 856 284 \nQ 544 659 544 1381 \nz\nM 1991 3584 \nL 1991 3584 \nz\n\" id=\"DejaVuSans-75\" transform=\"scale(0.015625)\"/>\n       <path d=\"M 3328 2828 \nQ 3544 3216 3844 3400 \nQ 4144 3584 4550 3584 \nQ 5097 3584 5394 3201 \nQ 5691 2819 5691 2113 \nL 5691 0 \nL 5113 0 \nL 5113 2094 \nQ 5113 2597 4934 2840 \nQ 4756 3084 4391 3084 \nQ 3944 3084 3684 2787 \nQ 3425 2491 3425 1978 \nL 3425 0 \nL 2847 0 \nL 2847 2094 \nQ 2847 2600 2669 2842 \nQ 2491 3084 2119 3084 \nQ 1678 3084 1418 2786 \nQ 1159 2488 1159 1978 \nL 1159 0 \nL 581 0 \nL 581 3500 \nL 1159 3500 \nL 1159 2956 \nQ 1356 3278 1631 3431 \nQ 1906 3584 2284 3584 \nQ 2666 3584 2933 3390 \nQ 3200 3197 3328 2828 \nz\n\" id=\"DejaVuSans-6d\" transform=\"scale(0.015625)\"/>\n       <path d=\"M 3116 1747 \nQ 3116 2381 2855 2742 \nQ 2594 3103 2138 3103 \nQ 1681 3103 1420 2742 \nQ 1159 2381 1159 1747 \nQ 1159 1113 1420 752 \nQ 1681 391 2138 391 \nQ 2594 391 2855 752 \nQ 3116 1113 3116 1747 \nz\nM 1159 2969 \nQ 1341 3281 1617 3432 \nQ 1894 3584 2278 3584 \nQ 2916 3584 3314 3078 \nQ 3713 2572 3713 1747 \nQ 3713 922 3314 415 \nQ 2916 -91 2278 -91 \nQ 1894 -91 1617 61 \nQ 1341 213 1159 525 \nL 1159 0 \nL 581 0 \nL 581 4863 \nL 1159 4863 \nL 1159 2969 \nz\n\" id=\"DejaVuSans-62\" transform=\"scale(0.015625)\"/>\n      </defs>\n      <use xlink:href=\"#DejaVuSans-74\"/>\n      <use x=\"39.208984\" xlink:href=\"#DejaVuSans-72\"/>\n      <use x=\"78.072266\" xlink:href=\"#DejaVuSans-65\"/>\n      <use x=\"139.595703\" xlink:href=\"#DejaVuSans-65\"/>\n      <use x=\"201.119141\" xlink:href=\"#DejaVuSans-20\"/>\n      <use x=\"232.90625\" xlink:href=\"#DejaVuSans-6e\"/>\n      <use x=\"296.285156\" xlink:href=\"#DejaVuSans-75\"/>\n      <use x=\"359.664062\" xlink:href=\"#DejaVuSans-6d\"/>\n      <use x=\"457.076172\" xlink:href=\"#DejaVuSans-62\"/>\n      <use x=\"520.552734\" xlink:href=\"#DejaVuSans-65\"/>\n      <use x=\"582.076172\" xlink:href=\"#DejaVuSans-72\"/>\n     </g>\n    </g>\n   </g>\n   <g id=\"matplotlib.axis_2\">\n    <g id=\"ytick_1\">\n     <g id=\"line2d_19\">\n      <path clip-path=\"url(#pae9198df3d)\" d=\"M 30.103125 146.899219 \nL 225.403125 146.899219 \n\" style=\"fill:none;stroke:#b0b0b0;stroke-linecap:square;stroke-width:0.8;\"/>\n     </g>\n     <g id=\"line2d_20\">\n      <defs>\n       <path d=\"M 0 0 \nL -3.5 0 \n\" id=\"me9fd50c0a7\" style=\"stroke:#000000;stroke-width:0.8;\"/>\n      </defs>\n      <g>\n       <use style=\"stroke:#000000;stroke-width:0.8;\" x=\"30.103125\" xlink:href=\"#me9fd50c0a7\" y=\"146.899219\"/>\n      </g>\n     </g>\n     <g id=\"line2d_21\">\n      <defs>\n       <path d=\"M 0 0 \nL 3.5 0 \n\" id=\"mb68a32aeb4\" style=\"stroke:#000000;stroke-width:0.8;\"/>\n      </defs>\n      <g>\n       <use style=\"stroke:#000000;stroke-width:0.8;\" x=\"225.403125\" xlink:href=\"#mb68a32aeb4\" y=\"146.899219\"/>\n      </g>\n     </g>\n     <g id=\"text_8\">\n      <!-- 0.0 -->\n      <g transform=\"translate(7.2 150.698437)scale(0.1 -0.1)\">\n       <defs>\n        <path d=\"M 684 794 \nL 1344 794 \nL 1344 0 \nL 684 0 \nL 684 794 \nz\n\" id=\"DejaVuSans-2e\" transform=\"scale(0.015625)\"/>\n       </defs>\n       <use xlink:href=\"#DejaVuSans-30\"/>\n       <use x=\"63.623047\" xlink:href=\"#DejaVuSans-2e\"/>\n       <use x=\"95.410156\" xlink:href=\"#DejaVuSans-30\"/>\n      </g>\n     </g>\n    </g>\n    <g id=\"ytick_2\">\n     <g id=\"line2d_22\">\n      <path clip-path=\"url(#pae9198df3d)\" d=\"M 30.103125 119.719219 \nL 225.403125 119.719219 \n\" style=\"fill:none;stroke:#b0b0b0;stroke-linecap:square;stroke-width:0.8;\"/>\n     </g>\n     <g id=\"line2d_23\">\n      <g>\n       <use style=\"stroke:#000000;stroke-width:0.8;\" x=\"30.103125\" xlink:href=\"#me9fd50c0a7\" y=\"119.719219\"/>\n      </g>\n     </g>\n     <g id=\"line2d_24\">\n      <g>\n       <use style=\"stroke:#000000;stroke-width:0.8;\" x=\"225.403125\" xlink:href=\"#mb68a32aeb4\" y=\"119.719219\"/>\n      </g>\n     </g>\n     <g id=\"text_9\">\n      <!-- 0.2 -->\n      <g transform=\"translate(7.2 123.518437)scale(0.1 -0.1)\">\n       <use xlink:href=\"#DejaVuSans-30\"/>\n       <use x=\"63.623047\" xlink:href=\"#DejaVuSans-2e\"/>\n       <use x=\"95.410156\" xlink:href=\"#DejaVuSans-32\"/>\n      </g>\n     </g>\n    </g>\n    <g id=\"ytick_3\">\n     <g id=\"line2d_25\">\n      <path clip-path=\"url(#pae9198df3d)\" d=\"M 30.103125 92.539219 \nL 225.403125 92.539219 \n\" style=\"fill:none;stroke:#b0b0b0;stroke-linecap:square;stroke-width:0.8;\"/>\n     </g>\n     <g id=\"line2d_26\">\n      <g>\n       <use style=\"stroke:#000000;stroke-width:0.8;\" x=\"30.103125\" xlink:href=\"#me9fd50c0a7\" y=\"92.539219\"/>\n      </g>\n     </g>\n     <g id=\"line2d_27\">\n      <g>\n       <use style=\"stroke:#000000;stroke-width:0.8;\" x=\"225.403125\" xlink:href=\"#mb68a32aeb4\" y=\"92.539219\"/>\n      </g>\n     </g>\n     <g id=\"text_10\">\n      <!-- 0.4 -->\n      <g transform=\"translate(7.2 96.338437)scale(0.1 -0.1)\">\n       <use xlink:href=\"#DejaVuSans-30\"/>\n       <use x=\"63.623047\" xlink:href=\"#DejaVuSans-2e\"/>\n       <use x=\"95.410156\" xlink:href=\"#DejaVuSans-34\"/>\n      </g>\n     </g>\n    </g>\n    <g id=\"ytick_4\">\n     <g id=\"line2d_28\">\n      <path clip-path=\"url(#pae9198df3d)\" d=\"M 30.103125 65.359219 \nL 225.403125 65.359219 \n\" style=\"fill:none;stroke:#b0b0b0;stroke-linecap:square;stroke-width:0.8;\"/>\n     </g>\n     <g id=\"line2d_29\">\n      <g>\n       <use style=\"stroke:#000000;stroke-width:0.8;\" x=\"30.103125\" xlink:href=\"#me9fd50c0a7\" y=\"65.359219\"/>\n      </g>\n     </g>\n     <g id=\"line2d_30\">\n      <g>\n       <use style=\"stroke:#000000;stroke-width:0.8;\" x=\"225.403125\" xlink:href=\"#mb68a32aeb4\" y=\"65.359219\"/>\n      </g>\n     </g>\n     <g id=\"text_11\">\n      <!-- 0.6 -->\n      <g transform=\"translate(7.2 69.158437)scale(0.1 -0.1)\">\n       <use xlink:href=\"#DejaVuSans-30\"/>\n       <use x=\"63.623047\" xlink:href=\"#DejaVuSans-2e\"/>\n       <use x=\"95.410156\" xlink:href=\"#DejaVuSans-36\"/>\n      </g>\n     </g>\n    </g>\n    <g id=\"ytick_5\">\n     <g id=\"line2d_31\">\n      <path clip-path=\"url(#pae9198df3d)\" d=\"M 30.103125 38.179219 \nL 225.403125 38.179219 \n\" style=\"fill:none;stroke:#b0b0b0;stroke-linecap:square;stroke-width:0.8;\"/>\n     </g>\n     <g id=\"line2d_32\">\n      <g>\n       <use style=\"stroke:#000000;stroke-width:0.8;\" x=\"30.103125\" xlink:href=\"#me9fd50c0a7\" y=\"38.179219\"/>\n      </g>\n     </g>\n     <g id=\"line2d_33\">\n      <g>\n       <use style=\"stroke:#000000;stroke-width:0.8;\" x=\"225.403125\" xlink:href=\"#mb68a32aeb4\" y=\"38.179219\"/>\n      </g>\n     </g>\n     <g id=\"text_12\">\n      <!-- 0.8 -->\n      <g transform=\"translate(7.2 41.978437)scale(0.1 -0.1)\">\n       <use xlink:href=\"#DejaVuSans-30\"/>\n       <use x=\"63.623047\" xlink:href=\"#DejaVuSans-2e\"/>\n       <use x=\"95.410156\" xlink:href=\"#DejaVuSans-38\"/>\n      </g>\n     </g>\n    </g>\n    <g id=\"ytick_6\">\n     <g id=\"line2d_34\">\n      <path clip-path=\"url(#pae9198df3d)\" d=\"M 30.103125 10.999219 \nL 225.403125 10.999219 \n\" style=\"fill:none;stroke:#b0b0b0;stroke-linecap:square;stroke-width:0.8;\"/>\n     </g>\n     <g id=\"line2d_35\">\n      <g>\n       <use style=\"stroke:#000000;stroke-width:0.8;\" x=\"30.103125\" xlink:href=\"#me9fd50c0a7\" y=\"10.999219\"/>\n      </g>\n     </g>\n     <g id=\"line2d_36\">\n      <g>\n       <use style=\"stroke:#000000;stroke-width:0.8;\" x=\"225.403125\" xlink:href=\"#mb68a32aeb4\" y=\"10.999219\"/>\n      </g>\n     </g>\n     <g id=\"text_13\">\n      <!-- 1.0 -->\n      <g transform=\"translate(7.2 14.798437)scale(0.1 -0.1)\">\n       <use xlink:href=\"#DejaVuSans-31\"/>\n       <use x=\"63.623047\" xlink:href=\"#DejaVuSans-2e\"/>\n       <use x=\"95.410156\" xlink:href=\"#DejaVuSans-30\"/>\n      </g>\n     </g>\n    </g>\n   </g>\n   <g id=\"line2d_37\">\n    <path clip-path=\"url(#pae9198df3d)\" style=\"fill:none;stroke:#1f77b4;stroke-linecap:square;stroke-width:1.5;\"/>\n   </g>\n   <g id=\"patch_3\">\n    <path d=\"M 30.103125 146.899219 \nL 30.103125 10.999219 \n\" style=\"fill:none;stroke:#000000;stroke-linecap:square;stroke-linejoin:miter;stroke-width:0.8;\"/>\n   </g>\n   <g id=\"patch_4\">\n    <path d=\"M 225.403125 146.899219 \nL 225.403125 10.999219 \n\" style=\"fill:none;stroke:#000000;stroke-linecap:square;stroke-linejoin:miter;stroke-width:0.8;\"/>\n   </g>\n   <g id=\"patch_5\">\n    <path d=\"M 30.103125 146.899219 \nL 225.403125 146.899219 \n\" style=\"fill:none;stroke:#000000;stroke-linecap:square;stroke-linejoin:miter;stroke-width:0.8;\"/>\n   </g>\n   <g id=\"patch_6\">\n    <path d=\"M 30.103125 10.999219 \nL 225.403125 10.999219 \n\" style=\"fill:none;stroke:#000000;stroke-linecap:square;stroke-linejoin:miter;stroke-width:0.8;\"/>\n   </g>\n   <g id=\"legend_1\">\n    <g id=\"patch_7\">\n     <path d=\"M 159.171875 33.677344 \nL 218.403125 33.677344 \nQ 220.403125 33.677344 220.403125 31.677344 \nL 220.403125 17.999219 \nQ 220.403125 15.999219 218.403125 15.999219 \nL 159.171875 15.999219 \nQ 157.171875 15.999219 157.171875 17.999219 \nL 157.171875 31.677344 \nQ 157.171875 33.677344 159.171875 33.677344 \nz\n\" style=\"fill:#ffffff;opacity:0.8;stroke:#cccccc;stroke-linejoin:miter;\"/>\n    </g>\n    <g id=\"line2d_38\">\n     <path d=\"M 161.171875 24.097656 \nL 181.171875 24.097656 \n\" style=\"fill:none;stroke:#1f77b4;stroke-linecap:square;stroke-width:1.5;\"/>\n    </g>\n    <g id=\"line2d_39\"/>\n    <g id=\"text_14\">\n     <!-- amse -->\n     <g transform=\"translate(189.171875 27.597656)scale(0.1 -0.1)\">\n      <defs>\n       <path d=\"M 2194 1759 \nQ 1497 1759 1228 1600 \nQ 959 1441 959 1056 \nQ 959 750 1161 570 \nQ 1363 391 1709 391 \nQ 2188 391 2477 730 \nQ 2766 1069 2766 1631 \nL 2766 1759 \nL 2194 1759 \nz\nM 3341 1997 \nL 3341 0 \nL 2766 0 \nL 2766 531 \nQ 2569 213 2275 61 \nQ 1981 -91 1556 -91 \nQ 1019 -91 701 211 \nQ 384 513 384 1019 \nQ 384 1609 779 1909 \nQ 1175 2209 1959 2209 \nL 2766 2209 \nL 2766 2266 \nQ 2766 2663 2505 2880 \nQ 2244 3097 1772 3097 \nQ 1472 3097 1187 3025 \nQ 903 2953 641 2809 \nL 641 3341 \nQ 956 3463 1253 3523 \nQ 1550 3584 1831 3584 \nQ 2591 3584 2966 3190 \nQ 3341 2797 3341 1997 \nz\n\" id=\"DejaVuSans-61\" transform=\"scale(0.015625)\"/>\n       <path d=\"M 2834 3397 \nL 2834 2853 \nQ 2591 2978 2328 3040 \nQ 2066 3103 1784 3103 \nQ 1356 3103 1142 2972 \nQ 928 2841 928 2578 \nQ 928 2378 1081 2264 \nQ 1234 2150 1697 2047 \nL 1894 2003 \nQ 2506 1872 2764 1633 \nQ 3022 1394 3022 966 \nQ 3022 478 2636 193 \nQ 2250 -91 1575 -91 \nQ 1294 -91 989 -36 \nQ 684 19 347 128 \nL 347 722 \nQ 666 556 975 473 \nQ 1284 391 1588 391 \nQ 1994 391 2212 530 \nQ 2431 669 2431 922 \nQ 2431 1156 2273 1281 \nQ 2116 1406 1581 1522 \nL 1381 1569 \nQ 847 1681 609 1914 \nQ 372 2147 372 2553 \nQ 372 3047 722 3315 \nQ 1072 3584 1716 3584 \nQ 2034 3584 2315 3537 \nQ 2597 3491 2834 3397 \nz\n\" id=\"DejaVuSans-73\" transform=\"scale(0.015625)\"/>\n      </defs>\n      <use xlink:href=\"#DejaVuSans-61\"/>\n      <use x=\"61.279297\" xlink:href=\"#DejaVuSans-6d\"/>\n      <use x=\"158.691406\" xlink:href=\"#DejaVuSans-73\"/>\n      <use x=\"210.791016\" xlink:href=\"#DejaVuSans-65\"/>\n     </g>\n    </g>\n   </g>\n  </g>\n </g>\n <defs>\n  <clipPath id=\"pae9198df3d\">\n   <rect height=\"135.9\" width=\"195.3\" x=\"30.103125\" y=\"10.999219\"/>\n  </clipPath>\n </defs>\n</svg>\n"
     },
     "metadata": {
      "needs_background": "light"
     },
     "output_type": "display_data"
    }
   ],
   "source": [
    "import sklearn.datasets\n",
    "dataset = sklearn.datasets.load_boston()\n",
    "data, target = dataset['data'], dataset['target']\n",
    "model = XGBoostRegressor(num_iters=1000, num_bins=10, lr=1,\n",
    "                         alpha=1, gamma=1,\n",
    "                        max_depth=10, anim=True)\n",
    "model.fit(data, target)\n",
    "result = model.transform(data)\n",
    "# print(amse(result, target))\n",
    "# print(model.curr_loss(data, target))"
   ]
  },
  {
   "cell_type": "code",
   "execution_count": 1,
   "metadata": {
    "collapsed": false,
    "pycharm": {
     "name": "#%%\n"
    }
   },
   "outputs": [
    {
     "ename": "NameError",
     "evalue": "name 'data' is not defined",
     "output_type": "error",
     "traceback": [
      "\u001B[0;31m---------------------------------------------------------------------------\u001B[0m",
      "\u001B[0;31mNameError\u001B[0m                                 Traceback (most recent call last)",
      "\u001B[0;32m<ipython-input-1-c5d84736ba45>\u001B[0m in \u001B[0;36m<module>\u001B[0;34m\u001B[0m\n\u001B[0;32m----> 1\u001B[0;31m \u001B[0mdata\u001B[0m\u001B[0;34m\u001B[0m\u001B[0;34m\u001B[0m\u001B[0m\n\u001B[0m",
      "\u001B[0;31mNameError\u001B[0m: name 'data' is not defined"
     ]
    }
   ],
   "source": [
    "data"
   ]
  },
  {
   "cell_type": "code",
   "execution_count": 86,
   "metadata": {
    "collapsed": false,
    "pycharm": {
     "name": "#%%\n"
    }
   },
   "outputs": [],
   "source": [
    "dataset = sklearn.datasets.load_breast_cancer()\n",
    "data, target = dataset['data'], dataset['target']"
   ]
  },
  {
   "cell_type": "code",
   "execution_count": 92,
   "metadata": {
    "collapsed": false,
    "pycharm": {
     "name": "#%%\n"
    }
   },
   "outputs": [],
   "source": [
    "from XGBoostBaseTree import XGBoostBaseTree\n",
    "from DataBinModel import DataBinModel\n",
    "model = XGBoostBaseTree(alpha=0.01, gamma=0.01,\n",
    "                        max_depth=5)\n",
    "bin_model = DataBinModel(10)\n",
    "bin_model.fit(data)\n",
    "data = bin_model.transform(data)\n",
    "g = -target\n",
    "h = target * (1 - target)\n",
    "model.fit(data, g, h)"
   ]
  },
  {
   "cell_type": "code",
   "execution_count": 2,
   "metadata": {
    "collapsed": false,
    "pycharm": {
     "name": "#%%\n"
    }
   },
   "outputs": [
    {
     "ename": "NameError",
     "evalue": "name 'model' is not defined",
     "output_type": "error",
     "traceback": [
      "\u001B[0;31m---------------------------------------------------------------------------\u001B[0m",
      "\u001B[0;31mNameError\u001B[0m                                 Traceback (most recent call last)",
      "\u001B[0;32m<ipython-input-2-fe3dd58343fb>\u001B[0m in \u001B[0;36m<module>\u001B[0;34m\u001B[0m\n\u001B[0;32m----> 1\u001B[0;31m \u001B[0my_hat\u001B[0m \u001B[0;34m=\u001B[0m \u001B[0mmodel\u001B[0m\u001B[0;34m.\u001B[0m\u001B[0mpredict\u001B[0m\u001B[0;34m(\u001B[0m\u001B[0mdata\u001B[0m\u001B[0;34m)\u001B[0m\u001B[0;34m\u001B[0m\u001B[0;34m\u001B[0m\u001B[0m\n\u001B[0m",
      "\u001B[0;31mNameError\u001B[0m: name 'model' is not defined"
     ]
    }
   ],
   "source": [
    "y_hat = model.predict(data)"
   ]
  },
  {
   "cell_type": "code",
   "execution_count": 43,
   "metadata": {
    "collapsed": false,
    "pycharm": {
     "name": "#%%\n"
    }
   },
   "outputs": [
    {
     "data": {
      "text/plain": [
       "array([35700., 35700., 35700., 35700., 35700., 35700., 35700., 35700.,\n",
       "       35700., 35700., 35700., 35700., 35700., 35700., 35700., 35700.,\n",
       "       35700., 35700., 35700., 35700., 35700., 35700., 35700., 35700.,\n",
       "       35700., 35700., 35700., 35700., 35700., 35700., 35700., 35700.,\n",
       "       35700., 35700., 35700., 35700., 35700., 35700., 35700., 35700.,\n",
       "       35700., 35700., 35700., 35700., 35700., 35700., 35700., 35700.,\n",
       "       35700., 35700., 35700., 35700., 35700., 35700., 35700., 35700.,\n",
       "       35700., 35700., 35700., 35700., 35700., 35700., 35700., 35700.,\n",
       "       35700., 35700., 35700., 35700., 35700., 35700., 35700., 35700.,\n",
       "       35700., 35700., 35700., 35700., 35700., 35700., 35700., 35700.,\n",
       "       35700., 35700., 35700., 35700., 35700., 35700., 35700., 35700.,\n",
       "       35700., 35700., 35700., 35700., 35700., 35700., 35700., 35700.,\n",
       "       35700., 35700., 35700., 35700., 35700., 35700., 35700., 35700.,\n",
       "       35700., 35700., 35700., 35700., 35700., 35700., 35700., 35700.,\n",
       "       35700., 35700., 35700., 35700., 35700., 35700., 35700., 35700.,\n",
       "       35700., 35700., 35700., 35700., 35700., 35700., 35700., 35700.,\n",
       "       35700., 35700., 35700., 35700., 35700., 35700., 35700., 35700.,\n",
       "       35700., 35700., 35700., 35700., 35700., 35700., 35700., 35700.,\n",
       "       35700., 35700., 35700., 35700., 35700., 35700., 35700., 35700.,\n",
       "       35700., 35700., 35700., 35700., 35700., 35700., 35700., 35700.,\n",
       "       35700., 35700., 35700., 35700., 35700., 35700., 35700., 35700.,\n",
       "       35700., 35700., 35700., 35700., 35700., 35700., 35700., 35700.,\n",
       "       35700., 35700., 35700., 35700., 35700., 35700., 35700., 35700.,\n",
       "       35700., 35700., 35700., 35700., 35700., 35700., 35700., 35700.,\n",
       "       35700., 35700., 35700., 35700., 35700., 35700., 35700., 35700.,\n",
       "       35700., 35700., 35700., 35700., 35700., 35700., 35700., 35700.,\n",
       "       35700., 35700., 35700., 35700., 35700., 35700., 35700., 35700.,\n",
       "       35700., 35700., 35700., 35700., 35700., 35700., 35700., 35700.,\n",
       "       35700., 35700., 35700., 35700., 35700., 35700., 35700., 35700.,\n",
       "       35700., 35700., 35700., 35700., 35700., 35700., 35700., 35700.,\n",
       "       35700., 35700., 35700., 35700., 35700., 35700., 35700., 35700.,\n",
       "       35700., 35700., 35700., 35700., 35700., 35700., 35700., 35700.,\n",
       "       35700., 35700., 35700., 35700., 35700., 35700., 35700., 35700.,\n",
       "       35700., 35700., 35700., 35700., 35700., 35700., 35700., 35700.,\n",
       "       35700., 35700., 35700., 35700., 35700., 35700., 35700., 35700.,\n",
       "       35700., 35700., 35700., 35700., 35700., 35700., 35700., 35700.,\n",
       "       35700., 35700., 35700., 35700., 35700., 35700., 35700., 35700.,\n",
       "       35700., 35700., 35700., 35700., 35700., 35700., 35700., 35700.,\n",
       "       35700., 35700., 35700., 35700., 35700., 35700., 35700., 35700.,\n",
       "       35700., 35700., 35700., 35700., 35700., 35700., 35700., 35700.,\n",
       "       35700., 35700., 35700., 35700., 35700., 35700., 35700., 35700.,\n",
       "       35700., 35700., 35700., 35700., 35700., 35700., 35700., 35700.,\n",
       "       35700., 35700., 35700., 35700., 35700., 35700., 35700., 35700.,\n",
       "       35700., 35700., 35700., 35700., 35700., 35700., 35700., 35700.,\n",
       "       35700., 35700., 35700., 35700., 35700., 35700., 35700., 35700.,\n",
       "       35700., 35700., 35700., 35700., 35700., 35700., 35700., 35700.,\n",
       "       35700., 35700., 35700., 35700., 35700., 35700., 35700., 35700.,\n",
       "       35700., 35700., 35700., 35700., 35700., 35700., 35700., 35700.,\n",
       "       35700., 35700., 35700., 35700., 35700., 35700., 35700., 35700.,\n",
       "       35700., 35700., 35700., 35700., 35700., 35700., 35700., 35700.,\n",
       "       35700., 35700., 35700., 35700., 35700., 35700., 35700., 35700.,\n",
       "       35700., 35700., 35700., 35700., 35700., 35700., 35700., 35700.,\n",
       "       35700., 35700., 35700., 35700., 35700., 35700., 35700., 35700.,\n",
       "       35700., 35700., 35700., 35700., 35700., 35700., 35700., 35700.,\n",
       "       35700., 35700., 35700., 35700., 35700., 35700., 35700., 35700.,\n",
       "       35700., 35700., 35700., 35700., 35700., 35700., 35700., 35700.,\n",
       "       35700., 35700., 35700., 35700., 35700., 35700., 35700., 35700.,\n",
       "       35700., 35700., 35700., 35700., 35700., 35700., 35700., 35700.,\n",
       "       35700., 35700., 35700., 35700., 35700., 35700., 35700., 35700.,\n",
       "       35700., 35700., 35700., 35700., 35700., 35700., 35700., 35700.,\n",
       "       35700., 35700., 35700., 35700., 35700., 35700., 35700., 35700.,\n",
       "       35700., 35700., 35700., 35700., 35700., 35700., 35700., 35700.,\n",
       "       35700., 35700., 35700., 35700., 35700., 35700., 35700., 35700.,\n",
       "       35700., 35700., 35700., 35700., 35700., 35700., 35700., 35700.,\n",
       "       35700., 35700., 35700., 35700., 35700., 35700., 35700., 35700.,\n",
       "       35700., 35700., 35700., 35700., 35700., 35700., 35700., 35700.,\n",
       "       35700., 35700., 35700., 35700., 35700., 35700., 35700., 35700.,\n",
       "       35700., 35700., 35700., 35700., 35700., 35700., 35700., 35700.,\n",
       "       35700., 35700., 35700., 35700., 35700., 35700., 35700., 35700.,\n",
       "       35700., 35700., 35700., 35700., 35700., 35700., 35700., 35700.,\n",
       "       35700., 35700., 35700., 35700., 35700., 35700., 35700., 35700.,\n",
       "       35700.])"
      ]
     },
     "execution_count": 43,
     "metadata": {},
     "output_type": "execute_result"
    }
   ],
   "source": [
    "y_hat"
   ]
  },
  {
   "cell_type": "code",
   "execution_count": 44,
   "metadata": {
    "collapsed": false,
    "pycharm": {
     "name": "#%%\n"
    }
   },
   "outputs": [
    {
     "data": {
      "text/plain": [
       "array([ 0,  0,  0,  0,  0,  0,  0,  0,  0,  0,  0,  0,  0,  0,  0,  0,  0,\n",
       "        0,  0, -1, -1, -1,  0,  0,  0,  0,  0,  0,  0,  0,  0,  0,  0,  0,\n",
       "        0,  0,  0, -1,  0,  0,  0,  0,  0,  0,  0,  0, -1,  0, -1, -1, -1,\n",
       "       -1, -1,  0,  0, -1,  0,  0, -1, -1, -1, -1,  0, -1,  0,  0, -1, -1,\n",
       "       -1, -1,  0, -1,  0,  0, -1,  0, -1,  0,  0, -1, -1, -1,  0,  0, -1,\n",
       "        0,  0,  0, -1, -1, -1,  0, -1, -1,  0,  0, -1, -1, -1,  0,  0, -1,\n",
       "       -1, -1, -1,  0, -1, -1,  0, -1, -1, -1, -1, -1, -1, -1, -1,  0,  0,\n",
       "        0, -1,  0,  0, -1, -1, -1,  0,  0, -1,  0, -1,  0,  0, -1,  0,  0,\n",
       "       -1, -1,  0, -1, -1,  0, -1, -1, -1, -1,  0, -1, -1, -1, -1, -1, -1,\n",
       "       -1, -1, -1,  0, -1, -1, -1, -1,  0,  0, -1,  0, -1, -1,  0,  0, -1,\n",
       "       -1,  0,  0, -1, -1, -1, -1,  0, -1, -1,  0,  0,  0, -1,  0, -1,  0,\n",
       "       -1, -1, -1,  0, -1, -1,  0,  0, -1,  0,  0,  0,  0, -1,  0,  0,  0,\n",
       "       -1,  0, -1,  0, -1, -1,  0, -1,  0,  0,  0,  0, -1, -1,  0,  0, -1,\n",
       "       -1, -1,  0, -1, -1, -1, -1, -1,  0,  0, -1, -1,  0, -1, -1,  0,  0,\n",
       "       -1,  0, -1, -1, -1, -1,  0, -1, -1, -1, -1, -1,  0, -1,  0,  0,  0,\n",
       "        0,  0,  0,  0,  0,  0,  0,  0,  0,  0,  0, -1, -1, -1, -1, -1, -1,\n",
       "        0, -1,  0, -1, -1,  0, -1, -1,  0, -1,  0,  0, -1, -1, -1, -1, -1,\n",
       "       -1, -1, -1, -1, -1, -1, -1, -1,  0, -1, -1,  0, -1,  0, -1, -1, -1,\n",
       "       -1, -1, -1, -1, -1, -1, -1, -1, -1, -1, -1,  0, -1, -1, -1,  0, -1,\n",
       "        0, -1, -1, -1, -1,  0,  0,  0, -1, -1, -1, -1,  0, -1,  0, -1,  0,\n",
       "       -1, -1, -1,  0, -1, -1, -1, -1, -1, -1, -1,  0,  0,  0, -1, -1, -1,\n",
       "       -1, -1, -1, -1, -1, -1, -1, -1,  0,  0, -1,  0,  0,  0, -1,  0,  0,\n",
       "       -1, -1, -1, -1, -1,  0, -1, -1, -1, -1, -1,  0, -1, -1, -1,  0, -1,\n",
       "       -1,  0,  0, -1, -1, -1, -1, -1, -1,  0, -1, -1, -1, -1, -1, -1, -1,\n",
       "        0, -1, -1, -1, -1, -1,  0, -1, -1,  0, -1, -1, -1, -1, -1, -1, -1,\n",
       "       -1, -1, -1, -1, -1,  0, -1,  0,  0, -1,  0, -1, -1, -1, -1, -1,  0,\n",
       "       -1, -1,  0, -1,  0, -1, -1,  0, -1,  0, -1, -1, -1, -1, -1, -1, -1,\n",
       "       -1,  0,  0, -1, -1, -1, -1, -1, -1,  0, -1, -1, -1, -1, -1, -1, -1,\n",
       "       -1, -1, -1,  0, -1, -1, -1, -1, -1, -1, -1,  0, -1,  0, -1, -1,  0,\n",
       "       -1, -1, -1, -1, -1,  0,  0, -1,  0, -1,  0, -1, -1, -1, -1, -1,  0,\n",
       "       -1, -1,  0, -1,  0, -1,  0,  0, -1, -1, -1,  0, -1, -1, -1, -1, -1,\n",
       "       -1, -1, -1, -1, -1, -1,  0, -1,  0,  0, -1, -1, -1, -1, -1, -1, -1,\n",
       "       -1, -1, -1, -1, -1, -1, -1, -1, -1, -1, -1, -1, -1, -1, -1, -1, -1,\n",
       "       -1,  0,  0,  0,  0,  0,  0, -1])"
      ]
     },
     "execution_count": 44,
     "metadata": {},
     "output_type": "execute_result"
    }
   ],
   "source": [
    "g\n"
   ]
  },
  {
   "cell_type": "code",
   "execution_count": 45,
   "metadata": {
    "collapsed": false,
    "pycharm": {
     "name": "#%%\n"
    }
   },
   "outputs": [
    {
     "data": {
      "text/plain": [
       "array([[8, 0, 8, ..., 9, 9, 9],\n",
       "       [9, 3, 9, ..., 8, 4, 7],\n",
       "       [9, 6, 9, ..., 9, 9, 6],\n",
       "       ...,\n",
       "       [7, 9, 7, ..., 6, 0, 4],\n",
       "       [9, 9, 9, ..., 9, 9, 9],\n",
       "       [0, 8, 0, ..., 0, 5, 2]])"
      ]
     },
     "execution_count": 45,
     "metadata": {},
     "output_type": "execute_result"
    }
   ],
   "source": [
    "data"
   ]
  },
  {
   "cell_type": "code",
   "execution_count": 46,
   "metadata": {
    "collapsed": false,
    "pycharm": {
     "name": "#%%\n"
    }
   },
   "outputs": [
    {
     "data": {
      "text/plain": [
       "array([35700., 35700., 35700., 35700., 35700., 35700., 35700., 35700.,\n",
       "       35700., 35700., 35700., 35700., 35700., 35700., 35700., 35700.,\n",
       "       35700., 35700., 35700., 35700., 35700., 35700., 35700., 35700.,\n",
       "       35700., 35700., 35700., 35700., 35700., 35700., 35700., 35700.,\n",
       "       35700., 35700., 35700., 35700., 35700., 35700., 35700., 35700.,\n",
       "       35700., 35700., 35700., 35700., 35700., 35700., 35700., 35700.,\n",
       "       35700., 35700., 35700., 35700., 35700., 35700., 35700., 35700.,\n",
       "       35700., 35700., 35700., 35700., 35700., 35700., 35700., 35700.,\n",
       "       35700., 35700., 35700., 35700., 35700., 35700., 35700., 35700.,\n",
       "       35700., 35700., 35700., 35700., 35700., 35700., 35700., 35700.,\n",
       "       35700., 35700., 35700., 35700., 35700., 35700., 35700., 35700.,\n",
       "       35700., 35700., 35700., 35700., 35700., 35700., 35700., 35700.,\n",
       "       35700., 35700., 35700., 35700., 35700., 35700., 35700., 35700.,\n",
       "       35700., 35700., 35700., 35700., 35700., 35700., 35700., 35700.,\n",
       "       35700., 35700., 35700., 35700., 35700., 35700., 35700., 35700.,\n",
       "       35700., 35700., 35700., 35700., 35700., 35700., 35700., 35700.,\n",
       "       35700., 35700., 35700., 35700., 35700., 35700., 35700., 35700.,\n",
       "       35700., 35700., 35700., 35700., 35700., 35700., 35700., 35700.,\n",
       "       35700., 35700., 35700., 35700., 35700., 35700., 35700., 35700.,\n",
       "       35700., 35700., 35700., 35700., 35700., 35700., 35700., 35700.,\n",
       "       35700., 35700., 35700., 35700., 35700., 35700., 35700., 35700.,\n",
       "       35700., 35700., 35700., 35700., 35700., 35700., 35700., 35700.,\n",
       "       35700., 35700., 35700., 35700., 35700., 35700., 35700., 35700.,\n",
       "       35700., 35700., 35700., 35700., 35700., 35700., 35700., 35700.,\n",
       "       35700., 35700., 35700., 35700., 35700., 35700., 35700., 35700.,\n",
       "       35700., 35700., 35700., 35700., 35700., 35700., 35700., 35700.,\n",
       "       35700., 35700., 35700., 35700., 35700., 35700., 35700., 35700.,\n",
       "       35700., 35700., 35700., 35700., 35700., 35700., 35700., 35700.,\n",
       "       35700., 35700., 35700., 35700., 35700., 35700., 35700., 35700.,\n",
       "       35700., 35700., 35700., 35700., 35700., 35700., 35700., 35700.,\n",
       "       35700., 35700., 35700., 35700., 35700., 35700., 35700., 35700.,\n",
       "       35700., 35700., 35700., 35700., 35700., 35700., 35700., 35700.,\n",
       "       35700., 35700., 35700., 35700., 35700., 35700., 35700., 35700.,\n",
       "       35700., 35700., 35700., 35700., 35700., 35700., 35700., 35700.,\n",
       "       35700., 35700., 35700., 35700., 35700., 35700., 35700., 35700.,\n",
       "       35700., 35700., 35700., 35700., 35700., 35700., 35700., 35700.,\n",
       "       35700., 35700., 35700., 35700., 35700., 35700., 35700., 35700.,\n",
       "       35700., 35700., 35700., 35700., 35700., 35700., 35700., 35700.,\n",
       "       35700., 35700., 35700., 35700., 35700., 35700., 35700., 35700.,\n",
       "       35700., 35700., 35700., 35700., 35700., 35700., 35700., 35700.,\n",
       "       35700., 35700., 35700., 35700., 35700., 35700., 35700., 35700.,\n",
       "       35700., 35700., 35700., 35700., 35700., 35700., 35700., 35700.,\n",
       "       35700., 35700., 35700., 35700., 35700., 35700., 35700., 35700.,\n",
       "       35700., 35700., 35700., 35700., 35700., 35700., 35700., 35700.,\n",
       "       35700., 35700., 35700., 35700., 35700., 35700., 35700., 35700.,\n",
       "       35700., 35700., 35700., 35700., 35700., 35700., 35700., 35700.,\n",
       "       35700., 35700., 35700., 35700., 35700., 35700., 35700., 35700.,\n",
       "       35700., 35700., 35700., 35700., 35700., 35700., 35700., 35700.,\n",
       "       35700., 35700., 35700., 35700., 35700., 35700., 35700., 35700.,\n",
       "       35700., 35700., 35700., 35700., 35700., 35700., 35700., 35700.,\n",
       "       35700., 35700., 35700., 35700., 35700., 35700., 35700., 35700.,\n",
       "       35700., 35700., 35700., 35700., 35700., 35700., 35700., 35700.,\n",
       "       35700., 35700., 35700., 35700., 35700., 35700., 35700., 35700.,\n",
       "       35700., 35700., 35700., 35700., 35700., 35700., 35700., 35700.,\n",
       "       35700., 35700., 35700., 35700., 35700., 35700., 35700., 35700.,\n",
       "       35700., 35700., 35700., 35700., 35700., 35700., 35700., 35700.,\n",
       "       35700., 35700., 35700., 35700., 35700., 35700., 35700., 35700.,\n",
       "       35700., 35700., 35700., 35700., 35700., 35700., 35700., 35700.,\n",
       "       35700., 35700., 35700., 35700., 35700., 35700., 35700., 35700.,\n",
       "       35700., 35700., 35700., 35700., 35700., 35700., 35700., 35700.,\n",
       "       35700., 35700., 35700., 35700., 35700., 35700., 35700., 35700.,\n",
       "       35700., 35700., 35700., 35700., 35700., 35700., 35700., 35700.,\n",
       "       35700., 35700., 35700., 35700., 35700., 35700., 35700., 35700.,\n",
       "       35700., 35700., 35700., 35700., 35700., 35700., 35700., 35700.,\n",
       "       35700., 35700., 35700., 35700., 35700., 35700., 35700., 35700.,\n",
       "       35700., 35700., 35700., 35700., 35700., 35700., 35700., 35700.,\n",
       "       35700., 35700., 35700., 35700., 35700., 35700., 35700., 35700.,\n",
       "       35700., 35700., 35700., 35700., 35700., 35700., 35700., 35700.,\n",
       "       35700., 35700., 35700., 35700., 35700., 35700., 35700., 35700.,\n",
       "       35700., 35700., 35700., 35700., 35700., 35700., 35700., 35700.,\n",
       "       35700., 35700., 35700., 35700., 35700., 35700., 35700., 35700.,\n",
       "       35700.])"
      ]
     },
     "execution_count": 46,
     "metadata": {},
     "output_type": "execute_result"
    }
   ],
   "source": [
    "y_hat"
   ]
  },
  {
   "cell_type": "code",
   "execution_count": 51,
   "metadata": {
    "collapsed": false,
    "pycharm": {
     "name": "#%%\n"
    }
   },
   "outputs": [],
   "source": [
    "import numpy as np\n",
    "k = np.asarray([0.5 for i in range(len(target))])"
   ]
  },
  {
   "cell_type": "code",
   "execution_count": 52,
   "metadata": {
    "collapsed": false,
    "pycharm": {
     "name": "#%%\n"
    }
   },
   "outputs": [
    {
     "data": {
      "text/plain": [
       "array([0.5, 0.5, 0.5, 0.5, 0.5, 0.5, 0.5, 0.5, 0.5, 0.5, 0.5, 0.5, 0.5,\n",
       "       0.5, 0.5, 0.5, 0.5, 0.5, 0.5, 0.5, 0.5, 0.5, 0.5, 0.5, 0.5, 0.5,\n",
       "       0.5, 0.5, 0.5, 0.5, 0.5, 0.5, 0.5, 0.5, 0.5, 0.5, 0.5, 0.5, 0.5,\n",
       "       0.5, 0.5, 0.5, 0.5, 0.5, 0.5, 0.5, 0.5, 0.5, 0.5, 0.5, 0.5, 0.5,\n",
       "       0.5, 0.5, 0.5, 0.5, 0.5, 0.5, 0.5, 0.5, 0.5, 0.5, 0.5, 0.5, 0.5,\n",
       "       0.5, 0.5, 0.5, 0.5, 0.5, 0.5, 0.5, 0.5, 0.5, 0.5, 0.5, 0.5, 0.5,\n",
       "       0.5, 0.5, 0.5, 0.5, 0.5, 0.5, 0.5, 0.5, 0.5, 0.5, 0.5, 0.5, 0.5,\n",
       "       0.5, 0.5, 0.5, 0.5, 0.5, 0.5, 0.5, 0.5, 0.5, 0.5, 0.5, 0.5, 0.5,\n",
       "       0.5, 0.5, 0.5, 0.5, 0.5, 0.5, 0.5, 0.5, 0.5, 0.5, 0.5, 0.5, 0.5,\n",
       "       0.5, 0.5, 0.5, 0.5, 0.5, 0.5, 0.5, 0.5, 0.5, 0.5, 0.5, 0.5, 0.5,\n",
       "       0.5, 0.5, 0.5, 0.5, 0.5, 0.5, 0.5, 0.5, 0.5, 0.5, 0.5, 0.5, 0.5,\n",
       "       0.5, 0.5, 0.5, 0.5, 0.5, 0.5, 0.5, 0.5, 0.5, 0.5, 0.5, 0.5, 0.5,\n",
       "       0.5, 0.5, 0.5, 0.5, 0.5, 0.5, 0.5, 0.5, 0.5, 0.5, 0.5, 0.5, 0.5,\n",
       "       0.5, 0.5, 0.5, 0.5, 0.5, 0.5, 0.5, 0.5, 0.5, 0.5, 0.5, 0.5, 0.5,\n",
       "       0.5, 0.5, 0.5, 0.5, 0.5, 0.5, 0.5, 0.5, 0.5, 0.5, 0.5, 0.5, 0.5,\n",
       "       0.5, 0.5, 0.5, 0.5, 0.5, 0.5, 0.5, 0.5, 0.5, 0.5, 0.5, 0.5, 0.5,\n",
       "       0.5, 0.5, 0.5, 0.5, 0.5, 0.5, 0.5, 0.5, 0.5, 0.5, 0.5, 0.5, 0.5,\n",
       "       0.5, 0.5, 0.5, 0.5, 0.5, 0.5, 0.5, 0.5, 0.5, 0.5, 0.5, 0.5, 0.5,\n",
       "       0.5, 0.5, 0.5, 0.5, 0.5, 0.5, 0.5, 0.5, 0.5, 0.5, 0.5, 0.5, 0.5,\n",
       "       0.5, 0.5, 0.5, 0.5, 0.5, 0.5, 0.5, 0.5, 0.5, 0.5, 0.5, 0.5, 0.5,\n",
       "       0.5, 0.5, 0.5, 0.5, 0.5, 0.5, 0.5, 0.5, 0.5, 0.5, 0.5, 0.5, 0.5,\n",
       "       0.5, 0.5, 0.5, 0.5, 0.5, 0.5, 0.5, 0.5, 0.5, 0.5, 0.5, 0.5, 0.5,\n",
       "       0.5, 0.5, 0.5, 0.5, 0.5, 0.5, 0.5, 0.5, 0.5, 0.5, 0.5, 0.5, 0.5,\n",
       "       0.5, 0.5, 0.5, 0.5, 0.5, 0.5, 0.5, 0.5, 0.5, 0.5, 0.5, 0.5, 0.5,\n",
       "       0.5, 0.5, 0.5, 0.5, 0.5, 0.5, 0.5, 0.5, 0.5, 0.5, 0.5, 0.5, 0.5,\n",
       "       0.5, 0.5, 0.5, 0.5, 0.5, 0.5, 0.5, 0.5, 0.5, 0.5, 0.5, 0.5, 0.5,\n",
       "       0.5, 0.5, 0.5, 0.5, 0.5, 0.5, 0.5, 0.5, 0.5, 0.5, 0.5, 0.5, 0.5,\n",
       "       0.5, 0.5, 0.5, 0.5, 0.5, 0.5, 0.5, 0.5, 0.5, 0.5, 0.5, 0.5, 0.5,\n",
       "       0.5, 0.5, 0.5, 0.5, 0.5, 0.5, 0.5, 0.5, 0.5, 0.5, 0.5, 0.5, 0.5,\n",
       "       0.5, 0.5, 0.5, 0.5, 0.5, 0.5, 0.5, 0.5, 0.5, 0.5, 0.5, 0.5, 0.5,\n",
       "       0.5, 0.5, 0.5, 0.5, 0.5, 0.5, 0.5, 0.5, 0.5, 0.5, 0.5, 0.5, 0.5,\n",
       "       0.5, 0.5, 0.5, 0.5, 0.5, 0.5, 0.5, 0.5, 0.5, 0.5, 0.5, 0.5, 0.5,\n",
       "       0.5, 0.5, 0.5, 0.5, 0.5, 0.5, 0.5, 0.5, 0.5, 0.5, 0.5, 0.5, 0.5,\n",
       "       0.5, 0.5, 0.5, 0.5, 0.5, 0.5, 0.5, 0.5, 0.5, 0.5, 0.5, 0.5, 0.5,\n",
       "       0.5, 0.5, 0.5, 0.5, 0.5, 0.5, 0.5, 0.5, 0.5, 0.5, 0.5, 0.5, 0.5,\n",
       "       0.5, 0.5, 0.5, 0.5, 0.5, 0.5, 0.5, 0.5, 0.5, 0.5, 0.5, 0.5, 0.5,\n",
       "       0.5, 0.5, 0.5, 0.5, 0.5, 0.5, 0.5, 0.5, 0.5, 0.5, 0.5, 0.5, 0.5,\n",
       "       0.5, 0.5, 0.5, 0.5, 0.5, 0.5, 0.5, 0.5, 0.5, 0.5, 0.5, 0.5, 0.5,\n",
       "       0.5, 0.5, 0.5, 0.5, 0.5, 0.5, 0.5, 0.5, 0.5, 0.5, 0.5, 0.5, 0.5,\n",
       "       0.5, 0.5, 0.5, 0.5, 0.5, 0.5, 0.5, 0.5, 0.5, 0.5, 0.5, 0.5, 0.5,\n",
       "       0.5, 0.5, 0.5, 0.5, 0.5, 0.5, 0.5, 0.5, 0.5, 0.5, 0.5, 0.5, 0.5,\n",
       "       0.5, 0.5, 0.5, 0.5, 0.5, 0.5, 0.5, 0.5, 0.5, 0.5, 0.5, 0.5, 0.5,\n",
       "       0.5, 0.5, 0.5, 0.5, 0.5, 0.5, 0.5, 0.5, 0.5, 0.5, 0.5, 0.5, 0.5,\n",
       "       0.5, 0.5, 0.5, 0.5, 0.5, 0.5, 0.5, 0.5, 0.5, 0.5])"
      ]
     },
     "execution_count": 52,
     "metadata": {},
     "output_type": "execute_result"
    }
   ],
   "source": [
    "k"
   ]
  },
  {
   "cell_type": "code",
   "execution_count": 53,
   "metadata": {
    "collapsed": false,
    "pycharm": {
     "name": "#%%\n"
    }
   },
   "outputs": [],
   "source": [
    "bin_model = DataBinModel(10)\n",
    "bin_model.fit(data)\n",
    "data = bin_model.transform(data)\n",
    "init_y_hat = np.asarray([0.5 for i in range(len(target))])\n",
    "g = init_y_hat - target\n",
    "h = init_y_hat * (1 - init_y_hat)\n",
    "model.fit(data, g, h)"
   ]
  },
  {
   "cell_type": "code",
   "execution_count": 54,
   "metadata": {
    "collapsed": false,
    "pycharm": {
     "name": "#%%\n"
    }
   },
   "outputs": [
    {
     "data": {
      "text/plain": [
       "array([-1.99950323, -1.99950323, -1.99950323, -1.99652778, -1.99950323,\n",
       "       -1.99652778, -1.99950323, -1.99652778, -1.99652778, -1.99652778,\n",
       "       -1.98675497, -1.99950323, -1.99950323, -0.76687117, -1.99652778,\n",
       "       -1.99950323, -1.99950323, -1.99950323, -1.99950323,  1.92499377,\n",
       "        1.92499377,  1.92499377, -1.99950323, -1.99950323, -1.99950323,\n",
       "       -1.99950323, -1.99950323, -1.99950323, -1.99950323, -1.99950323,\n",
       "       -1.99950323, -1.99950323, -1.99950323, -1.99950323, -1.99950323,\n",
       "       -1.99950323, -1.99950323,  1.92499377, -1.92307692, -1.99652778,\n",
       "       -0.76687117,  1.92499377, -1.99950323,  1.49812734, -1.99652778,\n",
       "       -1.99950323,  1.92499377, -1.99652778,  1.92499377,  1.92499377,\n",
       "        1.92499377,  1.92499377,  1.92499377, -1.99950323, -1.98675497,\n",
       "        1.92499377, -1.99950323, -1.99652778,  1.92499377,  1.92499377,\n",
       "        1.92499377,  1.92499377, -1.99950323,  1.92499377, -1.99652778,\n",
       "       -1.99652778,  1.92499377,  1.92499377,  1.98412698,  1.92499377,\n",
       "       -1.99950323,  1.92499377, -1.99950323,  1.49812734,  1.92499377,\n",
       "       -1.99950323,  1.92499377, -1.99950323, -1.99950323,  1.92499377,\n",
       "        1.92499377,  1.98412698, -1.99950323, -1.99950323,  1.92499377,\n",
       "       -1.99950323, -0.76687117, -1.99950323,  1.92499377,  1.49812734,\n",
       "       -0.76687117, -0.76687117,  1.49812734,  1.92499377, -1.99950323,\n",
       "       -1.99950323,  1.92499377,  1.92499377,  1.92499377, -1.99652778,\n",
       "       -0.76687117,  1.92499377,  1.92499377,  1.92499377,  1.92499377,\n",
       "       -1.92307692,  1.92499377,  1.92499377, -1.99950323,  1.92499377,\n",
       "        1.92499377,  1.92499377,  1.92499377,  1.92499377,  1.92499377,\n",
       "        1.92499377,  1.92499377, -1.99950323, -1.99950323, -1.99950323,\n",
       "        1.92499377, -1.99950323, -1.99950323,  1.92499377,  1.92499377,\n",
       "        1.92499377, -0.76687117, -1.99950323,  1.92499377, -1.99950323,\n",
       "        1.92499377, -1.99950323, -1.99950323,  1.49812734, -1.99950323,\n",
       "        1.92499377,  1.92499377,  1.92499377, -1.99950323,  1.92499377,\n",
       "        1.92499377, -1.99950323,  1.92499377,  1.92499377,  1.92499377,\n",
       "        1.92499377, -1.99652778,  1.49812734,  1.98412698,  1.92499377,\n",
       "        1.92499377,  1.92499377,  1.98412698,  1.92499377,  1.92499377,\n",
       "        1.92499377, -1.99950323,  1.98019802,  1.92499377,  1.92499377,\n",
       "        1.92499377, -1.99950323, -1.99950323,  1.92499377, -1.99950323,\n",
       "        1.49812734,  1.92499377, -1.99950323, -1.99950323,  1.49812734,\n",
       "        1.92499377, -1.98675497, -1.99950323,  1.92499377,  1.92499377,\n",
       "        1.92499377,  1.92499377, -1.99950323,  1.92499377,  1.92499377,\n",
       "       -1.99950323, -1.99950323, -1.99950323,  1.92499377, -0.76687117,\n",
       "        1.92499377, -1.99950323,  1.92499377,  1.92499377,  1.92499377,\n",
       "       -1.99652778,  1.92499377,  1.92499377,  1.92499377, -1.99950323,\n",
       "        1.92499377, -1.99652778, -1.99950323, -1.99950323, -1.99950323,\n",
       "        1.92499377, -1.99950323, -1.99950323, -1.99950323,  1.92499377,\n",
       "       -1.99950323,  1.92499377, -1.99950323,  1.92499377,  1.49812734,\n",
       "       -1.99950323,  1.92499377, -1.99950323, -1.99950323, -1.99652778,\n",
       "       -1.99652778,  1.92499377,  1.92499377, -1.99950323, -1.99950323,\n",
       "        1.92499377,  1.92499377,  1.92499377, -1.99950323,  1.92499377,\n",
       "        1.49812734,  1.92499377,  1.49812734,  1.92499377, -1.99652778,\n",
       "       -1.99950323,  1.92499377,  1.92499377, -1.99950323,  1.92499377,\n",
       "        1.92499377, -1.99950323, -1.99950323,  1.92499377, -1.99950323,\n",
       "        1.92499377,  1.92499377,  1.92499377,  1.92499377, -1.99950323,\n",
       "        1.92499377,  1.92499377,  1.98412698,  1.92499377,  1.92499377,\n",
       "       -1.99950323,  1.92499377, -1.99950323, -1.99950323, -1.99950323,\n",
       "        1.49812734, -1.99950323, -1.99950323, -1.99950323, -1.99950323,\n",
       "       -1.99950323, -1.98675497, -1.99950323, -1.98675497, -1.99950323,\n",
       "       -1.99950323,  1.92499377,  1.92499377,  1.92499377,  1.92499377,\n",
       "        1.92499377,  1.92499377, -1.99950323,  1.92499377, -1.98675497,\n",
       "        1.92499377,  1.92499377, -1.99950323,  1.92499377,  1.92499377,\n",
       "       -1.99950323,  1.92499377, -1.99950323, -1.99950323,  1.92499377,\n",
       "        1.92499377,  1.92499377,  1.92499377,  1.92499377,  1.92499377,\n",
       "        1.92499377,  1.49812734,  1.92499377,  1.92499377,  1.92499377,\n",
       "        1.92499377,  1.92499377,  1.92499377,  1.49812734,  1.92499377,\n",
       "       -1.99950323,  1.92499377, -1.99950323,  1.92499377,  1.92499377,\n",
       "        1.92499377,  1.92499377,  1.92499377,  1.92499377,  1.92499377,\n",
       "        1.92499377,  1.49812734,  1.92499377,  1.92499377,  1.92499377,\n",
       "        1.92499377,  1.92499377, -1.99950323,  1.92499377,  1.92499377,\n",
       "        1.92499377, -1.99950323,  1.92499377, -1.99950323,  1.92499377,\n",
       "        1.92499377,  1.92499377,  1.92499377, -1.99950323, -0.76687117,\n",
       "       -1.99950323,  1.92499377,  1.92499377,  1.92499377,  1.92499377,\n",
       "       -1.99950323,  1.92499377, -1.99950323,  1.92499377, -1.99950323,\n",
       "        1.49812734,  1.92499377,  1.92499377, -1.99950323,  1.92499377,\n",
       "        1.92499377,  1.92499377,  1.49812734,  1.92499377,  1.92499377,\n",
       "        1.92499377, -1.99950323, -1.99950323, -1.99950323,  1.92499377,\n",
       "        1.92499377,  1.92499377,  1.92499377,  1.92499377,  1.92499377,\n",
       "        1.92499377,  1.92499377,  1.92499377,  1.98019802,  1.92499377,\n",
       "       -1.99950323, -1.99950323,  1.92499377, -1.99950323, -1.99950323,\n",
       "       -1.99950323,  1.49812734, -1.99950323, -1.99950323,  1.92499377,\n",
       "        1.49812734,  1.92499377,  1.92499377,  1.92499377, -1.99652778,\n",
       "        1.92499377,  1.92499377,  1.92499377,  1.92499377,  1.92499377,\n",
       "        1.92499377,  1.92499377,  1.92499377,  1.92499377, -1.99950323,\n",
       "        1.92499377,  1.92499377, -1.99950323, -1.99950323,  1.92499377,\n",
       "        1.92499377,  1.92499377,  1.92499377,  1.92499377,  1.92499377,\n",
       "       -1.99950323,  1.92499377,  1.92499377,  1.92499377,  1.92499377,\n",
       "        1.92499377,  1.98019802,  1.92499377, -1.99950323,  1.92499377,\n",
       "        1.92499377,  1.92499377,  1.92499377, -0.76687117, -0.76687117,\n",
       "        1.92499377,  1.92499377, -1.99950323,  1.92499377,  1.92499377,\n",
       "        1.92499377,  1.49812734,  1.92499377,  1.92499377,  1.92499377,\n",
       "        1.92499377,  1.92499377,  1.92499377,  1.92499377,  1.92499377,\n",
       "       -1.99950323,  1.92499377, -1.99950323, -1.99950323,  1.92499377,\n",
       "       -1.99652778,  1.92499377,  1.92499377,  1.92499377,  1.92499377,\n",
       "        1.92307692, -1.99950323,  1.92499377,  1.92499377, -1.99950323,\n",
       "        1.92499377, -1.99950323,  1.49812734,  1.49812734, -1.99950323,\n",
       "        1.92499377, -1.99950323,  1.92499377,  1.92499377,  1.92499377,\n",
       "        1.92499377,  1.92499377,  1.92499377,  1.92499377,  1.92499377,\n",
       "       -1.99950323, -1.99950323,  1.92499377,  1.92499377,  1.92499377,\n",
       "        1.92499377,  1.92499377,  1.92499377, -1.99950323,  1.92499377,\n",
       "        1.92499377,  1.92499377,  1.49812734,  1.92499377,  1.92499377,\n",
       "        1.92499377,  1.49812734,  1.92499377,  1.92499377, -1.99950323,\n",
       "        1.92499377,  1.49812734,  1.92499377,  1.92499377,  1.49812734,\n",
       "        1.92499377,  1.49812734, -1.99950323,  1.92499377, -1.92307692,\n",
       "        1.92499377,  1.98019802, -1.99950323,  1.92499377,  1.92499377,\n",
       "        1.49812734,  1.92499377,  1.92499377, -1.99950323, -1.99950323,\n",
       "        1.49812734, -1.99652778,  1.92499377, -1.99950323,  1.92499377,\n",
       "        1.92499377,  1.92499377,  1.92499377,  1.49812734, -1.99950323,\n",
       "        1.92499377,  1.92499377, -1.99652778,  1.49812734,  1.49812734,\n",
       "        1.92499377, -1.99950323, -1.99950323,  1.92499377,  1.92499377,\n",
       "        1.92499377, -1.99950323,  1.92499377,  1.92499377,  1.92499377,\n",
       "        1.92499377,  1.92499377,  1.92499377,  1.92499377,  1.92499377,\n",
       "        1.92499377,  1.92499377,  1.92499377, -1.99950323,  1.92499377,\n",
       "       -1.99950323,  1.92499377,  1.92499377,  1.92499377,  1.92499377,\n",
       "        1.92499377, -0.76687117, -0.76687117,  1.92499377,  1.92499377,\n",
       "        1.92499377,  1.92499377,  1.92499377,  1.92499377,  1.92499377,\n",
       "        1.92499377,  1.92499377,  1.92499377,  1.92499377,  1.92499377,\n",
       "        1.92499377,  1.92499377,  1.92499377,  1.92499377,  1.92499377,\n",
       "        1.92499377,  1.92499377, -1.99950323, -1.99950323, -1.99950323,\n",
       "       -1.99950323, -1.99950323, -1.99950323,  1.92499377])"
      ]
     },
     "execution_count": 54,
     "metadata": {},
     "output_type": "execute_result"
    }
   ],
   "source": [
    "model.predict(data)"
   ]
  },
  {
   "cell_type": "code",
   "execution_count": 56,
   "metadata": {
    "collapsed": false,
    "pycharm": {
     "name": "#%%\n"
    }
   },
   "outputs": [],
   "source": [
    "def sigmoid(x):\n",
    "    return 1 / (1 + np.exp(-x))\n",
    "\n",
    "res = sigmoid(model.predict(data))"
   ]
  },
  {
   "cell_type": "code",
   "execution_count": 57,
   "metadata": {
    "collapsed": false,
    "pycharm": {
     "name": "#%%\n"
    }
   },
   "outputs": [],
   "source": [
    "def to_type(x):\n",
    "    # x = self.data_bin.transform(x)\n",
    "    rows = x.shape[0]\n",
    "    result = []\n",
    "    for row in range(rows):\n",
    "        sample = x[row]\n",
    "        result.append(1 if sample > 0.5 else 0)\n",
    "    return np.asarray(result)"
   ]
  },
  {
   "cell_type": "code",
   "execution_count": 69,
   "metadata": {
    "collapsed": false,
    "pycharm": {
     "name": "#%%\n"
    }
   },
   "outputs": [],
   "source": [
    "type = to_type(res)"
   ]
  },
  {
   "cell_type": "code",
   "execution_count": 70,
   "metadata": {
    "collapsed": false,
    "pycharm": {
     "name": "#%%\n"
    }
   },
   "outputs": [
    {
     "data": {
      "text/plain": [
       "array([0.11925509, 0.11925509, 0.11925509, 0.11956797, 0.11925509,\n",
       "       0.11956797, 0.11925509, 0.11956797, 0.11956797, 0.11956797,\n",
       "       0.12060059, 0.11925509, 0.11925509, 0.31715632, 0.11956797,\n",
       "       0.11925509, 0.11925509, 0.11925509, 0.11925509, 0.87269427,\n",
       "       0.87269427, 0.87269427, 0.11925509, 0.11925509, 0.11925509,\n",
       "       0.11925509, 0.11925509, 0.11925509, 0.11925509, 0.11925509,\n",
       "       0.11925509, 0.11925509, 0.11925509, 0.11925509, 0.11925509,\n",
       "       0.11925509, 0.11925509, 0.87269427, 0.12751884, 0.11956797,\n",
       "       0.31715632, 0.87269427, 0.11925509, 0.81729501, 0.11956797,\n",
       "       0.11925509, 0.87269427, 0.11956797, 0.87269427, 0.87269427,\n",
       "       0.87269427, 0.87269427, 0.87269427, 0.11925509, 0.12060059,\n",
       "       0.87269427, 0.11925509, 0.11956797, 0.87269427, 0.87269427,\n",
       "       0.87269427, 0.87269427, 0.11925509, 0.87269427, 0.11956797,\n",
       "       0.11956797, 0.87269427, 0.87269427, 0.87912041, 0.87269427,\n",
       "       0.11925509, 0.87269427, 0.11925509, 0.81729501, 0.87269427,\n",
       "       0.11925509, 0.87269427, 0.11925509, 0.11925509, 0.87269427,\n",
       "       0.87269427, 0.87912041, 0.11925509, 0.11925509, 0.87269427,\n",
       "       0.11925509, 0.31715632, 0.11925509, 0.87269427, 0.81729501,\n",
       "       0.31715632, 0.31715632, 0.81729501, 0.87269427, 0.11925509,\n",
       "       0.11925509, 0.87269427, 0.87269427, 0.87269427, 0.11956797,\n",
       "       0.31715632, 0.87269427, 0.87269427, 0.87269427, 0.87269427,\n",
       "       0.12751884, 0.87269427, 0.87269427, 0.11925509, 0.87269427,\n",
       "       0.87269427, 0.87269427, 0.87269427, 0.87269427, 0.87269427,\n",
       "       0.87269427, 0.87269427, 0.11925509, 0.11925509, 0.11925509,\n",
       "       0.87269427, 0.11925509, 0.11925509, 0.87269427, 0.87269427,\n",
       "       0.87269427, 0.31715632, 0.11925509, 0.87269427, 0.11925509,\n",
       "       0.87269427, 0.11925509, 0.11925509, 0.81729501, 0.11925509,\n",
       "       0.87269427, 0.87269427, 0.87269427, 0.11925509, 0.87269427,\n",
       "       0.87269427, 0.11925509, 0.87269427, 0.87269427, 0.87269427,\n",
       "       0.87269427, 0.11956797, 0.81729501, 0.87912041, 0.87269427,\n",
       "       0.87269427, 0.87269427, 0.87912041, 0.87269427, 0.87269427,\n",
       "       0.87269427, 0.11925509, 0.87870227, 0.87269427, 0.87269427,\n",
       "       0.87269427, 0.11925509, 0.11925509, 0.87269427, 0.11925509,\n",
       "       0.81729501, 0.87269427, 0.11925509, 0.11925509, 0.81729501,\n",
       "       0.87269427, 0.12060059, 0.11925509, 0.87269427, 0.87269427,\n",
       "       0.87269427, 0.87269427, 0.11925509, 0.87269427, 0.87269427,\n",
       "       0.11925509, 0.11925509, 0.11925509, 0.87269427, 0.31715632,\n",
       "       0.87269427, 0.11925509, 0.87269427, 0.87269427, 0.87269427,\n",
       "       0.11956797, 0.87269427, 0.87269427, 0.87269427, 0.11925509,\n",
       "       0.87269427, 0.11956797, 0.11925509, 0.11925509, 0.11925509,\n",
       "       0.87269427, 0.11925509, 0.11925509, 0.11925509, 0.87269427,\n",
       "       0.11925509, 0.87269427, 0.11925509, 0.87269427, 0.81729501,\n",
       "       0.11925509, 0.87269427, 0.11925509, 0.11925509, 0.11956797,\n",
       "       0.11956797, 0.87269427, 0.87269427, 0.11925509, 0.11925509,\n",
       "       0.87269427, 0.87269427, 0.87269427, 0.11925509, 0.87269427,\n",
       "       0.81729501, 0.87269427, 0.81729501, 0.87269427, 0.11956797,\n",
       "       0.11925509, 0.87269427, 0.87269427, 0.11925509, 0.87269427,\n",
       "       0.87269427, 0.11925509, 0.11925509, 0.87269427, 0.11925509,\n",
       "       0.87269427, 0.87269427, 0.87269427, 0.87269427, 0.11925509,\n",
       "       0.87269427, 0.87269427, 0.87912041, 0.87269427, 0.87269427,\n",
       "       0.11925509, 0.87269427, 0.11925509, 0.11925509, 0.11925509,\n",
       "       0.81729501, 0.11925509, 0.11925509, 0.11925509, 0.11925509,\n",
       "       0.11925509, 0.12060059, 0.11925509, 0.12060059, 0.11925509,\n",
       "       0.11925509, 0.87269427, 0.87269427, 0.87269427, 0.87269427,\n",
       "       0.87269427, 0.87269427, 0.11925509, 0.87269427, 0.12060059,\n",
       "       0.87269427, 0.87269427, 0.11925509, 0.87269427, 0.87269427,\n",
       "       0.11925509, 0.87269427, 0.11925509, 0.11925509, 0.87269427,\n",
       "       0.87269427, 0.87269427, 0.87269427, 0.87269427, 0.87269427,\n",
       "       0.87269427, 0.81729501, 0.87269427, 0.87269427, 0.87269427,\n",
       "       0.87269427, 0.87269427, 0.87269427, 0.81729501, 0.87269427,\n",
       "       0.11925509, 0.87269427, 0.11925509, 0.87269427, 0.87269427,\n",
       "       0.87269427, 0.87269427, 0.87269427, 0.87269427, 0.87269427,\n",
       "       0.87269427, 0.81729501, 0.87269427, 0.87269427, 0.87269427,\n",
       "       0.87269427, 0.87269427, 0.11925509, 0.87269427, 0.87269427,\n",
       "       0.87269427, 0.11925509, 0.87269427, 0.11925509, 0.87269427,\n",
       "       0.87269427, 0.87269427, 0.87269427, 0.11925509, 0.31715632,\n",
       "       0.11925509, 0.87269427, 0.87269427, 0.87269427, 0.87269427,\n",
       "       0.11925509, 0.87269427, 0.11925509, 0.87269427, 0.11925509,\n",
       "       0.81729501, 0.87269427, 0.87269427, 0.11925509, 0.87269427,\n",
       "       0.87269427, 0.87269427, 0.81729501, 0.87269427, 0.87269427,\n",
       "       0.87269427, 0.11925509, 0.11925509, 0.11925509, 0.87269427,\n",
       "       0.87269427, 0.87269427, 0.87269427, 0.87269427, 0.87269427,\n",
       "       0.87269427, 0.87269427, 0.87269427, 0.87870227, 0.87269427,\n",
       "       0.11925509, 0.11925509, 0.87269427, 0.11925509, 0.11925509,\n",
       "       0.11925509, 0.81729501, 0.11925509, 0.11925509, 0.87269427,\n",
       "       0.81729501, 0.87269427, 0.87269427, 0.87269427, 0.11956797,\n",
       "       0.87269427, 0.87269427, 0.87269427, 0.87269427, 0.87269427,\n",
       "       0.87269427, 0.87269427, 0.87269427, 0.87269427, 0.11925509,\n",
       "       0.87269427, 0.87269427, 0.11925509, 0.11925509, 0.87269427,\n",
       "       0.87269427, 0.87269427, 0.87269427, 0.87269427, 0.87269427,\n",
       "       0.11925509, 0.87269427, 0.87269427, 0.87269427, 0.87269427,\n",
       "       0.87269427, 0.87870227, 0.87269427, 0.11925509, 0.87269427,\n",
       "       0.87269427, 0.87269427, 0.87269427, 0.31715632, 0.31715632,\n",
       "       0.87269427, 0.87269427, 0.11925509, 0.87269427, 0.87269427,\n",
       "       0.87269427, 0.81729501, 0.87269427, 0.87269427, 0.87269427,\n",
       "       0.87269427, 0.87269427, 0.87269427, 0.87269427, 0.87269427,\n",
       "       0.11925509, 0.87269427, 0.11925509, 0.11925509, 0.87269427,\n",
       "       0.11956797, 0.87269427, 0.87269427, 0.87269427, 0.87269427,\n",
       "       0.87248116, 0.11925509, 0.87269427, 0.87269427, 0.11925509,\n",
       "       0.87269427, 0.11925509, 0.81729501, 0.81729501, 0.11925509,\n",
       "       0.87269427, 0.11925509, 0.87269427, 0.87269427, 0.87269427,\n",
       "       0.87269427, 0.87269427, 0.87269427, 0.87269427, 0.87269427,\n",
       "       0.11925509, 0.11925509, 0.87269427, 0.87269427, 0.87269427,\n",
       "       0.87269427, 0.87269427, 0.87269427, 0.11925509, 0.87269427,\n",
       "       0.87269427, 0.87269427, 0.81729501, 0.87269427, 0.87269427,\n",
       "       0.87269427, 0.81729501, 0.87269427, 0.87269427, 0.11925509,\n",
       "       0.87269427, 0.81729501, 0.87269427, 0.87269427, 0.81729501,\n",
       "       0.87269427, 0.81729501, 0.11925509, 0.87269427, 0.12751884,\n",
       "       0.87269427, 0.87870227, 0.11925509, 0.87269427, 0.87269427,\n",
       "       0.81729501, 0.87269427, 0.87269427, 0.11925509, 0.11925509,\n",
       "       0.81729501, 0.11956797, 0.87269427, 0.11925509, 0.87269427,\n",
       "       0.87269427, 0.87269427, 0.87269427, 0.81729501, 0.11925509,\n",
       "       0.87269427, 0.87269427, 0.11956797, 0.81729501, 0.81729501,\n",
       "       0.87269427, 0.11925509, 0.11925509, 0.87269427, 0.87269427,\n",
       "       0.87269427, 0.11925509, 0.87269427, 0.87269427, 0.87269427,\n",
       "       0.87269427, 0.87269427, 0.87269427, 0.87269427, 0.87269427,\n",
       "       0.87269427, 0.87269427, 0.87269427, 0.11925509, 0.87269427,\n",
       "       0.11925509, 0.87269427, 0.87269427, 0.87269427, 0.87269427,\n",
       "       0.87269427, 0.31715632, 0.31715632, 0.87269427, 0.87269427,\n",
       "       0.87269427, 0.87269427, 0.87269427, 0.87269427, 0.87269427,\n",
       "       0.87269427, 0.87269427, 0.87269427, 0.87269427, 0.87269427,\n",
       "       0.87269427, 0.87269427, 0.87269427, 0.87269427, 0.87269427,\n",
       "       0.87269427, 0.87269427, 0.11925509, 0.11925509, 0.11925509,\n",
       "       0.11925509, 0.11925509, 0.11925509, 0.87269427])"
      ]
     },
     "execution_count": 70,
     "metadata": {},
     "output_type": "execute_result"
    }
   ],
   "source": [
    "res"
   ]
  },
  {
   "cell_type": "code",
   "execution_count": 71,
   "metadata": {
    "collapsed": false,
    "pycharm": {
     "name": "#%%\n"
    }
   },
   "outputs": [
    {
     "data": {
      "text/plain": [
       "(array([0, 0, 0, 0, 0, 0, 0, 0, 0, 0, 0, 0, 0, 0, 0, 0, 0, 0, 0, 1]),\n",
       " array([0.11925509, 0.11925509, 0.11925509, 0.11956797, 0.11925509,\n",
       "        0.11956797, 0.11925509, 0.11956797, 0.11956797, 0.11956797,\n",
       "        0.12060059, 0.11925509, 0.11925509, 0.31715632, 0.11956797,\n",
       "        0.11925509, 0.11925509, 0.11925509, 0.11925509, 0.87269427]))"
      ]
     },
     "execution_count": 71,
     "metadata": {},
     "output_type": "execute_result"
    }
   ],
   "source": [
    "type[:20], res[:20]"
   ]
  },
  {
   "cell_type": "code",
   "execution_count": 72,
   "metadata": {
    "collapsed": false,
    "pycharm": {
     "name": "#%%\n"
    }
   },
   "outputs": [],
   "source": [
    "def accuracy(y_hat, y):\n",
    "    total = len(y_hat)\n",
    "    correct = 0\n",
    "    for row in range(total):\n",
    "       correct += 1\n",
    "    print('total: ' + str(total))\n",
    "    print('correct' + str(correct))\n",
    "    return correct / total"
   ]
  },
  {
   "cell_type": "code",
   "execution_count": 63,
   "metadata": {
    "collapsed": false,
    "pycharm": {
     "name": "#%%\n"
    }
   },
   "outputs": [
    {
     "ename": "SyntaxError",
     "evalue": "invalid syntax (<ipython-input-63-8d11f20fcb47>, line 1)",
     "output_type": "error",
     "traceback": [
      "\u001B[0;36m  File \u001B[0;32m\"<ipython-input-63-8d11f20fcb47>\"\u001B[0;36m, line \u001B[0;32m1\u001B[0m\n\u001B[0;31m    0 && 0\u001B[0m\n\u001B[0m       ^\u001B[0m\n\u001B[0;31mSyntaxError\u001B[0m\u001B[0;31m:\u001B[0m invalid syntax\n"
     ]
    }
   ],
   "source": []
  },
  {
   "cell_type": "code",
   "execution_count": 75,
   "metadata": {
    "collapsed": false,
    "pycharm": {
     "name": "#%%\n"
    }
   },
   "outputs": [
    {
     "name": "stdout",
     "output_type": "stream",
     "text": [
      "total: 569\n",
      "correct569\n"
     ]
    },
    {
     "data": {
      "text/plain": [
       "1.0"
      ]
     },
     "execution_count": 75,
     "metadata": {},
     "output_type": "execute_result"
    }
   ],
   "source": [
    "accuracy(type, target)\n"
   ]
  },
  {
   "cell_type": "code",
   "execution_count": null,
   "outputs": [],
   "source": [
    "\n",
    "np.full(target.shape, 0.5)"
   ],
   "metadata": {
    "collapsed": false,
    "pycharm": {
     "name": "#%%\n"
    }
   }
  },
  {
   "cell_type": "code",
   "execution_count": 19,
   "metadata": {
    "collapsed": false,
    "pycharm": {
     "name": "#%%\n"
    }
   },
   "outputs": [
    {
     "name": "stdout",
     "output_type": "stream",
     "text": [
      "number of leaves: 1\n"
     ]
    },
    {
     "ename": "KeyboardInterrupt",
     "evalue": "",
     "output_type": "error",
     "traceback": [
      "\u001B[0;31m---------------------------------------------------------------------------\u001B[0m",
      "\u001B[0;31mKeyboardInterrupt\u001B[0m                         Traceback (most recent call last)",
      "\u001B[0;32m<ipython-input-19-1d6485ac8afe>\u001B[0m in \u001B[0;36m<module>\u001B[0;34m\u001B[0m\n\u001B[1;32m      7\u001B[0m                          \u001B[0malpha\u001B[0m\u001B[0;34m=\u001B[0m\u001B[0;36m0.01\u001B[0m\u001B[0;34m,\u001B[0m \u001B[0mgamma\u001B[0m\u001B[0;34m=\u001B[0m\u001B[0;36m0.01\u001B[0m\u001B[0;34m,\u001B[0m\u001B[0;34m\u001B[0m\u001B[0;34m\u001B[0m\u001B[0m\n\u001B[1;32m      8\u001B[0m                          max_depth=10, anim=True)\n\u001B[0;32m----> 9\u001B[0;31m \u001B[0mmodel\u001B[0m\u001B[0;34m.\u001B[0m\u001B[0mfit\u001B[0m\u001B[0;34m(\u001B[0m\u001B[0mdata\u001B[0m\u001B[0;34m,\u001B[0m \u001B[0mtarget\u001B[0m\u001B[0;34m)\u001B[0m\u001B[0;34m\u001B[0m\u001B[0;34m\u001B[0m\u001B[0m\n\u001B[0m\u001B[1;32m     10\u001B[0m \u001B[0mresult\u001B[0m \u001B[0;34m=\u001B[0m \u001B[0mmodel\u001B[0m\u001B[0;34m.\u001B[0m\u001B[0mtransform\u001B[0m\u001B[0;34m(\u001B[0m\u001B[0mdata\u001B[0m\u001B[0;34m)\u001B[0m\u001B[0;34m\u001B[0m\u001B[0;34m\u001B[0m\u001B[0m\n",
      "\u001B[0;32m~/PycharmProjects/XGBoost/XGBoostRegressor.py\u001B[0m in \u001B[0;36mfit\u001B[0;34m(self, x, y)\u001B[0m\n\u001B[1;32m     44\u001B[0m                 \u001B[0my_hat\u001B[0m \u001B[0;34m+=\u001B[0m \u001B[0mself\u001B[0m\u001B[0;34m.\u001B[0m\u001B[0mlr\u001B[0m \u001B[0;34m*\u001B[0m \u001B[0mcurr_predict\u001B[0m\u001B[0;34m\u001B[0m\u001B[0;34m\u001B[0m\u001B[0m\n\u001B[1;32m     45\u001B[0m             \u001B[0;32mif\u001B[0m \u001B[0mself\u001B[0m\u001B[0;34m.\u001B[0m\u001B[0manim\u001B[0m\u001B[0;34m:\u001B[0m\u001B[0;34m\u001B[0m\u001B[0;34m\u001B[0m\u001B[0m\n\u001B[0;32m---> 46\u001B[0;31m                 \u001B[0manimator\u001B[0m\u001B[0;34m.\u001B[0m\u001B[0madd\u001B[0m\u001B[0;34m(\u001B[0m\u001B[0mi\u001B[0m\u001B[0;34m,\u001B[0m \u001B[0mamse\u001B[0m\u001B[0;34m(\u001B[0m\u001B[0my\u001B[0m\u001B[0;34m,\u001B[0m \u001B[0my_hat\u001B[0m\u001B[0;34m)\u001B[0m \u001B[0;34m+\u001B[0m \u001B[0mcurr_tree\u001B[0m\u001B[0;34m.\u001B[0m\u001B[0mpenalty\u001B[0m\u001B[0;34m(\u001B[0m\u001B[0;34m)\u001B[0m\u001B[0;34m)\u001B[0m\u001B[0;34m\u001B[0m\u001B[0;34m\u001B[0m\u001B[0m\n\u001B[0m\u001B[1;32m     47\u001B[0m             \u001B[0mg\u001B[0m \u001B[0;34m=\u001B[0m \u001B[0my_hat\u001B[0m \u001B[0;34m-\u001B[0m \u001B[0my\u001B[0m\u001B[0;34m\u001B[0m\u001B[0;34m\u001B[0m\u001B[0m\n\u001B[1;32m     48\u001B[0m \u001B[0;34m\u001B[0m\u001B[0m\n",
      "\u001B[0;32m~/PycharmProjects/XGBoost/Animator.py\u001B[0m in \u001B[0;36madd\u001B[0;34m(self, x, y)\u001B[0m\n\u001B[1;32m     36\u001B[0m                 \u001B[0mself\u001B[0m\u001B[0;34m.\u001B[0m\u001B[0mX\u001B[0m\u001B[0;34m[\u001B[0m\u001B[0mi\u001B[0m\u001B[0;34m]\u001B[0m\u001B[0;34m.\u001B[0m\u001B[0mappend\u001B[0m\u001B[0;34m(\u001B[0m\u001B[0ma\u001B[0m\u001B[0;34m)\u001B[0m\u001B[0;34m\u001B[0m\u001B[0;34m\u001B[0m\u001B[0m\n\u001B[1;32m     37\u001B[0m                 \u001B[0mself\u001B[0m\u001B[0;34m.\u001B[0m\u001B[0mY\u001B[0m\u001B[0;34m[\u001B[0m\u001B[0mi\u001B[0m\u001B[0;34m]\u001B[0m\u001B[0;34m.\u001B[0m\u001B[0mappend\u001B[0m\u001B[0;34m(\u001B[0m\u001B[0mb\u001B[0m\u001B[0;34m)\u001B[0m\u001B[0;34m\u001B[0m\u001B[0;34m\u001B[0m\u001B[0m\n\u001B[0;32m---> 38\u001B[0;31m         \u001B[0mself\u001B[0m\u001B[0;34m.\u001B[0m\u001B[0maxes\u001B[0m\u001B[0;34m[\u001B[0m\u001B[0;36m0\u001B[0m\u001B[0;34m]\u001B[0m\u001B[0;34m.\u001B[0m\u001B[0mcla\u001B[0m\u001B[0;34m(\u001B[0m\u001B[0;34m)\u001B[0m\u001B[0;34m\u001B[0m\u001B[0;34m\u001B[0m\u001B[0m\n\u001B[0m\u001B[1;32m     39\u001B[0m         \u001B[0;32mfor\u001B[0m \u001B[0mx\u001B[0m\u001B[0;34m,\u001B[0m \u001B[0my\u001B[0m\u001B[0;34m,\u001B[0m \u001B[0mfmt\u001B[0m \u001B[0;32min\u001B[0m \u001B[0mzip\u001B[0m\u001B[0;34m(\u001B[0m\u001B[0mself\u001B[0m\u001B[0;34m.\u001B[0m\u001B[0mX\u001B[0m\u001B[0;34m,\u001B[0m \u001B[0mself\u001B[0m\u001B[0;34m.\u001B[0m\u001B[0mY\u001B[0m\u001B[0;34m,\u001B[0m \u001B[0mself\u001B[0m\u001B[0;34m.\u001B[0m\u001B[0mfmts\u001B[0m\u001B[0;34m)\u001B[0m\u001B[0;34m:\u001B[0m\u001B[0;34m\u001B[0m\u001B[0;34m\u001B[0m\u001B[0m\n\u001B[1;32m     40\u001B[0m             \u001B[0mself\u001B[0m\u001B[0;34m.\u001B[0m\u001B[0maxes\u001B[0m\u001B[0;34m[\u001B[0m\u001B[0;36m0\u001B[0m\u001B[0;34m]\u001B[0m\u001B[0;34m.\u001B[0m\u001B[0mplot\u001B[0m\u001B[0;34m(\u001B[0m\u001B[0mx\u001B[0m\u001B[0;34m,\u001B[0m \u001B[0my\u001B[0m\u001B[0;34m,\u001B[0m \u001B[0mfmt\u001B[0m\u001B[0;34m)\u001B[0m\u001B[0;34m\u001B[0m\u001B[0;34m\u001B[0m\u001B[0m\n",
      "\u001B[0;32m~/opt/anaconda3/envs/py37/lib/python3.7/site-packages/matplotlib/axes/_base.py\u001B[0m in \u001B[0;36mcla\u001B[0;34m(self)\u001B[0m\n\u001B[1;32m   1187\u001B[0m \u001B[0;34m\u001B[0m\u001B[0m\n\u001B[1;32m   1188\u001B[0m         \u001B[0;32mfor\u001B[0m \u001B[0mname\u001B[0m\u001B[0;34m,\u001B[0m \u001B[0mspine\u001B[0m \u001B[0;32min\u001B[0m \u001B[0mself\u001B[0m\u001B[0;34m.\u001B[0m\u001B[0mspines\u001B[0m\u001B[0;34m.\u001B[0m\u001B[0mitems\u001B[0m\u001B[0;34m(\u001B[0m\u001B[0;34m)\u001B[0m\u001B[0;34m:\u001B[0m\u001B[0;34m\u001B[0m\u001B[0;34m\u001B[0m\u001B[0m\n\u001B[0;32m-> 1189\u001B[0;31m             \u001B[0mspine\u001B[0m\u001B[0;34m.\u001B[0m\u001B[0mclear\u001B[0m\u001B[0;34m(\u001B[0m\u001B[0;34m)\u001B[0m\u001B[0;34m\u001B[0m\u001B[0;34m\u001B[0m\u001B[0m\n\u001B[0m\u001B[1;32m   1190\u001B[0m \u001B[0;34m\u001B[0m\u001B[0m\n\u001B[1;32m   1191\u001B[0m         \u001B[0mself\u001B[0m\u001B[0;34m.\u001B[0m\u001B[0mignore_existing_data_limits\u001B[0m \u001B[0;34m=\u001B[0m \u001B[0;32mTrue\u001B[0m\u001B[0;34m\u001B[0m\u001B[0;34m\u001B[0m\u001B[0m\n",
      "\u001B[0;32m~/opt/anaconda3/envs/py37/lib/python3.7/site-packages/matplotlib/spines.py\u001B[0m in \u001B[0;36mclear\u001B[0;34m(self)\u001B[0m\n\u001B[1;32m    221\u001B[0m         \u001B[0mself\u001B[0m\u001B[0;34m.\u001B[0m\u001B[0m_position\u001B[0m \u001B[0;34m=\u001B[0m \u001B[0;32mNone\u001B[0m  \u001B[0;31m# clear position\u001B[0m\u001B[0;34m\u001B[0m\u001B[0;34m\u001B[0m\u001B[0m\n\u001B[1;32m    222\u001B[0m         \u001B[0;32mif\u001B[0m \u001B[0mself\u001B[0m\u001B[0;34m.\u001B[0m\u001B[0maxis\u001B[0m \u001B[0;32mis\u001B[0m \u001B[0;32mnot\u001B[0m \u001B[0;32mNone\u001B[0m\u001B[0;34m:\u001B[0m\u001B[0;34m\u001B[0m\u001B[0;34m\u001B[0m\u001B[0m\n\u001B[0;32m--> 223\u001B[0;31m             \u001B[0mself\u001B[0m\u001B[0;34m.\u001B[0m\u001B[0maxis\u001B[0m\u001B[0;34m.\u001B[0m\u001B[0mclear\u001B[0m\u001B[0;34m(\u001B[0m\u001B[0;34m)\u001B[0m\u001B[0;34m\u001B[0m\u001B[0;34m\u001B[0m\u001B[0m\n\u001B[0m\u001B[1;32m    224\u001B[0m \u001B[0;34m\u001B[0m\u001B[0m\n\u001B[1;32m    225\u001B[0m     \u001B[0;34m@\u001B[0m\u001B[0m_api\u001B[0m\u001B[0;34m.\u001B[0m\u001B[0mdeprecated\u001B[0m\u001B[0;34m(\u001B[0m\u001B[0;34m\"3.4\"\u001B[0m\u001B[0;34m,\u001B[0m \u001B[0malternative\u001B[0m\u001B[0;34m=\u001B[0m\u001B[0;34m\"Spine.clear()\"\u001B[0m\u001B[0;34m)\u001B[0m\u001B[0;34m\u001B[0m\u001B[0;34m\u001B[0m\u001B[0m\n",
      "\u001B[0;32m~/opt/anaconda3/envs/py37/lib/python3.7/site-packages/matplotlib/axis.py\u001B[0m in \u001B[0;36mclear\u001B[0;34m(self)\u001B[0m\n\u001B[1;32m    794\u001B[0m         \u001B[0mself\u001B[0m\u001B[0;34m.\u001B[0m\u001B[0m_reset_major_tick_kw\u001B[0m\u001B[0;34m(\u001B[0m\u001B[0;34m)\u001B[0m\u001B[0;34m\u001B[0m\u001B[0;34m\u001B[0m\u001B[0m\n\u001B[1;32m    795\u001B[0m         \u001B[0mself\u001B[0m\u001B[0;34m.\u001B[0m\u001B[0m_reset_minor_tick_kw\u001B[0m\u001B[0;34m(\u001B[0m\u001B[0;34m)\u001B[0m\u001B[0;34m\u001B[0m\u001B[0;34m\u001B[0m\u001B[0m\n\u001B[0;32m--> 796\u001B[0;31m         \u001B[0mself\u001B[0m\u001B[0;34m.\u001B[0m\u001B[0mreset_ticks\u001B[0m\u001B[0;34m(\u001B[0m\u001B[0;34m)\u001B[0m\u001B[0;34m\u001B[0m\u001B[0;34m\u001B[0m\u001B[0m\n\u001B[0m\u001B[1;32m    797\u001B[0m \u001B[0;34m\u001B[0m\u001B[0m\n\u001B[1;32m    798\u001B[0m         \u001B[0mself\u001B[0m\u001B[0;34m.\u001B[0m\u001B[0mconverter\u001B[0m \u001B[0;34m=\u001B[0m \u001B[0;32mNone\u001B[0m\u001B[0;34m\u001B[0m\u001B[0;34m\u001B[0m\u001B[0m\n",
      "\u001B[0;32m~/opt/anaconda3/envs/py37/lib/python3.7/site-packages/matplotlib/axis.py\u001B[0m in \u001B[0;36mreset_ticks\u001B[0;34m(self)\u001B[0m\n\u001B[1;32m    822\u001B[0m             \u001B[0;32mpass\u001B[0m\u001B[0;34m\u001B[0m\u001B[0;34m\u001B[0m\u001B[0m\n\u001B[1;32m    823\u001B[0m         \u001B[0;32mtry\u001B[0m\u001B[0;34m:\u001B[0m\u001B[0;34m\u001B[0m\u001B[0;34m\u001B[0m\u001B[0m\n\u001B[0;32m--> 824\u001B[0;31m             \u001B[0mself\u001B[0m\u001B[0;34m.\u001B[0m\u001B[0mset_clip_path\u001B[0m\u001B[0;34m(\u001B[0m\u001B[0mself\u001B[0m\u001B[0;34m.\u001B[0m\u001B[0maxes\u001B[0m\u001B[0;34m.\u001B[0m\u001B[0mpatch\u001B[0m\u001B[0;34m)\u001B[0m\u001B[0;34m\u001B[0m\u001B[0;34m\u001B[0m\u001B[0m\n\u001B[0m\u001B[1;32m    825\u001B[0m         \u001B[0;32mexcept\u001B[0m \u001B[0mAttributeError\u001B[0m\u001B[0;34m:\u001B[0m\u001B[0;34m\u001B[0m\u001B[0;34m\u001B[0m\u001B[0m\n\u001B[1;32m    826\u001B[0m             \u001B[0;32mpass\u001B[0m\u001B[0;34m\u001B[0m\u001B[0;34m\u001B[0m\u001B[0m\n",
      "\u001B[0;32m~/opt/anaconda3/envs/py37/lib/python3.7/site-packages/matplotlib/axis.py\u001B[0m in \u001B[0;36mset_clip_path\u001B[0;34m(self, clippath, transform)\u001B[0m\n\u001B[1;32m    912\u001B[0m     \u001B[0;32mdef\u001B[0m \u001B[0mset_clip_path\u001B[0m\u001B[0;34m(\u001B[0m\u001B[0mself\u001B[0m\u001B[0;34m,\u001B[0m \u001B[0mclippath\u001B[0m\u001B[0;34m,\u001B[0m \u001B[0mtransform\u001B[0m\u001B[0;34m=\u001B[0m\u001B[0;32mNone\u001B[0m\u001B[0;34m)\u001B[0m\u001B[0;34m:\u001B[0m\u001B[0;34m\u001B[0m\u001B[0;34m\u001B[0m\u001B[0m\n\u001B[1;32m    913\u001B[0m         \u001B[0msuper\u001B[0m\u001B[0;34m(\u001B[0m\u001B[0;34m)\u001B[0m\u001B[0;34m.\u001B[0m\u001B[0mset_clip_path\u001B[0m\u001B[0;34m(\u001B[0m\u001B[0mclippath\u001B[0m\u001B[0;34m,\u001B[0m \u001B[0mtransform\u001B[0m\u001B[0;34m)\u001B[0m\u001B[0;34m\u001B[0m\u001B[0;34m\u001B[0m\u001B[0m\n\u001B[0;32m--> 914\u001B[0;31m         \u001B[0;32mfor\u001B[0m \u001B[0mchild\u001B[0m \u001B[0;32min\u001B[0m \u001B[0mself\u001B[0m\u001B[0;34m.\u001B[0m\u001B[0mmajorTicks\u001B[0m \u001B[0;34m+\u001B[0m \u001B[0mself\u001B[0m\u001B[0;34m.\u001B[0m\u001B[0mminorTicks\u001B[0m\u001B[0;34m:\u001B[0m\u001B[0;34m\u001B[0m\u001B[0;34m\u001B[0m\u001B[0m\n\u001B[0m\u001B[1;32m    915\u001B[0m             \u001B[0mchild\u001B[0m\u001B[0;34m.\u001B[0m\u001B[0mset_clip_path\u001B[0m\u001B[0;34m(\u001B[0m\u001B[0mclippath\u001B[0m\u001B[0;34m,\u001B[0m \u001B[0mtransform\u001B[0m\u001B[0;34m)\u001B[0m\u001B[0;34m\u001B[0m\u001B[0;34m\u001B[0m\u001B[0m\n\u001B[1;32m    916\u001B[0m         \u001B[0mself\u001B[0m\u001B[0;34m.\u001B[0m\u001B[0mstale\u001B[0m \u001B[0;34m=\u001B[0m \u001B[0;32mTrue\u001B[0m\u001B[0;34m\u001B[0m\u001B[0;34m\u001B[0m\u001B[0m\n",
      "\u001B[0;32m~/opt/anaconda3/envs/py37/lib/python3.7/site-packages/matplotlib/axis.py\u001B[0m in \u001B[0;36m__get__\u001B[0;34m(self, instance, cls)\u001B[0m\n\u001B[1;32m    605\u001B[0m             \u001B[0;32mif\u001B[0m \u001B[0mself\u001B[0m\u001B[0;34m.\u001B[0m\u001B[0m_major\u001B[0m\u001B[0;34m:\u001B[0m\u001B[0;34m\u001B[0m\u001B[0;34m\u001B[0m\u001B[0m\n\u001B[1;32m    606\u001B[0m                 \u001B[0minstance\u001B[0m\u001B[0;34m.\u001B[0m\u001B[0mmajorTicks\u001B[0m \u001B[0;34m=\u001B[0m \u001B[0;34m[\u001B[0m\u001B[0;34m]\u001B[0m\u001B[0;34m\u001B[0m\u001B[0;34m\u001B[0m\u001B[0m\n\u001B[0;32m--> 607\u001B[0;31m                 \u001B[0mtick\u001B[0m \u001B[0;34m=\u001B[0m \u001B[0minstance\u001B[0m\u001B[0;34m.\u001B[0m\u001B[0m_get_tick\u001B[0m\u001B[0;34m(\u001B[0m\u001B[0mmajor\u001B[0m\u001B[0;34m=\u001B[0m\u001B[0;32mTrue\u001B[0m\u001B[0;34m)\u001B[0m\u001B[0;34m\u001B[0m\u001B[0;34m\u001B[0m\u001B[0m\n\u001B[0m\u001B[1;32m    608\u001B[0m                 \u001B[0minstance\u001B[0m\u001B[0;34m.\u001B[0m\u001B[0mmajorTicks\u001B[0m\u001B[0;34m.\u001B[0m\u001B[0mappend\u001B[0m\u001B[0;34m(\u001B[0m\u001B[0mtick\u001B[0m\u001B[0;34m)\u001B[0m\u001B[0;34m\u001B[0m\u001B[0;34m\u001B[0m\u001B[0m\n\u001B[1;32m    609\u001B[0m                 \u001B[0;32mreturn\u001B[0m \u001B[0minstance\u001B[0m\u001B[0;34m.\u001B[0m\u001B[0mmajorTicks\u001B[0m\u001B[0;34m\u001B[0m\u001B[0;34m\u001B[0m\u001B[0m\n",
      "\u001B[0;32m~/opt/anaconda3/envs/py37/lib/python3.7/site-packages/matplotlib/axis.py\u001B[0m in \u001B[0;36m_get_tick\u001B[0;34m(self, major)\u001B[0m\n\u001B[1;32m   2323\u001B[0m         \u001B[0;32melse\u001B[0m\u001B[0;34m:\u001B[0m\u001B[0;34m\u001B[0m\u001B[0;34m\u001B[0m\u001B[0m\n\u001B[1;32m   2324\u001B[0m             \u001B[0mtick_kw\u001B[0m \u001B[0;34m=\u001B[0m \u001B[0mself\u001B[0m\u001B[0;34m.\u001B[0m\u001B[0m_minor_tick_kw\u001B[0m\u001B[0;34m\u001B[0m\u001B[0;34m\u001B[0m\u001B[0m\n\u001B[0;32m-> 2325\u001B[0;31m         \u001B[0;32mreturn\u001B[0m \u001B[0mYTick\u001B[0m\u001B[0;34m(\u001B[0m\u001B[0mself\u001B[0m\u001B[0;34m.\u001B[0m\u001B[0maxes\u001B[0m\u001B[0;34m,\u001B[0m \u001B[0;36m0\u001B[0m\u001B[0;34m,\u001B[0m \u001B[0mmajor\u001B[0m\u001B[0;34m=\u001B[0m\u001B[0mmajor\u001B[0m\u001B[0;34m,\u001B[0m \u001B[0;34m**\u001B[0m\u001B[0mtick_kw\u001B[0m\u001B[0;34m)\u001B[0m\u001B[0;34m\u001B[0m\u001B[0;34m\u001B[0m\u001B[0m\n\u001B[0m\u001B[1;32m   2326\u001B[0m \u001B[0;34m\u001B[0m\u001B[0m\n\u001B[1;32m   2327\u001B[0m     \u001B[0;32mdef\u001B[0m \u001B[0mset_label_position\u001B[0m\u001B[0;34m(\u001B[0m\u001B[0mself\u001B[0m\u001B[0;34m,\u001B[0m \u001B[0mposition\u001B[0m\u001B[0;34m)\u001B[0m\u001B[0;34m:\u001B[0m\u001B[0;34m\u001B[0m\u001B[0;34m\u001B[0m\u001B[0m\n",
      "\u001B[0;32m~/opt/anaconda3/envs/py37/lib/python3.7/site-packages/matplotlib/axis.py\u001B[0m in \u001B[0;36m__init__\u001B[0;34m(self, *args, **kwargs)\u001B[0m\n\u001B[1;32m    489\u001B[0m         self.tick1line.set(\n\u001B[1;32m    490\u001B[0m             \u001B[0mxdata\u001B[0m\u001B[0;34m=\u001B[0m\u001B[0;34m[\u001B[0m\u001B[0;36m0\u001B[0m\u001B[0;34m]\u001B[0m\u001B[0;34m,\u001B[0m \u001B[0mydata\u001B[0m\u001B[0;34m=\u001B[0m\u001B[0;34m[\u001B[0m\u001B[0;36m0\u001B[0m\u001B[0;34m]\u001B[0m\u001B[0;34m,\u001B[0m\u001B[0;34m\u001B[0m\u001B[0;34m\u001B[0m\u001B[0m\n\u001B[0;32m--> 491\u001B[0;31m             \u001B[0mtransform\u001B[0m\u001B[0;34m=\u001B[0m\u001B[0mself\u001B[0m\u001B[0;34m.\u001B[0m\u001B[0maxes\u001B[0m\u001B[0;34m.\u001B[0m\u001B[0mget_yaxis_transform\u001B[0m\u001B[0;34m(\u001B[0m\u001B[0mwhich\u001B[0m\u001B[0;34m=\u001B[0m\u001B[0;34m\"tick1\"\u001B[0m\u001B[0;34m)\u001B[0m\u001B[0;34m,\u001B[0m\u001B[0;34m\u001B[0m\u001B[0;34m\u001B[0m\u001B[0m\n\u001B[0m\u001B[1;32m    492\u001B[0m             \u001B[0mmarker\u001B[0m\u001B[0;34m=\u001B[0m\u001B[0mself\u001B[0m\u001B[0;34m.\u001B[0m\u001B[0m_tickmarkers\u001B[0m\u001B[0;34m[\u001B[0m\u001B[0;36m0\u001B[0m\u001B[0;34m]\u001B[0m\u001B[0;34m,\u001B[0m\u001B[0;34m\u001B[0m\u001B[0;34m\u001B[0m\u001B[0m\n\u001B[1;32m    493\u001B[0m         )\n",
      "\u001B[0;32m~/opt/anaconda3/envs/py37/lib/python3.7/site-packages/matplotlib/axes/_base.py\u001B[0m in \u001B[0;36mget_yaxis_transform\u001B[0;34m(self, which)\u001B[0m\n\u001B[1;32m    922\u001B[0m         \u001B[0;32melif\u001B[0m \u001B[0mwhich\u001B[0m \u001B[0;34m==\u001B[0m \u001B[0;34m'tick1'\u001B[0m\u001B[0;34m:\u001B[0m\u001B[0;34m\u001B[0m\u001B[0;34m\u001B[0m\u001B[0m\n\u001B[1;32m    923\u001B[0m             \u001B[0;31m# for cartesian projection, this is bottom spine\u001B[0m\u001B[0;34m\u001B[0m\u001B[0;34m\u001B[0m\u001B[0;34m\u001B[0m\u001B[0m\n\u001B[0;32m--> 924\u001B[0;31m             \u001B[0;32mreturn\u001B[0m \u001B[0mself\u001B[0m\u001B[0;34m.\u001B[0m\u001B[0mspines\u001B[0m\u001B[0;34m.\u001B[0m\u001B[0mleft\u001B[0m\u001B[0;34m.\u001B[0m\u001B[0mget_spine_transform\u001B[0m\u001B[0;34m(\u001B[0m\u001B[0;34m)\u001B[0m\u001B[0;34m\u001B[0m\u001B[0;34m\u001B[0m\u001B[0m\n\u001B[0m\u001B[1;32m    925\u001B[0m         \u001B[0;32melif\u001B[0m \u001B[0mwhich\u001B[0m \u001B[0;34m==\u001B[0m \u001B[0;34m'tick2'\u001B[0m\u001B[0;34m:\u001B[0m\u001B[0;34m\u001B[0m\u001B[0;34m\u001B[0m\u001B[0m\n\u001B[1;32m    926\u001B[0m             \u001B[0;31m# for cartesian projection, this is top spine\u001B[0m\u001B[0;34m\u001B[0m\u001B[0;34m\u001B[0m\u001B[0;34m\u001B[0m\u001B[0m\n",
      "\u001B[0;32m~/opt/anaconda3/envs/py37/lib/python3.7/site-packages/matplotlib/spines.py\u001B[0m in \u001B[0;36mget_spine_transform\u001B[0;34m(self)\u001B[0m\n\u001B[1;32m    330\u001B[0m     \u001B[0;32mdef\u001B[0m \u001B[0mget_spine_transform\u001B[0m\u001B[0;34m(\u001B[0m\u001B[0mself\u001B[0m\u001B[0;34m)\u001B[0m\u001B[0;34m:\u001B[0m\u001B[0;34m\u001B[0m\u001B[0;34m\u001B[0m\u001B[0m\n\u001B[1;32m    331\u001B[0m         \u001B[0;34m\"\"\"Return the spine transform.\"\"\"\u001B[0m\u001B[0;34m\u001B[0m\u001B[0;34m\u001B[0m\u001B[0m\n\u001B[0;32m--> 332\u001B[0;31m         \u001B[0mself\u001B[0m\u001B[0;34m.\u001B[0m\u001B[0m_ensure_position_is_set\u001B[0m\u001B[0;34m(\u001B[0m\u001B[0;34m)\u001B[0m\u001B[0;34m\u001B[0m\u001B[0;34m\u001B[0m\u001B[0m\n\u001B[0m\u001B[1;32m    333\u001B[0m \u001B[0;34m\u001B[0m\u001B[0m\n\u001B[1;32m    334\u001B[0m         \u001B[0mposition\u001B[0m \u001B[0;34m=\u001B[0m \u001B[0mself\u001B[0m\u001B[0;34m.\u001B[0m\u001B[0m_position\u001B[0m\u001B[0;34m\u001B[0m\u001B[0;34m\u001B[0m\u001B[0m\n",
      "\u001B[0;32m~/opt/anaconda3/envs/py37/lib/python3.7/site-packages/matplotlib/spines.py\u001B[0m in \u001B[0;36m_ensure_position_is_set\u001B[0;34m(self)\u001B[0m\n\u001B[1;32m    202\u001B[0m             \u001B[0;31m# default position\u001B[0m\u001B[0;34m\u001B[0m\u001B[0;34m\u001B[0m\u001B[0;34m\u001B[0m\u001B[0m\n\u001B[1;32m    203\u001B[0m             \u001B[0mself\u001B[0m\u001B[0;34m.\u001B[0m\u001B[0m_position\u001B[0m \u001B[0;34m=\u001B[0m \u001B[0;34m(\u001B[0m\u001B[0;34m'outward'\u001B[0m\u001B[0;34m,\u001B[0m \u001B[0;36m0.0\u001B[0m\u001B[0;34m)\u001B[0m  \u001B[0;31m# in points\u001B[0m\u001B[0;34m\u001B[0m\u001B[0;34m\u001B[0m\u001B[0m\n\u001B[0;32m--> 204\u001B[0;31m             \u001B[0mself\u001B[0m\u001B[0;34m.\u001B[0m\u001B[0mset_position\u001B[0m\u001B[0;34m(\u001B[0m\u001B[0mself\u001B[0m\u001B[0;34m.\u001B[0m\u001B[0m_position\u001B[0m\u001B[0;34m)\u001B[0m\u001B[0;34m\u001B[0m\u001B[0;34m\u001B[0m\u001B[0m\n\u001B[0m\u001B[1;32m    205\u001B[0m \u001B[0;34m\u001B[0m\u001B[0m\n\u001B[1;32m    206\u001B[0m     \u001B[0;32mdef\u001B[0m \u001B[0mregister_axis\u001B[0m\u001B[0;34m(\u001B[0m\u001B[0mself\u001B[0m\u001B[0;34m,\u001B[0m \u001B[0maxis\u001B[0m\u001B[0;34m)\u001B[0m\u001B[0;34m:\u001B[0m\u001B[0;34m\u001B[0m\u001B[0;34m\u001B[0m\u001B[0m\n",
      "\u001B[0;32m~/opt/anaconda3/envs/py37/lib/python3.7/site-packages/matplotlib/spines.py\u001B[0m in \u001B[0;36mset_position\u001B[0;34m(self, position)\u001B[0m\n\u001B[1;32m    320\u001B[0m         \u001B[0mself\u001B[0m\u001B[0;34m.\u001B[0m\u001B[0mset_transform\u001B[0m\u001B[0;34m(\u001B[0m\u001B[0mself\u001B[0m\u001B[0;34m.\u001B[0m\u001B[0mget_spine_transform\u001B[0m\u001B[0;34m(\u001B[0m\u001B[0;34m)\u001B[0m\u001B[0;34m)\u001B[0m\u001B[0;34m\u001B[0m\u001B[0;34m\u001B[0m\u001B[0m\n\u001B[1;32m    321\u001B[0m         \u001B[0;32mif\u001B[0m \u001B[0mself\u001B[0m\u001B[0;34m.\u001B[0m\u001B[0maxis\u001B[0m \u001B[0;32mis\u001B[0m \u001B[0;32mnot\u001B[0m \u001B[0;32mNone\u001B[0m\u001B[0;34m:\u001B[0m\u001B[0;34m\u001B[0m\u001B[0;34m\u001B[0m\u001B[0m\n\u001B[0;32m--> 322\u001B[0;31m             \u001B[0mself\u001B[0m\u001B[0;34m.\u001B[0m\u001B[0maxis\u001B[0m\u001B[0;34m.\u001B[0m\u001B[0mreset_ticks\u001B[0m\u001B[0;34m(\u001B[0m\u001B[0;34m)\u001B[0m\u001B[0;34m\u001B[0m\u001B[0;34m\u001B[0m\u001B[0m\n\u001B[0m\u001B[1;32m    323\u001B[0m         \u001B[0mself\u001B[0m\u001B[0;34m.\u001B[0m\u001B[0mstale\u001B[0m \u001B[0;34m=\u001B[0m \u001B[0;32mTrue\u001B[0m\u001B[0;34m\u001B[0m\u001B[0;34m\u001B[0m\u001B[0m\n\u001B[1;32m    324\u001B[0m \u001B[0;34m\u001B[0m\u001B[0m\n",
      "\u001B[0;32m~/opt/anaconda3/envs/py37/lib/python3.7/site-packages/matplotlib/axis.py\u001B[0m in \u001B[0;36mreset_ticks\u001B[0;34m(self)\u001B[0m\n\u001B[1;32m    822\u001B[0m             \u001B[0;32mpass\u001B[0m\u001B[0;34m\u001B[0m\u001B[0;34m\u001B[0m\u001B[0m\n\u001B[1;32m    823\u001B[0m         \u001B[0;32mtry\u001B[0m\u001B[0;34m:\u001B[0m\u001B[0;34m\u001B[0m\u001B[0;34m\u001B[0m\u001B[0m\n\u001B[0;32m--> 824\u001B[0;31m             \u001B[0mself\u001B[0m\u001B[0;34m.\u001B[0m\u001B[0mset_clip_path\u001B[0m\u001B[0;34m(\u001B[0m\u001B[0mself\u001B[0m\u001B[0;34m.\u001B[0m\u001B[0maxes\u001B[0m\u001B[0;34m.\u001B[0m\u001B[0mpatch\u001B[0m\u001B[0;34m)\u001B[0m\u001B[0;34m\u001B[0m\u001B[0;34m\u001B[0m\u001B[0m\n\u001B[0m\u001B[1;32m    825\u001B[0m         \u001B[0;32mexcept\u001B[0m \u001B[0mAttributeError\u001B[0m\u001B[0;34m:\u001B[0m\u001B[0;34m\u001B[0m\u001B[0;34m\u001B[0m\u001B[0m\n\u001B[1;32m    826\u001B[0m             \u001B[0;32mpass\u001B[0m\u001B[0;34m\u001B[0m\u001B[0;34m\u001B[0m\u001B[0m\n",
      "\u001B[0;32m~/opt/anaconda3/envs/py37/lib/python3.7/site-packages/matplotlib/axis.py\u001B[0m in \u001B[0;36mset_clip_path\u001B[0;34m(self, clippath, transform)\u001B[0m\n\u001B[1;32m    912\u001B[0m     \u001B[0;32mdef\u001B[0m \u001B[0mset_clip_path\u001B[0m\u001B[0;34m(\u001B[0m\u001B[0mself\u001B[0m\u001B[0;34m,\u001B[0m \u001B[0mclippath\u001B[0m\u001B[0;34m,\u001B[0m \u001B[0mtransform\u001B[0m\u001B[0;34m=\u001B[0m\u001B[0;32mNone\u001B[0m\u001B[0;34m)\u001B[0m\u001B[0;34m:\u001B[0m\u001B[0;34m\u001B[0m\u001B[0;34m\u001B[0m\u001B[0m\n\u001B[1;32m    913\u001B[0m         \u001B[0msuper\u001B[0m\u001B[0;34m(\u001B[0m\u001B[0;34m)\u001B[0m\u001B[0;34m.\u001B[0m\u001B[0mset_clip_path\u001B[0m\u001B[0;34m(\u001B[0m\u001B[0mclippath\u001B[0m\u001B[0;34m,\u001B[0m \u001B[0mtransform\u001B[0m\u001B[0;34m)\u001B[0m\u001B[0;34m\u001B[0m\u001B[0;34m\u001B[0m\u001B[0m\n\u001B[0;32m--> 914\u001B[0;31m         \u001B[0;32mfor\u001B[0m \u001B[0mchild\u001B[0m \u001B[0;32min\u001B[0m \u001B[0mself\u001B[0m\u001B[0;34m.\u001B[0m\u001B[0mmajorTicks\u001B[0m \u001B[0;34m+\u001B[0m \u001B[0mself\u001B[0m\u001B[0;34m.\u001B[0m\u001B[0mminorTicks\u001B[0m\u001B[0;34m:\u001B[0m\u001B[0;34m\u001B[0m\u001B[0;34m\u001B[0m\u001B[0m\n\u001B[0m\u001B[1;32m    915\u001B[0m             \u001B[0mchild\u001B[0m\u001B[0;34m.\u001B[0m\u001B[0mset_clip_path\u001B[0m\u001B[0;34m(\u001B[0m\u001B[0mclippath\u001B[0m\u001B[0;34m,\u001B[0m \u001B[0mtransform\u001B[0m\u001B[0;34m)\u001B[0m\u001B[0;34m\u001B[0m\u001B[0;34m\u001B[0m\u001B[0m\n\u001B[1;32m    916\u001B[0m         \u001B[0mself\u001B[0m\u001B[0;34m.\u001B[0m\u001B[0mstale\u001B[0m \u001B[0;34m=\u001B[0m \u001B[0;32mTrue\u001B[0m\u001B[0;34m\u001B[0m\u001B[0;34m\u001B[0m\u001B[0m\n",
      "\u001B[0;32m~/opt/anaconda3/envs/py37/lib/python3.7/site-packages/matplotlib/axis.py\u001B[0m in \u001B[0;36m__get__\u001B[0;34m(self, instance, cls)\u001B[0m\n\u001B[1;32m    605\u001B[0m             \u001B[0;32mif\u001B[0m \u001B[0mself\u001B[0m\u001B[0;34m.\u001B[0m\u001B[0m_major\u001B[0m\u001B[0;34m:\u001B[0m\u001B[0;34m\u001B[0m\u001B[0;34m\u001B[0m\u001B[0m\n\u001B[1;32m    606\u001B[0m                 \u001B[0minstance\u001B[0m\u001B[0;34m.\u001B[0m\u001B[0mmajorTicks\u001B[0m \u001B[0;34m=\u001B[0m \u001B[0;34m[\u001B[0m\u001B[0;34m]\u001B[0m\u001B[0;34m\u001B[0m\u001B[0;34m\u001B[0m\u001B[0m\n\u001B[0;32m--> 607\u001B[0;31m                 \u001B[0mtick\u001B[0m \u001B[0;34m=\u001B[0m \u001B[0minstance\u001B[0m\u001B[0;34m.\u001B[0m\u001B[0m_get_tick\u001B[0m\u001B[0;34m(\u001B[0m\u001B[0mmajor\u001B[0m\u001B[0;34m=\u001B[0m\u001B[0;32mTrue\u001B[0m\u001B[0;34m)\u001B[0m\u001B[0;34m\u001B[0m\u001B[0;34m\u001B[0m\u001B[0m\n\u001B[0m\u001B[1;32m    608\u001B[0m                 \u001B[0minstance\u001B[0m\u001B[0;34m.\u001B[0m\u001B[0mmajorTicks\u001B[0m\u001B[0;34m.\u001B[0m\u001B[0mappend\u001B[0m\u001B[0;34m(\u001B[0m\u001B[0mtick\u001B[0m\u001B[0;34m)\u001B[0m\u001B[0;34m\u001B[0m\u001B[0;34m\u001B[0m\u001B[0m\n\u001B[1;32m    609\u001B[0m                 \u001B[0;32mreturn\u001B[0m \u001B[0minstance\u001B[0m\u001B[0;34m.\u001B[0m\u001B[0mmajorTicks\u001B[0m\u001B[0;34m\u001B[0m\u001B[0;34m\u001B[0m\u001B[0m\n",
      "\u001B[0;32m~/opt/anaconda3/envs/py37/lib/python3.7/site-packages/matplotlib/axis.py\u001B[0m in \u001B[0;36m_get_tick\u001B[0;34m(self, major)\u001B[0m\n\u001B[1;32m   2323\u001B[0m         \u001B[0;32melse\u001B[0m\u001B[0;34m:\u001B[0m\u001B[0;34m\u001B[0m\u001B[0;34m\u001B[0m\u001B[0m\n\u001B[1;32m   2324\u001B[0m             \u001B[0mtick_kw\u001B[0m \u001B[0;34m=\u001B[0m \u001B[0mself\u001B[0m\u001B[0;34m.\u001B[0m\u001B[0m_minor_tick_kw\u001B[0m\u001B[0;34m\u001B[0m\u001B[0;34m\u001B[0m\u001B[0m\n\u001B[0;32m-> 2325\u001B[0;31m         \u001B[0;32mreturn\u001B[0m \u001B[0mYTick\u001B[0m\u001B[0;34m(\u001B[0m\u001B[0mself\u001B[0m\u001B[0;34m.\u001B[0m\u001B[0maxes\u001B[0m\u001B[0;34m,\u001B[0m \u001B[0;36m0\u001B[0m\u001B[0;34m,\u001B[0m \u001B[0mmajor\u001B[0m\u001B[0;34m=\u001B[0m\u001B[0mmajor\u001B[0m\u001B[0;34m,\u001B[0m \u001B[0;34m**\u001B[0m\u001B[0mtick_kw\u001B[0m\u001B[0;34m)\u001B[0m\u001B[0;34m\u001B[0m\u001B[0;34m\u001B[0m\u001B[0m\n\u001B[0m\u001B[1;32m   2326\u001B[0m \u001B[0;34m\u001B[0m\u001B[0m\n\u001B[1;32m   2327\u001B[0m     \u001B[0;32mdef\u001B[0m \u001B[0mset_label_position\u001B[0m\u001B[0;34m(\u001B[0m\u001B[0mself\u001B[0m\u001B[0;34m,\u001B[0m \u001B[0mposition\u001B[0m\u001B[0;34m)\u001B[0m\u001B[0;34m:\u001B[0m\u001B[0;34m\u001B[0m\u001B[0;34m\u001B[0m\u001B[0m\n",
      "\u001B[0;32m~/opt/anaconda3/envs/py37/lib/python3.7/site-packages/matplotlib/axis.py\u001B[0m in \u001B[0;36m__init__\u001B[0;34m(self, *args, **kwargs)\u001B[0m\n\u001B[1;32m    485\u001B[0m \u001B[0;34m\u001B[0m\u001B[0m\n\u001B[1;32m    486\u001B[0m     \u001B[0;32mdef\u001B[0m \u001B[0m__init__\u001B[0m\u001B[0;34m(\u001B[0m\u001B[0mself\u001B[0m\u001B[0;34m,\u001B[0m \u001B[0;34m*\u001B[0m\u001B[0margs\u001B[0m\u001B[0;34m,\u001B[0m \u001B[0;34m**\u001B[0m\u001B[0mkwargs\u001B[0m\u001B[0;34m)\u001B[0m\u001B[0;34m:\u001B[0m\u001B[0;34m\u001B[0m\u001B[0;34m\u001B[0m\u001B[0m\n\u001B[0;32m--> 487\u001B[0;31m         \u001B[0msuper\u001B[0m\u001B[0;34m(\u001B[0m\u001B[0;34m)\u001B[0m\u001B[0;34m.\u001B[0m\u001B[0m__init__\u001B[0m\u001B[0;34m(\u001B[0m\u001B[0;34m*\u001B[0m\u001B[0margs\u001B[0m\u001B[0;34m,\u001B[0m \u001B[0;34m**\u001B[0m\u001B[0mkwargs\u001B[0m\u001B[0;34m)\u001B[0m\u001B[0;34m\u001B[0m\u001B[0;34m\u001B[0m\u001B[0m\n\u001B[0m\u001B[1;32m    488\u001B[0m         \u001B[0;31m# x in axes coords, y in data coords\u001B[0m\u001B[0;34m\u001B[0m\u001B[0;34m\u001B[0m\u001B[0;34m\u001B[0m\u001B[0m\n\u001B[1;32m    489\u001B[0m         self.tick1line.set(\n",
      "\u001B[0;32m~/opt/anaconda3/envs/py37/lib/python3.7/site-packages/matplotlib/_api/deprecation.py\u001B[0m in \u001B[0;36mwrapper\u001B[0;34m(*inner_args, **inner_kwargs)\u001B[0m\n\u001B[1;32m    429\u001B[0m                          \u001B[0;32melse\u001B[0m \u001B[0mdeprecation_addendum\u001B[0m\u001B[0;34m,\u001B[0m\u001B[0;34m\u001B[0m\u001B[0;34m\u001B[0m\u001B[0m\n\u001B[1;32m    430\u001B[0m                 **kwargs)\n\u001B[0;32m--> 431\u001B[0;31m         \u001B[0;32mreturn\u001B[0m \u001B[0mfunc\u001B[0m\u001B[0;34m(\u001B[0m\u001B[0;34m*\u001B[0m\u001B[0minner_args\u001B[0m\u001B[0;34m,\u001B[0m \u001B[0;34m**\u001B[0m\u001B[0minner_kwargs\u001B[0m\u001B[0;34m)\u001B[0m\u001B[0;34m\u001B[0m\u001B[0;34m\u001B[0m\u001B[0m\n\u001B[0m\u001B[1;32m    432\u001B[0m \u001B[0;34m\u001B[0m\u001B[0m\n\u001B[1;32m    433\u001B[0m     \u001B[0;32mreturn\u001B[0m \u001B[0mwrapper\u001B[0m\u001B[0;34m\u001B[0m\u001B[0;34m\u001B[0m\u001B[0m\n",
      "\u001B[0;32m~/opt/anaconda3/envs/py37/lib/python3.7/site-packages/matplotlib/axis.py\u001B[0m in \u001B[0;36m__init__\u001B[0;34m(self, axes, loc, label, size, width, color, tickdir, pad, labelsize, labelcolor, zorder, gridOn, tick1On, tick2On, label1On, label2On, major, labelrotation, grid_color, grid_linestyle, grid_linewidth, grid_alpha, **kw)\u001B[0m\n\u001B[1;32m    165\u001B[0m             \u001B[0mcolor\u001B[0m\u001B[0;34m=\u001B[0m\u001B[0mgrid_color\u001B[0m\u001B[0;34m,\u001B[0m \u001B[0malpha\u001B[0m\u001B[0;34m=\u001B[0m\u001B[0mgrid_alpha\u001B[0m\u001B[0;34m,\u001B[0m \u001B[0mvisible\u001B[0m\u001B[0;34m=\u001B[0m\u001B[0mgridOn\u001B[0m\u001B[0;34m,\u001B[0m\u001B[0;34m\u001B[0m\u001B[0;34m\u001B[0m\u001B[0m\n\u001B[1;32m    166\u001B[0m             \u001B[0mlinestyle\u001B[0m\u001B[0;34m=\u001B[0m\u001B[0mgrid_linestyle\u001B[0m\u001B[0;34m,\u001B[0m \u001B[0mlinewidth\u001B[0m\u001B[0;34m=\u001B[0m\u001B[0mgrid_linewidth\u001B[0m\u001B[0;34m,\u001B[0m \u001B[0mmarker\u001B[0m\u001B[0;34m=\u001B[0m\u001B[0;34m\"\"\u001B[0m\u001B[0;34m,\u001B[0m\u001B[0;34m\u001B[0m\u001B[0;34m\u001B[0m\u001B[0m\n\u001B[0;32m--> 167\u001B[0;31m             \u001B[0;34m**\u001B[0m\u001B[0mgrid_kw\u001B[0m\u001B[0;34m,\u001B[0m\u001B[0;34m\u001B[0m\u001B[0;34m\u001B[0m\u001B[0m\n\u001B[0m\u001B[1;32m    168\u001B[0m         )\n\u001B[1;32m    169\u001B[0m         \u001B[0mself\u001B[0m\u001B[0;34m.\u001B[0m\u001B[0mgridline\u001B[0m\u001B[0;34m.\u001B[0m\u001B[0mget_path\u001B[0m\u001B[0;34m(\u001B[0m\u001B[0;34m)\u001B[0m\u001B[0;34m.\u001B[0m\u001B[0m_interpolation_steps\u001B[0m \u001B[0;34m=\u001B[0m\u001B[0;31m \u001B[0m\u001B[0;31m\\\u001B[0m\u001B[0;34m\u001B[0m\u001B[0;34m\u001B[0m\u001B[0m\n",
      "\u001B[0;32m~/opt/anaconda3/envs/py37/lib/python3.7/site-packages/matplotlib/lines.py\u001B[0m in \u001B[0;36m__init__\u001B[0;34m(self, xdata, ydata, linewidth, linestyle, color, marker, markersize, markeredgewidth, markeredgecolor, markerfacecolor, markerfacecoloralt, fillstyle, antialiased, dash_capstyle, solid_capstyle, dash_joinstyle, solid_joinstyle, pickradius, drawstyle, markevery, **kwargs)\u001B[0m\n\u001B[1;32m    373\u001B[0m         \u001B[0mself\u001B[0m\u001B[0;34m.\u001B[0m\u001B[0m_color\u001B[0m \u001B[0;34m=\u001B[0m \u001B[0;32mNone\u001B[0m\u001B[0;34m\u001B[0m\u001B[0;34m\u001B[0m\u001B[0m\n\u001B[1;32m    374\u001B[0m         \u001B[0mself\u001B[0m\u001B[0;34m.\u001B[0m\u001B[0mset_color\u001B[0m\u001B[0;34m(\u001B[0m\u001B[0mcolor\u001B[0m\u001B[0;34m)\u001B[0m\u001B[0;34m\u001B[0m\u001B[0;34m\u001B[0m\u001B[0m\n\u001B[0;32m--> 375\u001B[0;31m         \u001B[0mself\u001B[0m\u001B[0;34m.\u001B[0m\u001B[0m_marker\u001B[0m \u001B[0;34m=\u001B[0m \u001B[0mMarkerStyle\u001B[0m\u001B[0;34m(\u001B[0m\u001B[0mmarker\u001B[0m\u001B[0;34m,\u001B[0m \u001B[0mfillstyle\u001B[0m\u001B[0;34m)\u001B[0m\u001B[0;34m\u001B[0m\u001B[0;34m\u001B[0m\u001B[0m\n\u001B[0m\u001B[1;32m    376\u001B[0m \u001B[0;34m\u001B[0m\u001B[0m\n\u001B[1;32m    377\u001B[0m         \u001B[0mself\u001B[0m\u001B[0;34m.\u001B[0m\u001B[0m_markevery\u001B[0m \u001B[0;34m=\u001B[0m \u001B[0;32mNone\u001B[0m\u001B[0;34m\u001B[0m\u001B[0;34m\u001B[0m\u001B[0m\n",
      "\u001B[0;32m~/opt/anaconda3/envs/py37/lib/python3.7/site-packages/matplotlib/markers.py\u001B[0m in \u001B[0;36m__init__\u001B[0;34m(self, marker, fillstyle)\u001B[0m\n\u001B[1;32m    232\u001B[0m             \u001B[0mOne\u001B[0m \u001B[0mof\u001B[0m \u001B[0;34m'full'\u001B[0m\u001B[0;34m,\u001B[0m \u001B[0;34m'left'\u001B[0m\u001B[0;34m,\u001B[0m \u001B[0;34m'right'\u001B[0m\u001B[0;34m,\u001B[0m \u001B[0;34m'bottom'\u001B[0m\u001B[0;34m,\u001B[0m \u001B[0;34m'top'\u001B[0m\u001B[0;34m,\u001B[0m \u001B[0;34m'none'\u001B[0m\u001B[0;34m.\u001B[0m\u001B[0;34m\u001B[0m\u001B[0;34m\u001B[0m\u001B[0m\n\u001B[1;32m    233\u001B[0m         \"\"\"\n\u001B[0;32m--> 234\u001B[0;31m         \u001B[0mself\u001B[0m\u001B[0;34m.\u001B[0m\u001B[0m_marker_function\u001B[0m \u001B[0;34m=\u001B[0m \u001B[0;32mNone\u001B[0m\u001B[0;34m\u001B[0m\u001B[0;34m\u001B[0m\u001B[0m\n\u001B[0m\u001B[1;32m    235\u001B[0m         \u001B[0mself\u001B[0m\u001B[0;34m.\u001B[0m\u001B[0m_set_fillstyle\u001B[0m\u001B[0;34m(\u001B[0m\u001B[0mfillstyle\u001B[0m\u001B[0;34m)\u001B[0m\u001B[0;34m\u001B[0m\u001B[0;34m\u001B[0m\u001B[0m\n\u001B[1;32m    236\u001B[0m         \u001B[0mself\u001B[0m\u001B[0;34m.\u001B[0m\u001B[0m_set_marker\u001B[0m\u001B[0;34m(\u001B[0m\u001B[0mmarker\u001B[0m\u001B[0;34m)\u001B[0m\u001B[0;34m\u001B[0m\u001B[0;34m\u001B[0m\u001B[0m\n",
      "\u001B[0;31mKeyboardInterrupt\u001B[0m: "
     ]
    },
    {
     "data": {
      "text/plain": "<Figure size 252x180 with 1 Axes>",
      "image/svg+xml": "<?xml version=\"1.0\" encoding=\"utf-8\" standalone=\"no\"?>\n<!DOCTYPE svg PUBLIC \"-//W3C//DTD SVG 1.1//EN\"\n  \"http://www.w3.org/Graphics/SVG/1.1/DTD/svg11.dtd\">\n<svg height=\"170.777344pt\" version=\"1.1\" viewBox=\"0 0 245.328125 170.777344\" width=\"245.328125pt\" xmlns=\"http://www.w3.org/2000/svg\" xmlns:xlink=\"http://www.w3.org/1999/xlink\">\n <metadata>\n  <rdf:RDF xmlns:cc=\"http://creativecommons.org/ns#\" xmlns:dc=\"http://purl.org/dc/elements/1.1/\" xmlns:rdf=\"http://www.w3.org/1999/02/22-rdf-syntax-ns#\">\n   <cc:Work>\n    <dc:type rdf:resource=\"http://purl.org/dc/dcmitype/StillImage\"/>\n    <dc:date>2021-10-26T13:13:45.785611</dc:date>\n    <dc:format>image/svg+xml</dc:format>\n    <dc:creator>\n     <cc:Agent>\n      <dc:title>Matplotlib v3.4.2, https://matplotlib.org/</dc:title>\n     </cc:Agent>\n    </dc:creator>\n   </cc:Work>\n  </rdf:RDF>\n </metadata>\n <defs>\n  <style type=\"text/css\">*{stroke-linecap:butt;stroke-linejoin:round;}</style>\n </defs>\n <g id=\"figure_1\">\n  <g id=\"patch_1\">\n   <path d=\"M 0 170.777344 \nL 245.328125 170.777344 \nL 245.328125 0 \nL 0 0 \nz\n\" style=\"fill:none;\"/>\n  </g>\n  <g id=\"axes_1\">\n   <g id=\"patch_2\">\n    <path d=\"M 30.103125 146.899219 \nL 225.403125 146.899219 \nL 225.403125 10.999219 \nL 30.103125 10.999219 \nz\n\" style=\"fill:#ffffff;\"/>\n   </g>\n   <g id=\"matplotlib.axis_1\">\n    <g id=\"xtick_1\">\n     <g id=\"line2d_1\">\n      <defs>\n       <path d=\"M 0 0 \nL 0 3.5 \n\" id=\"m971c144cb0\" style=\"stroke:#000000;stroke-width:0.8;\"/>\n      </defs>\n      <g>\n       <use style=\"stroke:#000000;stroke-width:0.8;\" x=\"30.103125\" xlink:href=\"#m971c144cb0\" y=\"146.899219\"/>\n      </g>\n     </g>\n     <g id=\"line2d_2\">\n      <defs>\n       <path d=\"M 0 0 \nL 0 -3.5 \n\" id=\"ma0018dbfcd\" style=\"stroke:#000000;stroke-width:0.8;\"/>\n      </defs>\n      <g>\n       <use style=\"stroke:#000000;stroke-width:0.8;\" x=\"30.103125\" xlink:href=\"#ma0018dbfcd\" y=\"10.999219\"/>\n      </g>\n     </g>\n     <g id=\"text_1\">\n      <!-- 0 -->\n      <g transform=\"translate(26.921875 161.497656)scale(0.1 -0.1)\">\n       <defs>\n        <path d=\"M 2034 4250 \nQ 1547 4250 1301 3770 \nQ 1056 3291 1056 2328 \nQ 1056 1369 1301 889 \nQ 1547 409 2034 409 \nQ 2525 409 2770 889 \nQ 3016 1369 3016 2328 \nQ 3016 3291 2770 3770 \nQ 2525 4250 2034 4250 \nz\nM 2034 4750 \nQ 2819 4750 3233 4129 \nQ 3647 3509 3647 2328 \nQ 3647 1150 3233 529 \nQ 2819 -91 2034 -91 \nQ 1250 -91 836 529 \nQ 422 1150 422 2328 \nQ 422 3509 836 4129 \nQ 1250 4750 2034 4750 \nz\n\" id=\"DejaVuSans-30\" transform=\"scale(0.015625)\"/>\n       </defs>\n       <use xlink:href=\"#DejaVuSans-30\"/>\n      </g>\n     </g>\n    </g>\n    <g id=\"xtick_2\">\n     <g id=\"line2d_3\">\n      <g>\n       <use style=\"stroke:#000000;stroke-width:0.8;\" x=\"69.163125\" xlink:href=\"#m971c144cb0\" y=\"146.899219\"/>\n      </g>\n     </g>\n     <g id=\"line2d_4\">\n      <g>\n       <use style=\"stroke:#000000;stroke-width:0.8;\" x=\"69.163125\" xlink:href=\"#ma0018dbfcd\" y=\"10.999219\"/>\n      </g>\n     </g>\n     <g id=\"text_2\">\n      <!-- 200 -->\n      <g transform=\"translate(59.619375 161.497656)scale(0.1 -0.1)\">\n       <defs>\n        <path d=\"M 1228 531 \nL 3431 531 \nL 3431 0 \nL 469 0 \nL 469 531 \nQ 828 903 1448 1529 \nQ 2069 2156 2228 2338 \nQ 2531 2678 2651 2914 \nQ 2772 3150 2772 3378 \nQ 2772 3750 2511 3984 \nQ 2250 4219 1831 4219 \nQ 1534 4219 1204 4116 \nQ 875 4013 500 3803 \nL 500 4441 \nQ 881 4594 1212 4672 \nQ 1544 4750 1819 4750 \nQ 2544 4750 2975 4387 \nQ 3406 4025 3406 3419 \nQ 3406 3131 3298 2873 \nQ 3191 2616 2906 2266 \nQ 2828 2175 2409 1742 \nQ 1991 1309 1228 531 \nz\n\" id=\"DejaVuSans-32\" transform=\"scale(0.015625)\"/>\n       </defs>\n       <use xlink:href=\"#DejaVuSans-32\"/>\n       <use x=\"63.623047\" xlink:href=\"#DejaVuSans-30\"/>\n       <use x=\"127.246094\" xlink:href=\"#DejaVuSans-30\"/>\n      </g>\n     </g>\n    </g>\n    <g id=\"xtick_3\">\n     <g id=\"line2d_5\">\n      <g>\n       <use style=\"stroke:#000000;stroke-width:0.8;\" x=\"108.223125\" xlink:href=\"#m971c144cb0\" y=\"146.899219\"/>\n      </g>\n     </g>\n     <g id=\"line2d_6\">\n      <g>\n       <use style=\"stroke:#000000;stroke-width:0.8;\" x=\"108.223125\" xlink:href=\"#ma0018dbfcd\" y=\"10.999219\"/>\n      </g>\n     </g>\n     <g id=\"text_3\">\n      <!-- 400 -->\n      <g transform=\"translate(98.679375 161.497656)scale(0.1 -0.1)\">\n       <defs>\n        <path d=\"M 2419 4116 \nL 825 1625 \nL 2419 1625 \nL 2419 4116 \nz\nM 2253 4666 \nL 3047 4666 \nL 3047 1625 \nL 3713 1625 \nL 3713 1100 \nL 3047 1100 \nL 3047 0 \nL 2419 0 \nL 2419 1100 \nL 313 1100 \nL 313 1709 \nL 2253 4666 \nz\n\" id=\"DejaVuSans-34\" transform=\"scale(0.015625)\"/>\n       </defs>\n       <use xlink:href=\"#DejaVuSans-34\"/>\n       <use x=\"63.623047\" xlink:href=\"#DejaVuSans-30\"/>\n       <use x=\"127.246094\" xlink:href=\"#DejaVuSans-30\"/>\n      </g>\n     </g>\n    </g>\n    <g id=\"xtick_4\">\n     <g id=\"line2d_7\">\n      <g>\n       <use style=\"stroke:#000000;stroke-width:0.8;\" x=\"147.283125\" xlink:href=\"#m971c144cb0\" y=\"146.899219\"/>\n      </g>\n     </g>\n     <g id=\"line2d_8\">\n      <g>\n       <use style=\"stroke:#000000;stroke-width:0.8;\" x=\"147.283125\" xlink:href=\"#ma0018dbfcd\" y=\"10.999219\"/>\n      </g>\n     </g>\n     <g id=\"text_4\">\n      <!-- 600 -->\n      <g transform=\"translate(137.739375 161.497656)scale(0.1 -0.1)\">\n       <defs>\n        <path d=\"M 2113 2584 \nQ 1688 2584 1439 2293 \nQ 1191 2003 1191 1497 \nQ 1191 994 1439 701 \nQ 1688 409 2113 409 \nQ 2538 409 2786 701 \nQ 3034 994 3034 1497 \nQ 3034 2003 2786 2293 \nQ 2538 2584 2113 2584 \nz\nM 3366 4563 \nL 3366 3988 \nQ 3128 4100 2886 4159 \nQ 2644 4219 2406 4219 \nQ 1781 4219 1451 3797 \nQ 1122 3375 1075 2522 \nQ 1259 2794 1537 2939 \nQ 1816 3084 2150 3084 \nQ 2853 3084 3261 2657 \nQ 3669 2231 3669 1497 \nQ 3669 778 3244 343 \nQ 2819 -91 2113 -91 \nQ 1303 -91 875 529 \nQ 447 1150 447 2328 \nQ 447 3434 972 4092 \nQ 1497 4750 2381 4750 \nQ 2619 4750 2861 4703 \nQ 3103 4656 3366 4563 \nz\n\" id=\"DejaVuSans-36\" transform=\"scale(0.015625)\"/>\n       </defs>\n       <use xlink:href=\"#DejaVuSans-36\"/>\n       <use x=\"63.623047\" xlink:href=\"#DejaVuSans-30\"/>\n       <use x=\"127.246094\" xlink:href=\"#DejaVuSans-30\"/>\n      </g>\n     </g>\n    </g>\n    <g id=\"xtick_5\">\n     <g id=\"line2d_9\">\n      <g>\n       <use style=\"stroke:#000000;stroke-width:0.8;\" x=\"186.343125\" xlink:href=\"#m971c144cb0\" y=\"146.899219\"/>\n      </g>\n     </g>\n     <g id=\"line2d_10\">\n      <g>\n       <use style=\"stroke:#000000;stroke-width:0.8;\" x=\"186.343125\" xlink:href=\"#ma0018dbfcd\" y=\"10.999219\"/>\n      </g>\n     </g>\n     <g id=\"text_5\">\n      <!-- 800 -->\n      <g transform=\"translate(176.799375 161.497656)scale(0.1 -0.1)\">\n       <defs>\n        <path d=\"M 2034 2216 \nQ 1584 2216 1326 1975 \nQ 1069 1734 1069 1313 \nQ 1069 891 1326 650 \nQ 1584 409 2034 409 \nQ 2484 409 2743 651 \nQ 3003 894 3003 1313 \nQ 3003 1734 2745 1975 \nQ 2488 2216 2034 2216 \nz\nM 1403 2484 \nQ 997 2584 770 2862 \nQ 544 3141 544 3541 \nQ 544 4100 942 4425 \nQ 1341 4750 2034 4750 \nQ 2731 4750 3128 4425 \nQ 3525 4100 3525 3541 \nQ 3525 3141 3298 2862 \nQ 3072 2584 2669 2484 \nQ 3125 2378 3379 2068 \nQ 3634 1759 3634 1313 \nQ 3634 634 3220 271 \nQ 2806 -91 2034 -91 \nQ 1263 -91 848 271 \nQ 434 634 434 1313 \nQ 434 1759 690 2068 \nQ 947 2378 1403 2484 \nz\nM 1172 3481 \nQ 1172 3119 1398 2916 \nQ 1625 2713 2034 2713 \nQ 2441 2713 2670 2916 \nQ 2900 3119 2900 3481 \nQ 2900 3844 2670 4047 \nQ 2441 4250 2034 4250 \nQ 1625 4250 1398 4047 \nQ 1172 3844 1172 3481 \nz\n\" id=\"DejaVuSans-38\" transform=\"scale(0.015625)\"/>\n       </defs>\n       <use xlink:href=\"#DejaVuSans-38\"/>\n       <use x=\"63.623047\" xlink:href=\"#DejaVuSans-30\"/>\n       <use x=\"127.246094\" xlink:href=\"#DejaVuSans-30\"/>\n      </g>\n     </g>\n    </g>\n    <g id=\"xtick_6\">\n     <g id=\"line2d_11\">\n      <g>\n       <use style=\"stroke:#000000;stroke-width:0.8;\" x=\"225.403125\" xlink:href=\"#m971c144cb0\" y=\"146.899219\"/>\n      </g>\n     </g>\n     <g id=\"line2d_12\">\n      <g>\n       <use style=\"stroke:#000000;stroke-width:0.8;\" x=\"225.403125\" xlink:href=\"#ma0018dbfcd\" y=\"10.999219\"/>\n      </g>\n     </g>\n     <g id=\"text_6\">\n      <!-- 1000 -->\n      <g transform=\"translate(212.678125 161.497656)scale(0.1 -0.1)\">\n       <defs>\n        <path d=\"M 794 531 \nL 1825 531 \nL 1825 4091 \nL 703 3866 \nL 703 4441 \nL 1819 4666 \nL 2450 4666 \nL 2450 531 \nL 3481 531 \nL 3481 0 \nL 794 0 \nL 794 531 \nz\n\" id=\"DejaVuSans-31\" transform=\"scale(0.015625)\"/>\n       </defs>\n       <use xlink:href=\"#DejaVuSans-31\"/>\n       <use x=\"63.623047\" xlink:href=\"#DejaVuSans-30\"/>\n       <use x=\"127.246094\" xlink:href=\"#DejaVuSans-30\"/>\n       <use x=\"190.869141\" xlink:href=\"#DejaVuSans-30\"/>\n      </g>\n     </g>\n    </g>\n   </g>\n   <g id=\"matplotlib.axis_2\">\n    <g id=\"ytick_1\">\n     <g id=\"line2d_13\">\n      <defs>\n       <path d=\"M 0 0 \nL -3.5 0 \n\" id=\"m3fd542b165\" style=\"stroke:#000000;stroke-width:0.8;\"/>\n      </defs>\n      <g>\n       <use style=\"stroke:#000000;stroke-width:0.8;\" x=\"30.103125\" xlink:href=\"#m3fd542b165\" y=\"146.899219\"/>\n      </g>\n     </g>\n     <g id=\"line2d_14\">\n      <defs>\n       <path d=\"M 0 0 \nL 3.5 0 \n\" id=\"m302fe93ba7\" style=\"stroke:#000000;stroke-width:0.8;\"/>\n      </defs>\n      <g>\n       <use style=\"stroke:#000000;stroke-width:0.8;\" x=\"225.403125\" xlink:href=\"#m302fe93ba7\" y=\"146.899219\"/>\n      </g>\n     </g>\n     <g id=\"text_7\">\n      <!-- 0.0 -->\n      <g transform=\"translate(7.2 150.698437)scale(0.1 -0.1)\">\n       <defs>\n        <path d=\"M 684 794 \nL 1344 794 \nL 1344 0 \nL 684 0 \nL 684 794 \nz\n\" id=\"DejaVuSans-2e\" transform=\"scale(0.015625)\"/>\n       </defs>\n       <use xlink:href=\"#DejaVuSans-30\"/>\n       <use x=\"63.623047\" xlink:href=\"#DejaVuSans-2e\"/>\n       <use x=\"95.410156\" xlink:href=\"#DejaVuSans-30\"/>\n      </g>\n     </g>\n    </g>\n    <g id=\"ytick_2\">\n     <g id=\"line2d_15\">\n      <g>\n       <use style=\"stroke:#000000;stroke-width:0.8;\" x=\"30.103125\" xlink:href=\"#m3fd542b165\" y=\"119.719219\"/>\n      </g>\n     </g>\n     <g id=\"line2d_16\">\n      <g>\n       <use style=\"stroke:#000000;stroke-width:0.8;\" x=\"225.403125\" xlink:href=\"#m302fe93ba7\" y=\"119.719219\"/>\n      </g>\n     </g>\n     <g id=\"text_8\">\n      <!-- 0.2 -->\n      <g transform=\"translate(7.2 123.518437)scale(0.1 -0.1)\">\n       <use xlink:href=\"#DejaVuSans-30\"/>\n       <use x=\"63.623047\" xlink:href=\"#DejaVuSans-2e\"/>\n       <use x=\"95.410156\" xlink:href=\"#DejaVuSans-32\"/>\n      </g>\n     </g>\n    </g>\n    <g id=\"ytick_3\">\n     <g id=\"line2d_17\">\n      <g>\n       <use style=\"stroke:#000000;stroke-width:0.8;\" x=\"30.103125\" xlink:href=\"#m3fd542b165\" y=\"92.539219\"/>\n      </g>\n     </g>\n     <g id=\"line2d_18\">\n      <g>\n       <use style=\"stroke:#000000;stroke-width:0.8;\" x=\"225.403125\" xlink:href=\"#m302fe93ba7\" y=\"92.539219\"/>\n      </g>\n     </g>\n     <g id=\"text_9\">\n      <!-- 0.4 -->\n      <g transform=\"translate(7.2 96.338437)scale(0.1 -0.1)\">\n       <use xlink:href=\"#DejaVuSans-30\"/>\n       <use x=\"63.623047\" xlink:href=\"#DejaVuSans-2e\"/>\n       <use x=\"95.410156\" xlink:href=\"#DejaVuSans-34\"/>\n      </g>\n     </g>\n    </g>\n    <g id=\"ytick_4\">\n     <g id=\"line2d_19\">\n      <g>\n       <use style=\"stroke:#000000;stroke-width:0.8;\" x=\"30.103125\" xlink:href=\"#m3fd542b165\" y=\"65.359219\"/>\n      </g>\n     </g>\n     <g id=\"line2d_20\">\n      <g>\n       <use style=\"stroke:#000000;stroke-width:0.8;\" x=\"225.403125\" xlink:href=\"#m302fe93ba7\" y=\"65.359219\"/>\n      </g>\n     </g>\n     <g id=\"text_10\">\n      <!-- 0.6 -->\n      <g transform=\"translate(7.2 69.158437)scale(0.1 -0.1)\">\n       <use xlink:href=\"#DejaVuSans-30\"/>\n       <use x=\"63.623047\" xlink:href=\"#DejaVuSans-2e\"/>\n       <use x=\"95.410156\" xlink:href=\"#DejaVuSans-36\"/>\n      </g>\n     </g>\n    </g>\n    <g id=\"ytick_5\">\n     <g id=\"line2d_21\">\n      <g>\n       <use style=\"stroke:#000000;stroke-width:0.8;\" x=\"30.103125\" xlink:href=\"#m3fd542b165\" y=\"38.179219\"/>\n      </g>\n     </g>\n     <g id=\"line2d_22\">\n      <g>\n       <use style=\"stroke:#000000;stroke-width:0.8;\" x=\"225.403125\" xlink:href=\"#m302fe93ba7\" y=\"38.179219\"/>\n      </g>\n     </g>\n     <g id=\"text_11\">\n      <!-- 0.8 -->\n      <g transform=\"translate(7.2 41.978437)scale(0.1 -0.1)\">\n       <use xlink:href=\"#DejaVuSans-30\"/>\n       <use x=\"63.623047\" xlink:href=\"#DejaVuSans-2e\"/>\n       <use x=\"95.410156\" xlink:href=\"#DejaVuSans-38\"/>\n      </g>\n     </g>\n    </g>\n    <g id=\"ytick_6\">\n     <g id=\"line2d_23\">\n      <g>\n       <use style=\"stroke:#000000;stroke-width:0.8;\" x=\"30.103125\" xlink:href=\"#m3fd542b165\" y=\"10.999219\"/>\n      </g>\n     </g>\n     <g id=\"line2d_24\">\n      <g>\n       <use style=\"stroke:#000000;stroke-width:0.8;\" x=\"225.403125\" xlink:href=\"#m302fe93ba7\" y=\"10.999219\"/>\n      </g>\n     </g>\n     <g id=\"text_12\">\n      <!-- 1.0 -->\n      <g transform=\"translate(7.2 14.798437)scale(0.1 -0.1)\">\n       <use xlink:href=\"#DejaVuSans-31\"/>\n       <use x=\"63.623047\" xlink:href=\"#DejaVuSans-2e\"/>\n       <use x=\"95.410156\" xlink:href=\"#DejaVuSans-30\"/>\n      </g>\n     </g>\n    </g>\n   </g>\n   <g id=\"line2d_25\">\n    <path clip-path=\"url(#p2165cf31fd)\" d=\"M 30.89963 -1 \nL 31.079625 126.001074 \nL 31.274925 126.001074 \nL 31.470225 126.001074 \nL 31.665525 126.001074 \nL 31.860825 126.001074 \nL 32.056125 126.001074 \nL 32.251425 126.001074 \nL 32.446725 126.001074 \nL 32.642025 126.001074 \nL 32.837325 126.001074 \nL 33.032625 126.001074 \nL 33.227925 126.001074 \nL 33.423225 126.001074 \nL 33.618525 126.001074 \nL 33.813825 126.001074 \nL 34.009125 126.001074 \nL 34.204425 126.001074 \nL 34.399725 126.001074 \nL 34.595025 126.001074 \nL 34.790325 126.001074 \nL 34.985625 126.001074 \nL 35.180925 126.001074 \nL 35.376225 126.001074 \nL 35.571525 126.001074 \nL 35.766825 126.001074 \nL 35.962125 126.001074 \nL 36.157425 126.001074 \nL 36.352725 126.001074 \nL 36.548025 126.001074 \nL 36.743325 126.001074 \nL 36.938625 126.001074 \nL 37.133925 126.001074 \nL 37.329225 126.001074 \nL 37.524525 126.001074 \nL 37.719825 126.001074 \nL 37.915125 126.001074 \nL 38.110425 126.001074 \nL 38.305725 126.001074 \nL 38.501025 126.001074 \nL 38.696325 126.001074 \nL 38.891625 126.001074 \nL 39.086925 126.001074 \nL 39.282225 126.001074 \nL 39.477525 126.001074 \nL 39.672825 126.001074 \n\" style=\"fill:none;stroke:#1f77b4;stroke-linecap:square;stroke-width:1.5;\"/>\n   </g>\n   <g id=\"patch_3\">\n    <path d=\"M 30.103125 146.899219 \nL 30.103125 10.999219 \n\" style=\"fill:none;stroke:#000000;stroke-linecap:square;stroke-linejoin:miter;stroke-width:0.8;\"/>\n   </g>\n   <g id=\"patch_4\">\n    <path d=\"M 225.403125 146.899219 \nL 225.403125 10.999219 \n\" style=\"fill:none;stroke:#000000;stroke-linecap:square;stroke-linejoin:miter;stroke-width:0.8;\"/>\n   </g>\n   <g id=\"patch_5\">\n    <path d=\"M 30.103125 146.899219 \nL 225.403125 146.899219 \n\" style=\"fill:none;stroke:#000000;stroke-linecap:square;stroke-linejoin:miter;stroke-width:0.8;\"/>\n   </g>\n   <g id=\"patch_6\">\n    <path d=\"M 30.103125 10.999219 \nL 225.403125 10.999219 \n\" style=\"fill:none;stroke:#000000;stroke-linecap:square;stroke-linejoin:miter;stroke-width:0.8;\"/>\n   </g>\n   <g id=\"legend_1\">\n    <g id=\"patch_7\">\n     <path d=\"M 159.171875 33.677344 \nL 218.403125 33.677344 \nQ 220.403125 33.677344 220.403125 31.677344 \nL 220.403125 17.999219 \nQ 220.403125 15.999219 218.403125 15.999219 \nL 159.171875 15.999219 \nQ 157.171875 15.999219 157.171875 17.999219 \nL 157.171875 31.677344 \nQ 157.171875 33.677344 159.171875 33.677344 \nz\n\" style=\"fill:#ffffff;opacity:0.8;stroke:#cccccc;stroke-linejoin:miter;\"/>\n    </g>\n    <g id=\"line2d_26\">\n     <path d=\"M 161.171875 24.097656 \nL 181.171875 24.097656 \n\" style=\"fill:none;stroke:#1f77b4;stroke-linecap:square;stroke-width:1.5;\"/>\n    </g>\n    <g id=\"line2d_27\"/>\n    <g id=\"text_13\">\n     <!-- amse -->\n     <g transform=\"translate(189.171875 27.597656)scale(0.1 -0.1)\">\n      <defs>\n       <path d=\"M 2194 1759 \nQ 1497 1759 1228 1600 \nQ 959 1441 959 1056 \nQ 959 750 1161 570 \nQ 1363 391 1709 391 \nQ 2188 391 2477 730 \nQ 2766 1069 2766 1631 \nL 2766 1759 \nL 2194 1759 \nz\nM 3341 1997 \nL 3341 0 \nL 2766 0 \nL 2766 531 \nQ 2569 213 2275 61 \nQ 1981 -91 1556 -91 \nQ 1019 -91 701 211 \nQ 384 513 384 1019 \nQ 384 1609 779 1909 \nQ 1175 2209 1959 2209 \nL 2766 2209 \nL 2766 2266 \nQ 2766 2663 2505 2880 \nQ 2244 3097 1772 3097 \nQ 1472 3097 1187 3025 \nQ 903 2953 641 2809 \nL 641 3341 \nQ 956 3463 1253 3523 \nQ 1550 3584 1831 3584 \nQ 2591 3584 2966 3190 \nQ 3341 2797 3341 1997 \nz\n\" id=\"DejaVuSans-61\" transform=\"scale(0.015625)\"/>\n       <path d=\"M 3328 2828 \nQ 3544 3216 3844 3400 \nQ 4144 3584 4550 3584 \nQ 5097 3584 5394 3201 \nQ 5691 2819 5691 2113 \nL 5691 0 \nL 5113 0 \nL 5113 2094 \nQ 5113 2597 4934 2840 \nQ 4756 3084 4391 3084 \nQ 3944 3084 3684 2787 \nQ 3425 2491 3425 1978 \nL 3425 0 \nL 2847 0 \nL 2847 2094 \nQ 2847 2600 2669 2842 \nQ 2491 3084 2119 3084 \nQ 1678 3084 1418 2786 \nQ 1159 2488 1159 1978 \nL 1159 0 \nL 581 0 \nL 581 3500 \nL 1159 3500 \nL 1159 2956 \nQ 1356 3278 1631 3431 \nQ 1906 3584 2284 3584 \nQ 2666 3584 2933 3390 \nQ 3200 3197 3328 2828 \nz\n\" id=\"DejaVuSans-6d\" transform=\"scale(0.015625)\"/>\n       <path d=\"M 2834 3397 \nL 2834 2853 \nQ 2591 2978 2328 3040 \nQ 2066 3103 1784 3103 \nQ 1356 3103 1142 2972 \nQ 928 2841 928 2578 \nQ 928 2378 1081 2264 \nQ 1234 2150 1697 2047 \nL 1894 2003 \nQ 2506 1872 2764 1633 \nQ 3022 1394 3022 966 \nQ 3022 478 2636 193 \nQ 2250 -91 1575 -91 \nQ 1294 -91 989 -36 \nQ 684 19 347 128 \nL 347 722 \nQ 666 556 975 473 \nQ 1284 391 1588 391 \nQ 1994 391 2212 530 \nQ 2431 669 2431 922 \nQ 2431 1156 2273 1281 \nQ 2116 1406 1581 1522 \nL 1381 1569 \nQ 847 1681 609 1914 \nQ 372 2147 372 2553 \nQ 372 3047 722 3315 \nQ 1072 3584 1716 3584 \nQ 2034 3584 2315 3537 \nQ 2597 3491 2834 3397 \nz\n\" id=\"DejaVuSans-73\" transform=\"scale(0.015625)\"/>\n       <path d=\"M 3597 1894 \nL 3597 1613 \nL 953 1613 \nQ 991 1019 1311 708 \nQ 1631 397 2203 397 \nQ 2534 397 2845 478 \nQ 3156 559 3463 722 \nL 3463 178 \nQ 3153 47 2828 -22 \nQ 2503 -91 2169 -91 \nQ 1331 -91 842 396 \nQ 353 884 353 1716 \nQ 353 2575 817 3079 \nQ 1281 3584 2069 3584 \nQ 2775 3584 3186 3129 \nQ 3597 2675 3597 1894 \nz\nM 3022 2063 \nQ 3016 2534 2758 2815 \nQ 2500 3097 2075 3097 \nQ 1594 3097 1305 2825 \nQ 1016 2553 972 2059 \nL 3022 2063 \nz\n\" id=\"DejaVuSans-65\" transform=\"scale(0.015625)\"/>\n      </defs>\n      <use xlink:href=\"#DejaVuSans-61\"/>\n      <use x=\"61.279297\" xlink:href=\"#DejaVuSans-6d\"/>\n      <use x=\"158.691406\" xlink:href=\"#DejaVuSans-73\"/>\n      <use x=\"210.791016\" xlink:href=\"#DejaVuSans-65\"/>\n     </g>\n    </g>\n   </g>\n  </g>\n </g>\n <defs>\n  <clipPath id=\"p2165cf31fd\">\n   <rect height=\"135.9\" width=\"195.3\" x=\"30.103125\" y=\"10.999219\"/>\n  </clipPath>\n </defs>\n</svg>\n"
     },
     "metadata": {
      "needs_background": "light"
     },
     "output_type": "display_data"
    }
   ],
   "source": [
    "from XGBoostRegressor import XGBoostRegressor\n",
    "\n",
    "import sklearn.datasets\n",
    "dataset = sklearn.datasets.load_boston()\n",
    "data, target = dataset['data'], dataset['target']\n",
    "model = XGBoostRegressor(num_iters=1000, num_bins=10, lr=1,\n",
    "                         alpha=0.01, gamma=0.01,\n",
    "                         max_depth=10, anim=True)\n",
    "model.fit(data, target)\n",
    "result = model.transform(data)"
   ]
  },
  {
   "cell_type": "code",
   "execution_count": null,
   "outputs": [],
   "source": [],
   "metadata": {
    "collapsed": false,
    "pycharm": {
     "name": "#%%\n"
    }
   }
  }
 ],
 "metadata": {
  "interpreter": {
   "hash": "370409bf175e0214a371e09d971865f1613c0200bc77bfed60a4d8d0b26356e1"
  },
  "kernelspec": {
   "name": "python3",
   "language": "python",
   "display_name": "Python 3"
  },
  "language_info": {
   "codemirror_mode": {
    "name": "ipython",
    "version": 3
   },
   "file_extension": ".py",
   "mimetype": "text/x-python",
   "name": "python",
   "nbconvert_exporter": "python",
   "pygments_lexer": "ipython3",
   "version": "3.7.10"
  }
 },
 "nbformat": 4,
 "nbformat_minor": 0
}